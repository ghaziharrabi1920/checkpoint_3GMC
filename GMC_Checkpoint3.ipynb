{
 "cells": [
  {
   "cell_type": "markdown",
   "metadata": {},
   "source": [
    "# Checkpoint 3"
   ]
  },
  {
   "cell_type": "markdown",
   "metadata": {},
   "source": [
    "## Part 1 : Preprocessing part"
   ]
  },
  {
   "cell_type": "markdown",
   "metadata": {},
   "source": [
    "### A - Explore Data "
   ]
  },
  {
   "cell_type": "code",
   "execution_count": 1,
   "metadata": {},
   "outputs": [],
   "source": [
    "#Import Libraries\n",
    "\n",
    "import matplotlib.pyplot as plt\n",
    "import seaborn as sns\n",
    "from sklearn.preprocessing import LabelEncoder\n",
    "from sklearn import preprocessing\n",
    "import numpy as np\n",
    "import pandas as pd"
   ]
  },
  {
   "cell_type": "code",
   "execution_count": 2,
   "metadata": {},
   "outputs": [
    {
     "data": {
      "text/html": [
       "<div>\n",
       "<style scoped>\n",
       "    .dataframe tbody tr th:only-of-type {\n",
       "        vertical-align: middle;\n",
       "    }\n",
       "\n",
       "    .dataframe tbody tr th {\n",
       "        vertical-align: top;\n",
       "    }\n",
       "\n",
       "    .dataframe thead th {\n",
       "        text-align: right;\n",
       "    }\n",
       "</style>\n",
       "<table border=\"1\" class=\"dataframe\">\n",
       "  <thead>\n",
       "    <tr style=\"text-align: right;\">\n",
       "      <th></th>\n",
       "      <th>PassengerId</th>\n",
       "      <th>Survived</th>\n",
       "      <th>Pclass</th>\n",
       "      <th>Name</th>\n",
       "      <th>Sex</th>\n",
       "      <th>Age</th>\n",
       "      <th>SibSp</th>\n",
       "      <th>Parch</th>\n",
       "      <th>Ticket</th>\n",
       "      <th>Fare</th>\n",
       "      <th>Cabin</th>\n",
       "      <th>Embarked</th>\n",
       "    </tr>\n",
       "  </thead>\n",
       "  <tbody>\n",
       "    <tr>\n",
       "      <th>0</th>\n",
       "      <td>343</td>\n",
       "      <td>No</td>\n",
       "      <td>2</td>\n",
       "      <td>Collander, Mr. Erik Gustaf</td>\n",
       "      <td>male</td>\n",
       "      <td>28.0</td>\n",
       "      <td>0</td>\n",
       "      <td>0</td>\n",
       "      <td>248740</td>\n",
       "      <td>13.0000</td>\n",
       "      <td>NaN</td>\n",
       "      <td>S</td>\n",
       "    </tr>\n",
       "    <tr>\n",
       "      <th>1</th>\n",
       "      <td>76</td>\n",
       "      <td>No</td>\n",
       "      <td>3</td>\n",
       "      <td>Moen, Mr. Sigurd Hansen</td>\n",
       "      <td>male</td>\n",
       "      <td>25.0</td>\n",
       "      <td>0</td>\n",
       "      <td>0</td>\n",
       "      <td>348123</td>\n",
       "      <td>7.6500</td>\n",
       "      <td>F G73</td>\n",
       "      <td>S</td>\n",
       "    </tr>\n",
       "    <tr>\n",
       "      <th>2</th>\n",
       "      <td>641</td>\n",
       "      <td>No</td>\n",
       "      <td>3</td>\n",
       "      <td>Jensen, Mr. Hans Peder</td>\n",
       "      <td>male</td>\n",
       "      <td>20.0</td>\n",
       "      <td>0</td>\n",
       "      <td>0</td>\n",
       "      <td>350050</td>\n",
       "      <td>7.8542</td>\n",
       "      <td>NaN</td>\n",
       "      <td>S</td>\n",
       "    </tr>\n",
       "    <tr>\n",
       "      <th>3</th>\n",
       "      <td>568</td>\n",
       "      <td>No</td>\n",
       "      <td>3</td>\n",
       "      <td>Palsson, Mrs. Nils (Alma Cornelia Berglund)</td>\n",
       "      <td>female</td>\n",
       "      <td>29.0</td>\n",
       "      <td>0</td>\n",
       "      <td>4</td>\n",
       "      <td>349909</td>\n",
       "      <td>21.0750</td>\n",
       "      <td>NaN</td>\n",
       "      <td>S</td>\n",
       "    </tr>\n",
       "    <tr>\n",
       "      <th>4</th>\n",
       "      <td>672</td>\n",
       "      <td>No</td>\n",
       "      <td>1</td>\n",
       "      <td>Davidson, Mr. Thornton</td>\n",
       "      <td>male</td>\n",
       "      <td>31.0</td>\n",
       "      <td>1</td>\n",
       "      <td>0</td>\n",
       "      <td>F.C. 12750</td>\n",
       "      <td>52.0000</td>\n",
       "      <td>B71</td>\n",
       "      <td>S</td>\n",
       "    </tr>\n",
       "  </tbody>\n",
       "</table>\n",
       "</div>"
      ],
      "text/plain": [
       "   PassengerId Survived  Pclass                                         Name  \\\n",
       "0          343       No       2                   Collander, Mr. Erik Gustaf   \n",
       "1           76       No       3                      Moen, Mr. Sigurd Hansen   \n",
       "2          641       No       3                       Jensen, Mr. Hans Peder   \n",
       "3          568       No       3  Palsson, Mrs. Nils (Alma Cornelia Berglund)   \n",
       "4          672       No       1                       Davidson, Mr. Thornton   \n",
       "\n",
       "      Sex   Age  SibSp  Parch      Ticket     Fare  Cabin Embarked  \n",
       "0    male  28.0      0      0      248740  13.0000    NaN        S  \n",
       "1    male  25.0      0      0      348123   7.6500  F G73        S  \n",
       "2    male  20.0      0      0      350050   7.8542    NaN        S  \n",
       "3  female  29.0      0      4      349909  21.0750    NaN        S  \n",
       "4    male  31.0      1      0  F.C. 12750  52.0000    B71        S  "
      ]
     },
     "execution_count": 2,
     "metadata": {},
     "output_type": "execute_result"
    }
   ],
   "source": [
    "#Reading File\n",
    "data = pd.read_csv(r'C:\\Users\\stesa\\Desktop\\GoMyCode\\titanic-passengers.csv',sep=';')\n",
    "\n",
    "#Put it in DataFrame\n",
    "data_frame = pd.DataFrame(data)\n",
    "\n",
    "#Display data\n",
    "data_frame.head()"
   ]
  },
  {
   "cell_type": "code",
   "execution_count": 3,
   "metadata": {},
   "outputs": [
    {
     "data": {
      "text/plain": [
       "(891, 12)"
      ]
     },
     "execution_count": 3,
     "metadata": {},
     "output_type": "execute_result"
    }
   ],
   "source": [
    "#Data Length\n",
    "data_frame.shape"
   ]
  },
  {
   "cell_type": "code",
   "execution_count": 4,
   "metadata": {
    "scrolled": true
   },
   "outputs": [
    {
     "data": {
      "text/html": [
       "<div>\n",
       "<style scoped>\n",
       "    .dataframe tbody tr th:only-of-type {\n",
       "        vertical-align: middle;\n",
       "    }\n",
       "\n",
       "    .dataframe tbody tr th {\n",
       "        vertical-align: top;\n",
       "    }\n",
       "\n",
       "    .dataframe thead th {\n",
       "        text-align: right;\n",
       "    }\n",
       "</style>\n",
       "<table border=\"1\" class=\"dataframe\">\n",
       "  <thead>\n",
       "    <tr style=\"text-align: right;\">\n",
       "      <th></th>\n",
       "      <th>PassengerId</th>\n",
       "      <th>Pclass</th>\n",
       "      <th>Age</th>\n",
       "      <th>SibSp</th>\n",
       "      <th>Parch</th>\n",
       "      <th>Fare</th>\n",
       "    </tr>\n",
       "  </thead>\n",
       "  <tbody>\n",
       "    <tr>\n",
       "      <th>count</th>\n",
       "      <td>891.000000</td>\n",
       "      <td>891.000000</td>\n",
       "      <td>714.000000</td>\n",
       "      <td>891.000000</td>\n",
       "      <td>891.000000</td>\n",
       "      <td>891.000000</td>\n",
       "    </tr>\n",
       "    <tr>\n",
       "      <th>mean</th>\n",
       "      <td>446.000000</td>\n",
       "      <td>2.308642</td>\n",
       "      <td>29.699118</td>\n",
       "      <td>0.523008</td>\n",
       "      <td>0.381594</td>\n",
       "      <td>32.204208</td>\n",
       "    </tr>\n",
       "    <tr>\n",
       "      <th>std</th>\n",
       "      <td>257.353842</td>\n",
       "      <td>0.836071</td>\n",
       "      <td>14.526497</td>\n",
       "      <td>1.102743</td>\n",
       "      <td>0.806057</td>\n",
       "      <td>49.693429</td>\n",
       "    </tr>\n",
       "    <tr>\n",
       "      <th>min</th>\n",
       "      <td>1.000000</td>\n",
       "      <td>1.000000</td>\n",
       "      <td>0.420000</td>\n",
       "      <td>0.000000</td>\n",
       "      <td>0.000000</td>\n",
       "      <td>0.000000</td>\n",
       "    </tr>\n",
       "    <tr>\n",
       "      <th>25%</th>\n",
       "      <td>223.500000</td>\n",
       "      <td>2.000000</td>\n",
       "      <td>20.125000</td>\n",
       "      <td>0.000000</td>\n",
       "      <td>0.000000</td>\n",
       "      <td>7.910400</td>\n",
       "    </tr>\n",
       "    <tr>\n",
       "      <th>50%</th>\n",
       "      <td>446.000000</td>\n",
       "      <td>3.000000</td>\n",
       "      <td>28.000000</td>\n",
       "      <td>0.000000</td>\n",
       "      <td>0.000000</td>\n",
       "      <td>14.454200</td>\n",
       "    </tr>\n",
       "    <tr>\n",
       "      <th>75%</th>\n",
       "      <td>668.500000</td>\n",
       "      <td>3.000000</td>\n",
       "      <td>38.000000</td>\n",
       "      <td>1.000000</td>\n",
       "      <td>0.000000</td>\n",
       "      <td>31.000000</td>\n",
       "    </tr>\n",
       "    <tr>\n",
       "      <th>max</th>\n",
       "      <td>891.000000</td>\n",
       "      <td>3.000000</td>\n",
       "      <td>80.000000</td>\n",
       "      <td>8.000000</td>\n",
       "      <td>6.000000</td>\n",
       "      <td>512.329200</td>\n",
       "    </tr>\n",
       "  </tbody>\n",
       "</table>\n",
       "</div>"
      ],
      "text/plain": [
       "       PassengerId      Pclass         Age       SibSp       Parch        Fare\n",
       "count   891.000000  891.000000  714.000000  891.000000  891.000000  891.000000\n",
       "mean    446.000000    2.308642   29.699118    0.523008    0.381594   32.204208\n",
       "std     257.353842    0.836071   14.526497    1.102743    0.806057   49.693429\n",
       "min       1.000000    1.000000    0.420000    0.000000    0.000000    0.000000\n",
       "25%     223.500000    2.000000   20.125000    0.000000    0.000000    7.910400\n",
       "50%     446.000000    3.000000   28.000000    0.000000    0.000000   14.454200\n",
       "75%     668.500000    3.000000   38.000000    1.000000    0.000000   31.000000\n",
       "max     891.000000    3.000000   80.000000    8.000000    6.000000  512.329200"
      ]
     },
     "execution_count": 4,
     "metadata": {},
     "output_type": "execute_result"
    }
   ],
   "source": [
    "#Data description\n",
    "data_frame.describe()"
   ]
  },
  {
   "cell_type": "code",
   "execution_count": 5,
   "metadata": {},
   "outputs": [
    {
     "data": {
      "text/plain": [
       "count    714.000000\n",
       "mean      29.699118\n",
       "std       14.526497\n",
       "min        0.420000\n",
       "25%       20.125000\n",
       "50%       28.000000\n",
       "75%       38.000000\n",
       "max       80.000000\n",
       "Name: Age, dtype: float64"
      ]
     },
     "execution_count": 5,
     "metadata": {},
     "output_type": "execute_result"
    }
   ],
   "source": [
    "data_frame['Age'].describe()"
   ]
  },
  {
   "cell_type": "code",
   "execution_count": 6,
   "metadata": {},
   "outputs": [
    {
     "data": {
      "text/html": [
       "<div>\n",
       "<style scoped>\n",
       "    .dataframe tbody tr th:only-of-type {\n",
       "        vertical-align: middle;\n",
       "    }\n",
       "\n",
       "    .dataframe tbody tr th {\n",
       "        vertical-align: top;\n",
       "    }\n",
       "\n",
       "    .dataframe thead th {\n",
       "        text-align: right;\n",
       "    }\n",
       "</style>\n",
       "<table border=\"1\" class=\"dataframe\">\n",
       "  <thead>\n",
       "    <tr style=\"text-align: right;\">\n",
       "      <th></th>\n",
       "      <th>PassengerId</th>\n",
       "      <th>Survived</th>\n",
       "      <th>Pclass</th>\n",
       "      <th>Name</th>\n",
       "      <th>Sex</th>\n",
       "      <th>Age</th>\n",
       "      <th>SibSp</th>\n",
       "      <th>Parch</th>\n",
       "      <th>Ticket</th>\n",
       "      <th>Fare</th>\n",
       "      <th>Cabin</th>\n",
       "      <th>Embarked</th>\n",
       "    </tr>\n",
       "  </thead>\n",
       "  <tbody>\n",
       "    <tr>\n",
       "      <th>0</th>\n",
       "      <td>343</td>\n",
       "      <td>No</td>\n",
       "      <td>2</td>\n",
       "      <td>Collander, Mr. Erik Gustaf</td>\n",
       "      <td>male</td>\n",
       "      <td>28.0</td>\n",
       "      <td>0</td>\n",
       "      <td>0</td>\n",
       "      <td>248740</td>\n",
       "      <td>13.0000</td>\n",
       "      <td>NaN</td>\n",
       "      <td>S</td>\n",
       "    </tr>\n",
       "    <tr>\n",
       "      <th>1</th>\n",
       "      <td>76</td>\n",
       "      <td>No</td>\n",
       "      <td>3</td>\n",
       "      <td>Moen, Mr. Sigurd Hansen</td>\n",
       "      <td>male</td>\n",
       "      <td>25.0</td>\n",
       "      <td>0</td>\n",
       "      <td>0</td>\n",
       "      <td>348123</td>\n",
       "      <td>7.6500</td>\n",
       "      <td>F G73</td>\n",
       "      <td>S</td>\n",
       "    </tr>\n",
       "    <tr>\n",
       "      <th>2</th>\n",
       "      <td>641</td>\n",
       "      <td>No</td>\n",
       "      <td>3</td>\n",
       "      <td>Jensen, Mr. Hans Peder</td>\n",
       "      <td>male</td>\n",
       "      <td>20.0</td>\n",
       "      <td>0</td>\n",
       "      <td>0</td>\n",
       "      <td>350050</td>\n",
       "      <td>7.8542</td>\n",
       "      <td>NaN</td>\n",
       "      <td>S</td>\n",
       "    </tr>\n",
       "    <tr>\n",
       "      <th>3</th>\n",
       "      <td>568</td>\n",
       "      <td>No</td>\n",
       "      <td>3</td>\n",
       "      <td>Palsson, Mrs. Nils (Alma Cornelia Berglund)</td>\n",
       "      <td>female</td>\n",
       "      <td>29.0</td>\n",
       "      <td>0</td>\n",
       "      <td>4</td>\n",
       "      <td>349909</td>\n",
       "      <td>21.0750</td>\n",
       "      <td>NaN</td>\n",
       "      <td>S</td>\n",
       "    </tr>\n",
       "    <tr>\n",
       "      <th>4</th>\n",
       "      <td>672</td>\n",
       "      <td>No</td>\n",
       "      <td>1</td>\n",
       "      <td>Davidson, Mr. Thornton</td>\n",
       "      <td>male</td>\n",
       "      <td>31.0</td>\n",
       "      <td>1</td>\n",
       "      <td>0</td>\n",
       "      <td>F.C. 12750</td>\n",
       "      <td>52.0000</td>\n",
       "      <td>B71</td>\n",
       "      <td>S</td>\n",
       "    </tr>\n",
       "    <tr>\n",
       "      <th>5</th>\n",
       "      <td>105</td>\n",
       "      <td>No</td>\n",
       "      <td>3</td>\n",
       "      <td>Gustafsson, Mr. Anders Vilhelm</td>\n",
       "      <td>male</td>\n",
       "      <td>37.0</td>\n",
       "      <td>2</td>\n",
       "      <td>0</td>\n",
       "      <td>3101276</td>\n",
       "      <td>7.9250</td>\n",
       "      <td>NaN</td>\n",
       "      <td>S</td>\n",
       "    </tr>\n",
       "    <tr>\n",
       "      <th>6</th>\n",
       "      <td>576</td>\n",
       "      <td>No</td>\n",
       "      <td>3</td>\n",
       "      <td>Patchett, Mr. George</td>\n",
       "      <td>male</td>\n",
       "      <td>19.0</td>\n",
       "      <td>0</td>\n",
       "      <td>0</td>\n",
       "      <td>358585</td>\n",
       "      <td>14.5000</td>\n",
       "      <td>NaN</td>\n",
       "      <td>S</td>\n",
       "    </tr>\n",
       "    <tr>\n",
       "      <th>7</th>\n",
       "      <td>382</td>\n",
       "      <td>Yes</td>\n",
       "      <td>3</td>\n",
       "      <td>Nakid, Miss. Maria (\"Mary\")</td>\n",
       "      <td>female</td>\n",
       "      <td>1.0</td>\n",
       "      <td>0</td>\n",
       "      <td>2</td>\n",
       "      <td>2653</td>\n",
       "      <td>15.7417</td>\n",
       "      <td>NaN</td>\n",
       "      <td>C</td>\n",
       "    </tr>\n",
       "    <tr>\n",
       "      <th>8</th>\n",
       "      <td>228</td>\n",
       "      <td>No</td>\n",
       "      <td>3</td>\n",
       "      <td>Lovell, Mr. John Hall (\"Henry\")</td>\n",
       "      <td>male</td>\n",
       "      <td>20.5</td>\n",
       "      <td>0</td>\n",
       "      <td>0</td>\n",
       "      <td>A/5 21173</td>\n",
       "      <td>7.2500</td>\n",
       "      <td>NaN</td>\n",
       "      <td>S</td>\n",
       "    </tr>\n",
       "    <tr>\n",
       "      <th>9</th>\n",
       "      <td>433</td>\n",
       "      <td>Yes</td>\n",
       "      <td>2</td>\n",
       "      <td>Louch, Mrs. Charles Alexander (Alice Adelaide ...</td>\n",
       "      <td>female</td>\n",
       "      <td>42.0</td>\n",
       "      <td>1</td>\n",
       "      <td>0</td>\n",
       "      <td>SC/AH 3085</td>\n",
       "      <td>26.0000</td>\n",
       "      <td>NaN</td>\n",
       "      <td>S</td>\n",
       "    </tr>\n",
       "  </tbody>\n",
       "</table>\n",
       "</div>"
      ],
      "text/plain": [
       "   PassengerId Survived  Pclass  \\\n",
       "0          343       No       2   \n",
       "1           76       No       3   \n",
       "2          641       No       3   \n",
       "3          568       No       3   \n",
       "4          672       No       1   \n",
       "5          105       No       3   \n",
       "6          576       No       3   \n",
       "7          382      Yes       3   \n",
       "8          228       No       3   \n",
       "9          433      Yes       2   \n",
       "\n",
       "                                                Name     Sex   Age  SibSp  \\\n",
       "0                         Collander, Mr. Erik Gustaf    male  28.0      0   \n",
       "1                            Moen, Mr. Sigurd Hansen    male  25.0      0   \n",
       "2                             Jensen, Mr. Hans Peder    male  20.0      0   \n",
       "3        Palsson, Mrs. Nils (Alma Cornelia Berglund)  female  29.0      0   \n",
       "4                             Davidson, Mr. Thornton    male  31.0      1   \n",
       "5                     Gustafsson, Mr. Anders Vilhelm    male  37.0      2   \n",
       "6                               Patchett, Mr. George    male  19.0      0   \n",
       "7                        Nakid, Miss. Maria (\"Mary\")  female   1.0      0   \n",
       "8                    Lovell, Mr. John Hall (\"Henry\")    male  20.5      0   \n",
       "9  Louch, Mrs. Charles Alexander (Alice Adelaide ...  female  42.0      1   \n",
       "\n",
       "   Parch      Ticket     Fare  Cabin Embarked  \n",
       "0      0      248740  13.0000    NaN        S  \n",
       "1      0      348123   7.6500  F G73        S  \n",
       "2      0      350050   7.8542    NaN        S  \n",
       "3      4      349909  21.0750    NaN        S  \n",
       "4      0  F.C. 12750  52.0000    B71        S  \n",
       "5      0     3101276   7.9250    NaN        S  \n",
       "6      0      358585  14.5000    NaN        S  \n",
       "7      2        2653  15.7417    NaN        C  \n",
       "8      0   A/5 21173   7.2500    NaN        S  \n",
       "9      0  SC/AH 3085  26.0000    NaN        S  "
      ]
     },
     "execution_count": 6,
     "metadata": {},
     "output_type": "execute_result"
    }
   ],
   "source": [
    "#Display first 10 lines\n",
    "data_frame.head(10)"
   ]
  },
  {
   "cell_type": "code",
   "execution_count": 7,
   "metadata": {},
   "outputs": [
    {
     "data": {
      "text/html": [
       "<div>\n",
       "<style scoped>\n",
       "    .dataframe tbody tr th:only-of-type {\n",
       "        vertical-align: middle;\n",
       "    }\n",
       "\n",
       "    .dataframe tbody tr th {\n",
       "        vertical-align: top;\n",
       "    }\n",
       "\n",
       "    .dataframe thead th {\n",
       "        text-align: right;\n",
       "    }\n",
       "</style>\n",
       "<table border=\"1\" class=\"dataframe\">\n",
       "  <thead>\n",
       "    <tr style=\"text-align: right;\">\n",
       "      <th></th>\n",
       "      <th>PassengerId</th>\n",
       "      <th>Survived</th>\n",
       "      <th>Pclass</th>\n",
       "      <th>Name</th>\n",
       "      <th>Sex</th>\n",
       "      <th>Age</th>\n",
       "      <th>SibSp</th>\n",
       "      <th>Parch</th>\n",
       "      <th>Ticket</th>\n",
       "      <th>Fare</th>\n",
       "      <th>Cabin</th>\n",
       "      <th>Embarked</th>\n",
       "    </tr>\n",
       "  </thead>\n",
       "  <tbody>\n",
       "    <tr>\n",
       "      <th>881</th>\n",
       "      <td>699</td>\n",
       "      <td>No</td>\n",
       "      <td>1</td>\n",
       "      <td>Thayer, Mr. John Borland</td>\n",
       "      <td>male</td>\n",
       "      <td>49.0</td>\n",
       "      <td>1</td>\n",
       "      <td>1</td>\n",
       "      <td>17421</td>\n",
       "      <td>110.8833</td>\n",
       "      <td>C68</td>\n",
       "      <td>C</td>\n",
       "    </tr>\n",
       "    <tr>\n",
       "      <th>882</th>\n",
       "      <td>775</td>\n",
       "      <td>Yes</td>\n",
       "      <td>2</td>\n",
       "      <td>Hocking, Mrs. Elizabeth (Eliza Needs)</td>\n",
       "      <td>female</td>\n",
       "      <td>54.0</td>\n",
       "      <td>1</td>\n",
       "      <td>3</td>\n",
       "      <td>29105</td>\n",
       "      <td>23.0000</td>\n",
       "      <td>NaN</td>\n",
       "      <td>S</td>\n",
       "    </tr>\n",
       "    <tr>\n",
       "      <th>883</th>\n",
       "      <td>809</td>\n",
       "      <td>No</td>\n",
       "      <td>2</td>\n",
       "      <td>Meyer, Mr. August</td>\n",
       "      <td>male</td>\n",
       "      <td>39.0</td>\n",
       "      <td>0</td>\n",
       "      <td>0</td>\n",
       "      <td>248723</td>\n",
       "      <td>13.0000</td>\n",
       "      <td>NaN</td>\n",
       "      <td>S</td>\n",
       "    </tr>\n",
       "    <tr>\n",
       "      <th>884</th>\n",
       "      <td>278</td>\n",
       "      <td>No</td>\n",
       "      <td>2</td>\n",
       "      <td>Parkes, Mr. Francis \"Frank\"</td>\n",
       "      <td>male</td>\n",
       "      <td>NaN</td>\n",
       "      <td>0</td>\n",
       "      <td>0</td>\n",
       "      <td>239853</td>\n",
       "      <td>0.0000</td>\n",
       "      <td>NaN</td>\n",
       "      <td>S</td>\n",
       "    </tr>\n",
       "    <tr>\n",
       "      <th>885</th>\n",
       "      <td>150</td>\n",
       "      <td>No</td>\n",
       "      <td>2</td>\n",
       "      <td>Byles, Rev. Thomas Roussel Davids</td>\n",
       "      <td>male</td>\n",
       "      <td>42.0</td>\n",
       "      <td>0</td>\n",
       "      <td>0</td>\n",
       "      <td>244310</td>\n",
       "      <td>13.0000</td>\n",
       "      <td>NaN</td>\n",
       "      <td>S</td>\n",
       "    </tr>\n",
       "    <tr>\n",
       "      <th>886</th>\n",
       "      <td>10</td>\n",
       "      <td>Yes</td>\n",
       "      <td>2</td>\n",
       "      <td>Nasser, Mrs. Nicholas (Adele Achem)</td>\n",
       "      <td>female</td>\n",
       "      <td>14.0</td>\n",
       "      <td>1</td>\n",
       "      <td>0</td>\n",
       "      <td>237736</td>\n",
       "      <td>30.0708</td>\n",
       "      <td>NaN</td>\n",
       "      <td>C</td>\n",
       "    </tr>\n",
       "    <tr>\n",
       "      <th>887</th>\n",
       "      <td>61</td>\n",
       "      <td>No</td>\n",
       "      <td>3</td>\n",
       "      <td>Sirayanian, Mr. Orsen</td>\n",
       "      <td>male</td>\n",
       "      <td>22.0</td>\n",
       "      <td>0</td>\n",
       "      <td>0</td>\n",
       "      <td>2669</td>\n",
       "      <td>7.2292</td>\n",
       "      <td>NaN</td>\n",
       "      <td>C</td>\n",
       "    </tr>\n",
       "    <tr>\n",
       "      <th>888</th>\n",
       "      <td>535</td>\n",
       "      <td>No</td>\n",
       "      <td>3</td>\n",
       "      <td>Cacic, Miss. Marija</td>\n",
       "      <td>female</td>\n",
       "      <td>30.0</td>\n",
       "      <td>0</td>\n",
       "      <td>0</td>\n",
       "      <td>315084</td>\n",
       "      <td>8.6625</td>\n",
       "      <td>NaN</td>\n",
       "      <td>S</td>\n",
       "    </tr>\n",
       "    <tr>\n",
       "      <th>889</th>\n",
       "      <td>102</td>\n",
       "      <td>No</td>\n",
       "      <td>3</td>\n",
       "      <td>Petroff, Mr. Pastcho (\"Pentcho\")</td>\n",
       "      <td>male</td>\n",
       "      <td>NaN</td>\n",
       "      <td>0</td>\n",
       "      <td>0</td>\n",
       "      <td>349215</td>\n",
       "      <td>7.8958</td>\n",
       "      <td>NaN</td>\n",
       "      <td>S</td>\n",
       "    </tr>\n",
       "    <tr>\n",
       "      <th>890</th>\n",
       "      <td>428</td>\n",
       "      <td>Yes</td>\n",
       "      <td>2</td>\n",
       "      <td>Phillips, Miss. Kate Florence (\"Mrs Kate Louis...</td>\n",
       "      <td>female</td>\n",
       "      <td>19.0</td>\n",
       "      <td>0</td>\n",
       "      <td>0</td>\n",
       "      <td>250655</td>\n",
       "      <td>26.0000</td>\n",
       "      <td>NaN</td>\n",
       "      <td>S</td>\n",
       "    </tr>\n",
       "  </tbody>\n",
       "</table>\n",
       "</div>"
      ],
      "text/plain": [
       "     PassengerId Survived  Pclass  \\\n",
       "881          699       No       1   \n",
       "882          775      Yes       2   \n",
       "883          809       No       2   \n",
       "884          278       No       2   \n",
       "885          150       No       2   \n",
       "886           10      Yes       2   \n",
       "887           61       No       3   \n",
       "888          535       No       3   \n",
       "889          102       No       3   \n",
       "890          428      Yes       2   \n",
       "\n",
       "                                                  Name     Sex   Age  SibSp  \\\n",
       "881                           Thayer, Mr. John Borland    male  49.0      1   \n",
       "882              Hocking, Mrs. Elizabeth (Eliza Needs)  female  54.0      1   \n",
       "883                                  Meyer, Mr. August    male  39.0      0   \n",
       "884                        Parkes, Mr. Francis \"Frank\"    male   NaN      0   \n",
       "885                  Byles, Rev. Thomas Roussel Davids    male  42.0      0   \n",
       "886                Nasser, Mrs. Nicholas (Adele Achem)  female  14.0      1   \n",
       "887                              Sirayanian, Mr. Orsen    male  22.0      0   \n",
       "888                                Cacic, Miss. Marija  female  30.0      0   \n",
       "889                   Petroff, Mr. Pastcho (\"Pentcho\")    male   NaN      0   \n",
       "890  Phillips, Miss. Kate Florence (\"Mrs Kate Louis...  female  19.0      0   \n",
       "\n",
       "     Parch  Ticket      Fare Cabin Embarked  \n",
       "881      1   17421  110.8833   C68        C  \n",
       "882      3   29105   23.0000   NaN        S  \n",
       "883      0  248723   13.0000   NaN        S  \n",
       "884      0  239853    0.0000   NaN        S  \n",
       "885      0  244310   13.0000   NaN        S  \n",
       "886      0  237736   30.0708   NaN        C  \n",
       "887      0    2669    7.2292   NaN        C  \n",
       "888      0  315084    8.6625   NaN        S  \n",
       "889      0  349215    7.8958   NaN        S  \n",
       "890      0  250655   26.0000   NaN        S  "
      ]
     },
     "execution_count": 7,
     "metadata": {},
     "output_type": "execute_result"
    }
   ],
   "source": [
    "#Display last 10 lines\n",
    "data_frame.tail(10)"
   ]
  },
  {
   "cell_type": "code",
   "execution_count": 8,
   "metadata": {
    "scrolled": true
   },
   "outputs": [
    {
     "name": "stdout",
     "output_type": "stream",
     "text": [
      "<class 'pandas.core.frame.DataFrame'>\n",
      "RangeIndex: 891 entries, 0 to 890\n",
      "Data columns (total 12 columns):\n",
      " #   Column       Non-Null Count  Dtype  \n",
      "---  ------       --------------  -----  \n",
      " 0   PassengerId  891 non-null    int64  \n",
      " 1   Survived     891 non-null    object \n",
      " 2   Pclass       891 non-null    int64  \n",
      " 3   Name         891 non-null    object \n",
      " 4   Sex          891 non-null    object \n",
      " 5   Age          714 non-null    float64\n",
      " 6   SibSp        891 non-null    int64  \n",
      " 7   Parch        891 non-null    int64  \n",
      " 8   Ticket       891 non-null    object \n",
      " 9   Fare         891 non-null    float64\n",
      " 10  Cabin        204 non-null    object \n",
      " 11  Embarked     889 non-null    object \n",
      "dtypes: float64(2), int64(4), object(6)\n",
      "memory usage: 83.7+ KB\n"
     ]
    }
   ],
   "source": [
    "#Columns info\n",
    "data_frame.info()"
   ]
  },
  {
   "cell_type": "code",
   "execution_count": 9,
   "metadata": {},
   "outputs": [
    {
     "data": {
      "text/plain": [
       "count    714.000000\n",
       "mean      29.699118\n",
       "std       14.526497\n",
       "min        0.420000\n",
       "25%       20.125000\n",
       "50%       28.000000\n",
       "75%       38.000000\n",
       "max       80.000000\n",
       "Name: Age, dtype: float64"
      ]
     },
     "execution_count": 9,
     "metadata": {},
     "output_type": "execute_result"
    }
   ],
   "source": [
    "#Describe Age column\n",
    "data_frame['Age'].describe()\n"
   ]
  },
  {
   "cell_type": "code",
   "execution_count": 10,
   "metadata": {
    "scrolled": true
   },
   "outputs": [
    {
     "data": {
      "text/plain": [
       "No     549\n",
       "Yes    342\n",
       "Name: Survived, dtype: int64"
      ]
     },
     "execution_count": 10,
     "metadata": {},
     "output_type": "execute_result"
    }
   ],
   "source": [
    "#Describe Output (Target) Column\n",
    "data_frame['Survived'].value_counts()"
   ]
  },
  {
   "cell_type": "markdown",
   "metadata": {},
   "source": [
    "### B - Data Cleaning"
   ]
  },
  {
   "cell_type": "code",
   "execution_count": 11,
   "metadata": {},
   "outputs": [
    {
     "data": {
      "image/png": "[encoded data removed]",
      "text/plain": [
       "<Figure size 648x360 with 1 Axes>"
      ]
     },
     "metadata": {
      "needs_background": "light"
     },
     "output_type": "display_data"
    }
   ],
   "source": [
    "#Finding Missing Values\n",
    "\n",
    "fig, ax = plt.subplots(figsize=(9,5))\n",
    "sns.heatmap(data.isnull(), cbar=False, cmap=\"YlGnBu_r\")\n",
    "plt.show()"
   ]
  },
  {
   "cell_type": "code",
   "execution_count": 12,
   "metadata": {},
   "outputs": [
    {
     "data": {
      "text/plain": [
       "PassengerId      0\n",
       "Survived         0\n",
       "Pclass           0\n",
       "Name             0\n",
       "Sex              0\n",
       "Age            177\n",
       "SibSp            0\n",
       "Parch            0\n",
       "Ticket           0\n",
       "Fare             0\n",
       "Cabin          687\n",
       "Embarked         2\n",
       "dtype: int64"
      ]
     },
     "execution_count": 12,
     "metadata": {},
     "output_type": "execute_result"
    }
   ],
   "source": [
    "#Counting missing values\n",
    "data_frame.isnull().sum()"
   ]
  },
  {
   "cell_type": "code",
   "execution_count": 13,
   "metadata": {
    "scrolled": true
   },
   "outputs": [],
   "source": [
    "#Drop two rows containing NaN in 'Embarked' Column\n",
    "data_frame.dropna(axis=0, subset=['Embarked'], inplace=True)"
   ]
  },
  {
   "cell_type": "code",
   "execution_count": 14,
   "metadata": {},
   "outputs": [
    {
     "data": {
      "text/plain": [
       "PassengerId      0\n",
       "Survived         0\n",
       "Pclass           0\n",
       "Name             0\n",
       "Sex              0\n",
       "Age            177\n",
       "SibSp            0\n",
       "Parch            0\n",
       "Ticket           0\n",
       "Fare             0\n",
       "Cabin          687\n",
       "Embarked         0\n",
       "dtype: int64"
      ]
     },
     "execution_count": 14,
     "metadata": {},
     "output_type": "execute_result"
    }
   ],
   "source": [
    "#Counting missing values\n",
    "data_frame.isnull().sum()"
   ]
  },
  {
   "cell_type": "code",
   "execution_count": 15,
   "metadata": {},
   "outputs": [],
   "source": [
    "#Drop 'Cabin' Column\n",
    "data_frame.drop('Cabin', axis=1, inplace=True)"
   ]
  },
  {
   "cell_type": "code",
   "execution_count": 16,
   "metadata": {},
   "outputs": [
    {
     "data": {
      "text/plain": [
       "PassengerId      0\n",
       "Survived         0\n",
       "Pclass           0\n",
       "Name             0\n",
       "Sex              0\n",
       "Age            177\n",
       "SibSp            0\n",
       "Parch            0\n",
       "Ticket           0\n",
       "Fare             0\n",
       "Embarked         0\n",
       "dtype: int64"
      ]
     },
     "execution_count": 16,
     "metadata": {},
     "output_type": "execute_result"
    }
   ],
   "source": [
    "#Counting missing values\n",
    "data_frame.isnull().sum()"
   ]
  },
  {
   "cell_type": "code",
   "execution_count": 17,
   "metadata": {},
   "outputs": [],
   "source": [
    "#Replacing NaN in 'Age' with mean\n",
    "data_frame['Age'].fillna(data_frame['Age'].mean(), inplace=True)"
   ]
  },
  {
   "cell_type": "code",
   "execution_count": 18,
   "metadata": {},
   "outputs": [
    {
     "data": {
      "text/plain": [
       "count    889.000000\n",
       "mean      29.642093\n",
       "std       12.968346\n",
       "min        0.420000\n",
       "25%       22.000000\n",
       "50%       29.642093\n",
       "75%       35.000000\n",
       "max       80.000000\n",
       "Name: Age, dtype: float64"
      ]
     },
     "execution_count": 18,
     "metadata": {},
     "output_type": "execute_result"
    }
   ],
   "source": [
    "data_frame['Age'].describe()"
   ]
  },
  {
   "cell_type": "code",
   "execution_count": 19,
   "metadata": {},
   "outputs": [
    {
     "data": {
      "text/plain": [
       "PassengerId    0\n",
       "Survived       0\n",
       "Pclass         0\n",
       "Name           0\n",
       "Sex            0\n",
       "Age            0\n",
       "SibSp          0\n",
       "Parch          0\n",
       "Ticket         0\n",
       "Fare           0\n",
       "Embarked       0\n",
       "dtype: int64"
      ]
     },
     "execution_count": 19,
     "metadata": {},
     "output_type": "execute_result"
    }
   ],
   "source": [
    "#Verification step\n",
    "data_frame.isnull().sum()"
   ]
  },
  {
   "cell_type": "markdown",
   "metadata": {},
   "source": [
    "## Part 1 : Visualization part"
   ]
  },
  {
   "cell_type": "markdown",
   "metadata": {},
   "source": [
    "### A - Variable Distribution\n"
   ]
  },
  {
   "cell_type": "markdown",
   "metadata": {},
   "source": [
    "---"
   ]
  },
  {
   "cell_type": "markdown",
   "metadata": {},
   "source": [
    "## Between Survived and Pclass"
   ]
  },
  {
   "cell_type": "code",
   "execution_count": 20,
   "metadata": {
    "scrolled": true
   },
   "outputs": [
    {
     "data": {
      "text/plain": [
       "<seaborn.axisgrid.FacetGrid at 0x254d213adc0>"
      ]
     },
     "execution_count": 20,
     "metadata": {},
     "output_type": "execute_result"
    },
    {
     "data": {
      "image/png": "[encoded data removed]",
      "text/plain": [
       "<Figure size 440x216 with 2 Axes>"
      ]
     },
     "metadata": {
      "needs_background": "light"
     },
     "output_type": "display_data"
    }
   ],
   "source": [
    "#Correlation between Survived and Pclass \n",
    "\n",
    "grid = sns.FacetGrid(data_frame, col='Survived')\n",
    "grid.map(plt.hist, 'Pclass')\n",
    "grid.add_legend()"
   ]
  },
  {
   "cell_type": "markdown",
   "metadata": {},
   "source": [
    "## Between Sex and Age"
   ]
  },
  {
   "cell_type": "code",
   "execution_count": 21,
   "metadata": {},
   "outputs": [
    {
     "data": {
      "text/plain": [
       "<seaborn.axisgrid.FacetGrid at 0x254d213abe0>"
      ]
     },
     "execution_count": 21,
     "metadata": {},
     "output_type": "execute_result"
    },
    {
     "data": {
      "image/png": "[encoded data removed]",
      "text/plain": [
       "<Figure size 432x216 with 2 Axes>"
      ]
     },
     "metadata": {
      "needs_background": "light"
     },
     "output_type": "display_data"
    }
   ],
   "source": [
    "#Correlation between Sex and Age \n",
    "\n",
    "\n",
    "grid = sns.FacetGrid(data_frame, col='Sex')\n",
    "grid.map(plt.hist,'Age')"
   ]
  },
  {
   "cell_type": "markdown",
   "metadata": {},
   "source": [
    "## Age with respect to Pclass\n"
   ]
  },
  {
   "cell_type": "code",
   "execution_count": 22,
   "metadata": {},
   "outputs": [
    {
     "data": {
      "text/plain": [
       "<matplotlib.legend.Legend at 0x254d221e4c0>"
      ]
     },
     "execution_count": 22,
     "metadata": {},
     "output_type": "execute_result"
    },
    {
     "data": {
      "image/png": "[encoded data removed]",
      "text/plain": [
       "<Figure size 432x288 with 1 Axes>"
      ]
     },
     "metadata": {
      "needs_background": "light"
     },
     "output_type": "display_data"
    }
   ],
   "source": [
    "\n",
    "for x in [1,2,3]:    ## for 3 classes\n",
    "    data_frame.Age[data_frame.Pclass == x].plot(kind=\"kde\")\n",
    "plt.title(\"Age with respect to Pclass\")\n",
    "plt.legend((\"1st\",\"2nd\",\"3rd\"))\n"
   ]
  },
  {
   "cell_type": "markdown",
   "metadata": {},
   "source": [
    "## Survived as Function of Age and Pclass\n"
   ]
  },
  {
   "cell_type": "code",
   "execution_count": 23,
   "metadata": {},
   "outputs": [
    {
     "data": {
      "image/png": "[encoded data removed]",
      "text/plain": [
       "<Figure size 432x288 with 1 Axes>"
      ]
     },
     "metadata": {
      "needs_background": "light"
     },
     "output_type": "display_data"
    }
   ],
   "source": [
    "\n",
    "sns.barplot(x='Age', y='Survived', hue='Pclass', data=data_frame)\n",
    "plt.ylabel(\"Survival Rate\")\n",
    "plt.title(\"Survival as function of Pclass and Age\")\n",
    "plt.show()"
   ]
  },
  {
   "cell_type": "markdown",
   "metadata": {},
   "source": [
    "---"
   ]
  },
  {
   "cell_type": "markdown",
   "metadata": {},
   "source": [
    "#### --------------------------------------------| Histogram |-------------------------------------------------------------"
   ]
  },
  {
   "cell_type": "markdown",
   "metadata": {},
   "source": [
    "---------------------------"
   ]
  },
  {
   "cell_type": "code",
   "execution_count": 24,
   "metadata": {},
   "outputs": [
    {
     "data": {
      "text/plain": [
       "<AxesSubplot:title={'center':'Histogram of different Ages'}, xlabel='Age', ylabel='Frequency'>"
      ]
     },
     "execution_count": 24,
     "metadata": {},
     "output_type": "execute_result"
    },
    {
     "data": {
      "image/png": "[encoded data removed]",
      "text/plain": [
       "<Figure size 432x288 with 1 Axes>"
      ]
     },
     "metadata": {
      "needs_background": "light"
     },
     "output_type": "display_data"
    }
   ],
   "source": [
    "#'Age' Distribution with Histogram\n",
    "\n",
    "plt.title('Histogram of different Ages')\n",
    "plt.xlabel('Age')\n",
    "data_frame['Age'].plot.hist()"
   ]
  },
  {
   "cell_type": "code",
   "execution_count": 25,
   "metadata": {},
   "outputs": [
    {
     "data": {
      "text/plain": [
       "<seaborn.axisgrid.FacetGrid at 0x254d2226ac0>"
      ]
     },
     "execution_count": 25,
     "metadata": {},
     "output_type": "execute_result"
    },
    {
     "data": {
      "image/png": "[encoded data removed]",
      "text/plain": [
       "<Figure size 360x360 with 1 Axes>"
      ]
     },
     "metadata": {
      "needs_background": "light"
     },
     "output_type": "display_data"
    }
   ],
   "source": [
    "#'Age' Distribution with Histogram seaborn\n",
    "\n",
    "sns.displot(data_frame['Age'], kind='hist', color='green')"
   ]
  },
  {
   "cell_type": "code",
   "execution_count": 26,
   "metadata": {
    "scrolled": true
   },
   "outputs": [
    {
     "data": {
      "text/plain": [
       "<AxesSubplot:title={'center':'Histogram of different Pclass'}, xlabel='Pclass', ylabel='Frequency'>"
      ]
     },
     "execution_count": 26,
     "metadata": {},
     "output_type": "execute_result"
    },
    {
     "data": {
      "image/png": "[encoded data removed]",
      "text/plain": [
       "<Figure size 432x288 with 1 Axes>"
      ]
     },
     "metadata": {
      "needs_background": "light"
     },
     "output_type": "display_data"
    }
   ],
   "source": [
    "#'Pclass' Distribution with Histogram\n",
    "\n",
    "plt.title('Histogram of different Pclass')\n",
    "plt.xlabel('Pclass')\n",
    "data_frame['Pclass'].plot.hist()"
   ]
  },
  {
   "cell_type": "code",
   "execution_count": 27,
   "metadata": {},
   "outputs": [
    {
     "data": {
      "text/plain": [
       "<seaborn.axisgrid.FacetGrid at 0x254d254b9a0>"
      ]
     },
     "execution_count": 27,
     "metadata": {},
     "output_type": "execute_result"
    },
    {
     "data": {
      "image/png": "[encoded data removed]",
      "text/plain": [
       "<Figure size 360x360 with 1 Axes>"
      ]
     },
     "metadata": {
      "needs_background": "light"
     },
     "output_type": "display_data"
    }
   ],
   "source": [
    "#'Pclass' Distribution with Histogram seaborn\n",
    "\n",
    "sns.displot(data_frame['Pclass'],  kind='hist', color='green')\n"
   ]
  },
  {
   "cell_type": "markdown",
   "metadata": {},
   "source": [
    "--------------"
   ]
  },
  {
   "cell_type": "markdown",
   "metadata": {},
   "source": [
    "#### --------------------------------------------| Barplot |-----------------------------------------------------------------"
   ]
  },
  {
   "cell_type": "markdown",
   "metadata": {},
   "source": [
    "--------------"
   ]
  },
  {
   "cell_type": "code",
   "execution_count": 28,
   "metadata": {},
   "outputs": [
    {
     "data": {
      "text/plain": [
       "<AxesSubplot:title={'center':'Barplot'}, xlabel='Survived', ylabel='Survived Value Count'>"
      ]
     },
     "execution_count": 28,
     "metadata": {},
     "output_type": "execute_result"
    },
    {
     "data": {
      "image/png": "[encoded data removed]",
      "text/plain": [
       "<Figure size 432x288 with 1 Axes>"
      ]
     },
     "metadata": {
      "needs_background": "light"
     },
     "output_type": "display_data"
    }
   ],
   "source": [
    "#Barplot 'Survived' Column\n",
    "\n",
    "plt.xlabel('Survived')\n",
    "plt.ylabel('Survived Value Count')\n",
    "plt.title('Barplot')\n",
    "\n",
    "counts = data_frame['Survived'].value_counts()\n",
    "counts.plot.bar(color=['red','green'])"
   ]
  },
  {
   "cell_type": "code",
   "execution_count": 29,
   "metadata": {},
   "outputs": [
    {
     "data": {
      "image/png": "[encoded data removed]",
      "text/plain": [
       "<Figure size 432x288 with 1 Axes>"
      ]
     },
     "metadata": {
      "needs_background": "light"
     },
     "output_type": "display_data"
    }
   ],
   "source": [
    "sns.barplot(x='Survived', y='Pclass', data=data_frame)\n",
    "plt.ylabel(\"Survival Rate\")\n",
    "plt.title(\"Survival as function of Pclass\")\n",
    "plt.show()"
   ]
  },
  {
   "cell_type": "code",
   "execution_count": 30,
   "metadata": {},
   "outputs": [
    {
     "data": {
      "image/png": "[encoded data removed]",
      "text/plain": [
       "<Figure size 432x288 with 1 Axes>"
      ]
     },
     "metadata": {
      "needs_background": "light"
     },
     "output_type": "display_data"
    }
   ],
   "source": [
    "\n",
    "sns.barplot(x='Survived', y='Pclass', hue='Sex', data=data)\n",
    "plt.ylabel(\"Survival Rate\")\n",
    "plt.title(\"Survival as function of Pclass and Sex\")\n",
    "plt.show()"
   ]
  },
  {
   "cell_type": "markdown",
   "metadata": {},
   "source": [
    "----------"
   ]
  },
  {
   "cell_type": "markdown",
   "metadata": {},
   "source": [
    "#### --------------------------------------------| Boxplot |-----------------------------------------------------------------"
   ]
  },
  {
   "cell_type": "markdown",
   "metadata": {},
   "source": [
    "---"
   ]
  },
  {
   "cell_type": "code",
   "execution_count": 31,
   "metadata": {},
   "outputs": [
    {
     "data": {
      "image/png": "[encoded data removed]",
      "text/plain": [
       "<Figure size 432x288 with 1 Axes>"
      ]
     },
     "metadata": {
      "needs_background": "light"
     },
     "output_type": "display_data"
    }
   ],
   "source": [
    "sns.boxplot(x='Embarked', y='Age', data=data_frame)\n",
    "plt.title(\"Age distribution as function of Embarked Port\")\n",
    "plt.show()"
   ]
  },
  {
   "cell_type": "code",
   "execution_count": 32,
   "metadata": {},
   "outputs": [
    {
     "data": {
      "image/png": "[encoded data removed]",
      "text/plain": [
       "<Figure size 432x288 with 1 Axes>"
      ]
     },
     "metadata": {
      "needs_background": "light"
     },
     "output_type": "display_data"
    }
   ],
   "source": [
    "sns.boxplot(x='Embarked', y='Fare', data=data_frame)\n",
    "plt.title(\"Fare distribution as function of Embarked Port\")\n",
    "plt.show()"
   ]
  },
  {
   "cell_type": "code",
   "execution_count": 33,
   "metadata": {},
   "outputs": [
    {
     "data": {
      "image/png": "[encoded data removed]",
      "text/plain": [
       "<Figure size 432x288 with 1 Axes>"
      ]
     },
     "metadata": {
      "needs_background": "light"
     },
     "output_type": "display_data"
    }
   ],
   "source": [
    "sns.boxplot(x='Age', y='Survived', hue='Pclass', data=data_frame)\n",
    "plt.ylabel(\"Survival Rate\")\n",
    "plt.title(\"Survival as function of Pclass and Age\")\n",
    "plt.show()"
   ]
  },
  {
   "cell_type": "markdown",
   "metadata": {},
   "source": [
    "### A - Variable Correlation\n"
   ]
  },
  {
   "cell_type": "markdown",
   "metadata": {},
   "source": [
    "## LabelEncoder"
   ]
  },
  {
   "cell_type": "code",
   "execution_count": 34,
   "metadata": {},
   "outputs": [
    {
     "data": {
      "text/plain": [
       "0    549\n",
       "1    340\n",
       "Name: Survived, dtype: int64"
      ]
     },
     "execution_count": 34,
     "metadata": {},
     "output_type": "execute_result"
    }
   ],
   "source": [
    "#Replacing Survived with 0 and 1\n",
    "\n",
    "encoder = LabelEncoder()\n",
    "data_frame['Survived'] = encoder.fit_transform(data_frame['Survived'])\n",
    "data_frame['Survived'].value_counts()\n"
   ]
  },
  {
   "cell_type": "code",
   "execution_count": 35,
   "metadata": {},
   "outputs": [],
   "source": [
    "def plot_correlation_map( df ):\n",
    "\n",
    "    corr = df.corr()\n",
    "    s , ax = plt.subplots( figsize =( 12 , 10 ) )\n",
    "    cmap = sns.diverging_palette( 220 , 10 , as_cmap = True )\n",
    "    s = sns.heatmap(corr,cmap = cmap,square=True, cbar_kws={ 'shrink' : .9 }, ax=ax, annot = True, annot_kws = \n",
    "                    { 'fontsize' : 12 } )\n",
    "    \n",
    "    "
   ]
  },
  {
   "cell_type": "code",
   "execution_count": 36,
   "metadata": {},
   "outputs": [
    {
     "data": {
      "image/png": "[encoded data removed]",
      "text/plain": [
       "<Figure size 864x720 with 2 Axes>"
      ]
     },
     "metadata": {
      "needs_background": "light"
     },
     "output_type": "display_data"
    }
   ],
   "source": [
    "plot_correlation_map(data_frame)"
   ]
  },
  {
   "cell_type": "code",
   "execution_count": 37,
   "metadata": {},
   "outputs": [],
   "source": [
    "# This graph display the pairwise correlation of all numeric data type columns in the dataframe.\n",
    "\n",
    "# Correlation > 0 \n",
    "\n",
    "# -----------------------------\n",
    "# We observe a weak positive linear relationship between Parch and SibSp. If Parch Feature goes up the SibSp Feature goes up also with 41%\n",
    "# There is a weak positive linear relationship between Survived and Fare. If Fare Feature goes up the Survived Feature goes up with 26%\n",
    "# -----------------------------\n",
    "\n",
    "# Correlation = 0 \n",
    "\n",
    "# -----------------------------\n",
    "# There is no correlation positive or negative between PassengerId and All other Features\n",
    "# There is no correlation positive or negative between Survived and (Age | SibSp | Parch)\n",
    "# -----------------------------\n",
    "\n",
    "# Correlation < 0\n",
    "\n",
    "# -----------------------------\n",
    "# There is a weak negative linear relationship between (Pclass and Survived) & (Pclass and Age) & (Age and SibSp) \n",
    "# There is a moderate negative relationship between Pclass and Fare. If one feature goes up, the other goes down.\n",
    "# -----------------------------\n",
    "\n",
    "# Correlation = 1\n",
    "\n",
    "# -----------------------------\n",
    "# There is a perfect positive linear relationship\n",
    "# -----------------------------"
   ]
  },
  {
   "cell_type": "markdown",
   "metadata": {},
   "source": [
    "---"
   ]
  },
  {
   "cell_type": "markdown",
   "metadata": {},
   "source": [
    "## Groupby Function"
   ]
  },
  {
   "cell_type": "markdown",
   "metadata": {},
   "source": [
    "---"
   ]
  },
  {
   "cell_type": "markdown",
   "metadata": {},
   "source": [
    "#### GroupBy Pclass"
   ]
  },
  {
   "cell_type": "markdown",
   "metadata": {},
   "source": [
    "---"
   ]
  },
  {
   "cell_type": "code",
   "execution_count": 38,
   "metadata": {},
   "outputs": [
    {
     "data": {
      "text/html": [
       "<div>\n",
       "<style scoped>\n",
       "    .dataframe tbody tr th:only-of-type {\n",
       "        vertical-align: middle;\n",
       "    }\n",
       "\n",
       "    .dataframe tbody tr th {\n",
       "        vertical-align: top;\n",
       "    }\n",
       "\n",
       "    .dataframe thead th {\n",
       "        text-align: right;\n",
       "    }\n",
       "</style>\n",
       "<table border=\"1\" class=\"dataframe\">\n",
       "  <thead>\n",
       "    <tr style=\"text-align: right;\">\n",
       "      <th></th>\n",
       "      <th>Survived</th>\n",
       "    </tr>\n",
       "    <tr>\n",
       "      <th>Pclass</th>\n",
       "      <th></th>\n",
       "    </tr>\n",
       "  </thead>\n",
       "  <tbody>\n",
       "    <tr>\n",
       "      <th>1</th>\n",
       "      <td>0.626168</td>\n",
       "    </tr>\n",
       "    <tr>\n",
       "      <th>2</th>\n",
       "      <td>0.472826</td>\n",
       "    </tr>\n",
       "    <tr>\n",
       "      <th>3</th>\n",
       "      <td>0.242363</td>\n",
       "    </tr>\n",
       "  </tbody>\n",
       "</table>\n",
       "</div>"
      ],
      "text/plain": [
       "        Survived\n",
       "Pclass          \n",
       "1       0.626168\n",
       "2       0.472826\n",
       "3       0.242363"
      ]
     },
     "execution_count": 38,
     "metadata": {},
     "output_type": "execute_result"
    }
   ],
   "source": [
    "data_frame[[\"Pclass\", \"Survived\"]].groupby([\"Pclass\"], as_index=True).mean()"
   ]
  },
  {
   "cell_type": "markdown",
   "metadata": {},
   "source": [
    "---"
   ]
  },
  {
   "cell_type": "markdown",
   "metadata": {},
   "source": [
    "#### GroupBy Sex"
   ]
  },
  {
   "cell_type": "markdown",
   "metadata": {},
   "source": [
    "---"
   ]
  },
  {
   "cell_type": "code",
   "execution_count": 39,
   "metadata": {},
   "outputs": [
    {
     "data": {
      "text/html": [
       "<div>\n",
       "<style scoped>\n",
       "    .dataframe tbody tr th:only-of-type {\n",
       "        vertical-align: middle;\n",
       "    }\n",
       "\n",
       "    .dataframe tbody tr th {\n",
       "        vertical-align: top;\n",
       "    }\n",
       "\n",
       "    .dataframe thead th {\n",
       "        text-align: right;\n",
       "    }\n",
       "</style>\n",
       "<table border=\"1\" class=\"dataframe\">\n",
       "  <thead>\n",
       "    <tr style=\"text-align: right;\">\n",
       "      <th></th>\n",
       "      <th>Survived</th>\n",
       "    </tr>\n",
       "    <tr>\n",
       "      <th>Sex</th>\n",
       "      <th></th>\n",
       "    </tr>\n",
       "  </thead>\n",
       "  <tbody>\n",
       "    <tr>\n",
       "      <th>female</th>\n",
       "      <td>0.740385</td>\n",
       "    </tr>\n",
       "    <tr>\n",
       "      <th>male</th>\n",
       "      <td>0.188908</td>\n",
       "    </tr>\n",
       "  </tbody>\n",
       "</table>\n",
       "</div>"
      ],
      "text/plain": [
       "        Survived\n",
       "Sex             \n",
       "female  0.740385\n",
       "male    0.188908"
      ]
     },
     "execution_count": 39,
     "metadata": {},
     "output_type": "execute_result"
    }
   ],
   "source": [
    "data_frame[[\"Sex\", \"Survived\"]].groupby([\"Sex\"], as_index=True).mean()"
   ]
  },
  {
   "cell_type": "markdown",
   "metadata": {},
   "source": [
    "---"
   ]
  },
  {
   "cell_type": "code",
   "execution_count": 40,
   "metadata": {},
   "outputs": [
    {
     "data": {
      "text/plain": [
       "0     Mr\n",
       "1     Mr\n",
       "2     Mr\n",
       "3    Mrs\n",
       "4     Mr\n",
       "Name: Title, dtype: object"
      ]
     },
     "execution_count": 40,
     "metadata": {},
     "output_type": "execute_result"
    }
   ],
   "source": [
    "#Add 'Title' Column\n",
    "\n",
    "data_frame['Title'] = data_frame.Name.apply(lambda x: x.split(',')[1].split('.')[0].strip())\n",
    "data_frame['Title'].head()\n"
   ]
  },
  {
   "cell_type": "code",
   "execution_count": 41,
   "metadata": {
    "scrolled": false
   },
   "outputs": [
    {
     "data": {
      "text/plain": [
       "Mr              517\n",
       "Miss            181\n",
       "Mrs             124\n",
       "Master           40\n",
       "Dr                7\n",
       "Rev               6\n",
       "Major             2\n",
       "Mlle              2\n",
       "Col               2\n",
       "Lady              1\n",
       "the Countess      1\n",
       "Ms                1\n",
       "Capt              1\n",
       "Mme               1\n",
       "Don               1\n",
       "Jonkheer          1\n",
       "Sir               1\n",
       "Name: Title, dtype: int64"
      ]
     },
     "execution_count": 41,
     "metadata": {},
     "output_type": "execute_result"
    }
   ],
   "source": [
    "#Counts Value 'Title'\n",
    "data_frame['Title'].value_counts()"
   ]
  },
  {
   "cell_type": "code",
   "execution_count": 42,
   "metadata": {},
   "outputs": [
    {
     "data": {
      "text/html": [
       "<div>\n",
       "<style scoped>\n",
       "    .dataframe tbody tr th:only-of-type {\n",
       "        vertical-align: middle;\n",
       "    }\n",
       "\n",
       "    .dataframe tbody tr th {\n",
       "        vertical-align: top;\n",
       "    }\n",
       "\n",
       "    .dataframe thead th {\n",
       "        text-align: right;\n",
       "    }\n",
       "</style>\n",
       "<table border=\"1\" class=\"dataframe\">\n",
       "  <thead>\n",
       "    <tr style=\"text-align: right;\">\n",
       "      <th></th>\n",
       "      <th>PassengerId</th>\n",
       "      <th>Survived</th>\n",
       "      <th>Pclass</th>\n",
       "      <th>Sex</th>\n",
       "      <th>Age</th>\n",
       "      <th>SibSp</th>\n",
       "      <th>Parch</th>\n",
       "      <th>Ticket</th>\n",
       "      <th>Fare</th>\n",
       "      <th>Embarked</th>\n",
       "      <th>Title</th>\n",
       "    </tr>\n",
       "  </thead>\n",
       "  <tbody>\n",
       "    <tr>\n",
       "      <th>0</th>\n",
       "      <td>343</td>\n",
       "      <td>0</td>\n",
       "      <td>2</td>\n",
       "      <td>male</td>\n",
       "      <td>28.0</td>\n",
       "      <td>0</td>\n",
       "      <td>0</td>\n",
       "      <td>248740</td>\n",
       "      <td>13.0000</td>\n",
       "      <td>S</td>\n",
       "      <td>Mr</td>\n",
       "    </tr>\n",
       "    <tr>\n",
       "      <th>1</th>\n",
       "      <td>76</td>\n",
       "      <td>0</td>\n",
       "      <td>3</td>\n",
       "      <td>male</td>\n",
       "      <td>25.0</td>\n",
       "      <td>0</td>\n",
       "      <td>0</td>\n",
       "      <td>348123</td>\n",
       "      <td>7.6500</td>\n",
       "      <td>S</td>\n",
       "      <td>Mr</td>\n",
       "    </tr>\n",
       "    <tr>\n",
       "      <th>2</th>\n",
       "      <td>641</td>\n",
       "      <td>0</td>\n",
       "      <td>3</td>\n",
       "      <td>male</td>\n",
       "      <td>20.0</td>\n",
       "      <td>0</td>\n",
       "      <td>0</td>\n",
       "      <td>350050</td>\n",
       "      <td>7.8542</td>\n",
       "      <td>S</td>\n",
       "      <td>Mr</td>\n",
       "    </tr>\n",
       "    <tr>\n",
       "      <th>3</th>\n",
       "      <td>568</td>\n",
       "      <td>0</td>\n",
       "      <td>3</td>\n",
       "      <td>female</td>\n",
       "      <td>29.0</td>\n",
       "      <td>0</td>\n",
       "      <td>4</td>\n",
       "      <td>349909</td>\n",
       "      <td>21.0750</td>\n",
       "      <td>S</td>\n",
       "      <td>Mrs</td>\n",
       "    </tr>\n",
       "    <tr>\n",
       "      <th>4</th>\n",
       "      <td>672</td>\n",
       "      <td>0</td>\n",
       "      <td>1</td>\n",
       "      <td>male</td>\n",
       "      <td>31.0</td>\n",
       "      <td>1</td>\n",
       "      <td>0</td>\n",
       "      <td>F.C. 12750</td>\n",
       "      <td>52.0000</td>\n",
       "      <td>S</td>\n",
       "      <td>Mr</td>\n",
       "    </tr>\n",
       "  </tbody>\n",
       "</table>\n",
       "</div>"
      ],
      "text/plain": [
       "   PassengerId  Survived  Pclass     Sex   Age  SibSp  Parch      Ticket  \\\n",
       "0          343         0       2    male  28.0      0      0      248740   \n",
       "1           76         0       3    male  25.0      0      0      348123   \n",
       "2          641         0       3    male  20.0      0      0      350050   \n",
       "3          568         0       3  female  29.0      0      4      349909   \n",
       "4          672         0       1    male  31.0      1      0  F.C. 12750   \n",
       "\n",
       "      Fare Embarked Title  \n",
       "0  13.0000        S    Mr  \n",
       "1   7.6500        S    Mr  \n",
       "2   7.8542        S    Mr  \n",
       "3  21.0750        S   Mrs  \n",
       "4  52.0000        S    Mr  "
      ]
     },
     "execution_count": 42,
     "metadata": {},
     "output_type": "execute_result"
    }
   ],
   "source": [
    "#Drop 'Name' Column\n",
    "\n",
    "data_frame.drop('Name', axis = 1, inplace = True)\n",
    "data_frame.head()"
   ]
  },
  {
   "cell_type": "code",
   "execution_count": 43,
   "metadata": {},
   "outputs": [
    {
     "data": {
      "image/png": "[encoded data removed]",
      "text/plain": [
       "<Figure size 432x288 with 1 Axes>"
      ]
     },
     "metadata": {
      "needs_background": "light"
     },
     "output_type": "display_data"
    }
   ],
   "source": [
    "#Title with Embarked\n",
    "\n",
    "sns.countplot(x=\"Title\", hue=\"Embarked\", data = data_frame)\n",
    "plt.show()"
   ]
  },
  {
   "cell_type": "code",
   "execution_count": 44,
   "metadata": {
    "scrolled": true
   },
   "outputs": [
    {
     "data": {
      "image/png": "[encoded data removed]",
      "text/plain": [
       "<Figure size 432x288 with 1 Axes>"
      ]
     },
     "metadata": {
      "needs_background": "light"
     },
     "output_type": "display_data"
    }
   ],
   "source": [
    "#Title with Survived\n",
    "\n",
    "sns.countplot(x=\"Title\", hue=\"Survived\", data = data_frame)\n",
    "plt.show()"
   ]
  },
  {
   "cell_type": "code",
   "execution_count": 45,
   "metadata": {
    "scrolled": true
   },
   "outputs": [
    {
     "data": {
      "image/png": "[encoded data removed]",
      "text/plain": [
       "<Figure size 432x288 with 1 Axes>"
      ]
     },
     "metadata": {
      "needs_background": "light"
     },
     "output_type": "display_data"
    }
   ],
   "source": [
    "#Title with Pclass\n",
    "\n",
    "sns.countplot(x=\"Title\",  hue=\"Pclass\", data = data_frame)\n",
    "plt.show()"
   ]
  },
  {
   "cell_type": "code",
   "execution_count": 46,
   "metadata": {},
   "outputs": [
    {
     "data": {
      "text/plain": [
       "Mr              517\n",
       "Miss            181\n",
       "Mrs             124\n",
       "Master           40\n",
       "Dr                7\n",
       "Rev               6\n",
       "Major             2\n",
       "Mlle              2\n",
       "Col               2\n",
       "Lady              1\n",
       "the Countess      1\n",
       "Ms                1\n",
       "Capt              1\n",
       "Mme               1\n",
       "Don               1\n",
       "Jonkheer          1\n",
       "Sir               1\n",
       "Name: Title, dtype: int64"
      ]
     },
     "execution_count": 46,
     "metadata": {},
     "output_type": "execute_result"
    }
   ],
   "source": [
    "data_frame['Title'].value_counts()"
   ]
  },
  {
   "cell_type": "code",
   "execution_count": 47,
   "metadata": {},
   "outputs": [],
   "source": [
    "#Create new Dictionary\n",
    "\n",
    "Title_Dictionary =  {\n",
    "    \n",
    "                    \"Capt\":\"Officer\",\n",
    "                    \"Col\":\"Officer\",\n",
    "                    \"Major\":\"Officer\",\n",
    "                    \"Dr\":\"Officer\",\n",
    "                    \"Rev\":\"Officer\",\n",
    "                    \"Jonkheer\":\"Royalty\",\n",
    "                    \"Don\":\"Royalty\",\n",
    "                    \"Sir\":\"Royalty\",\n",
    "                    \"Lady\":\"Royalty\",\n",
    "                    \"the Countess\":\"Royalty\",\n",
    "                    \"Mme\":\"Miss\",\n",
    "                    \"Mlle\":\"Miss\",\n",
    "                    \"Miss\":\"Miss\",\n",
    "                    \"Ms\":\"Mrs\",\n",
    "                    \"Mr\":\"Mrs\",\n",
    "                    \"Mrs\":\"Mrs\",\n",
    "                    \"Master\":\"Master\"\n",
    "    \n",
    "                    }\n",
    "data_frame['Title'] = data_frame['Title'].map(Title_Dictionary)\n"
   ]
  },
  {
   "cell_type": "code",
   "execution_count": 48,
   "metadata": {},
   "outputs": [
    {
     "data": {
      "text/plain": [
       "Mrs        642\n",
       "Miss       184\n",
       "Master      40\n",
       "Officer     18\n",
       "Royalty      5\n",
       "Name: Title, dtype: int64"
      ]
     },
     "execution_count": 48,
     "metadata": {},
     "output_type": "execute_result"
    }
   ],
   "source": [
    "data_frame['Title'].value_counts()\n"
   ]
  },
  {
   "cell_type": "code",
   "execution_count": 49,
   "metadata": {},
   "outputs": [
    {
     "data": {
      "text/plain": [
       "0    Mrs\n",
       "1    Mrs\n",
       "2    Mrs\n",
       "3    Mrs\n",
       "4    Mrs\n",
       "Name: Title, dtype: object"
      ]
     },
     "execution_count": 49,
     "metadata": {},
     "output_type": "execute_result"
    }
   ],
   "source": [
    "data_frame['Title'].head()"
   ]
  },
  {
   "cell_type": "code",
   "execution_count": 50,
   "metadata": {},
   "outputs": [
    {
     "data": {
      "text/html": [
       "<style  type=\"text/css\" >\n",
       "#T_b2fa0f85_ae81_11eb_8557_90324b008b86row0_col0,#T_b2fa0f85_ae81_11eb_8557_90324b008b86row0_col1,#T_b2fa0f85_ae81_11eb_8557_90324b008b86row6_col2,#T_b2fa0f85_ae81_11eb_8557_90324b008b86row7_col1,#T_b2fa0f85_ae81_11eb_8557_90324b008b86row7_col2,#T_b2fa0f85_ae81_11eb_8557_90324b008b86row7_col3,#T_b2fa0f85_ae81_11eb_8557_90324b008b86row8_col1,#T_b2fa0f85_ae81_11eb_8557_90324b008b86row8_col2,#T_b2fa0f85_ae81_11eb_8557_90324b008b86row8_col3,#T_b2fa0f85_ae81_11eb_8557_90324b008b86row9_col1,#T_b2fa0f85_ae81_11eb_8557_90324b008b86row9_col2,#T_b2fa0f85_ae81_11eb_8557_90324b008b86row9_col3{\n",
       "            background-color:  #ffff66;\n",
       "            color:  #000000;\n",
       "        }#T_b2fa0f85_ae81_11eb_8557_90324b008b86row0_col2{\n",
       "            background-color:  #f7fb66;\n",
       "            color:  #000000;\n",
       "        }#T_b2fa0f85_ae81_11eb_8557_90324b008b86row0_col3{\n",
       "            background-color:  #fbfd66;\n",
       "            color:  #000000;\n",
       "        }#T_b2fa0f85_ae81_11eb_8557_90324b008b86row1_col0,#T_b2fa0f85_ae81_11eb_8557_90324b008b86row6_col3,#T_b2fa0f85_ae81_11eb_8557_90324b008b86row9_col0{\n",
       "            background-color:  #fcfe66;\n",
       "            color:  #000000;\n",
       "        }#T_b2fa0f85_ae81_11eb_8557_90324b008b86row1_col1{\n",
       "            background-color:  #f3f966;\n",
       "            color:  #000000;\n",
       "        }#T_b2fa0f85_ae81_11eb_8557_90324b008b86row1_col2,#T_b2fa0f85_ae81_11eb_8557_90324b008b86row6_col0,#T_b2fa0f85_ae81_11eb_8557_90324b008b86row7_col0{\n",
       "            background-color:  #fafc66;\n",
       "            color:  #000000;\n",
       "        }#T_b2fa0f85_ae81_11eb_8557_90324b008b86row1_col3{\n",
       "            background-color:  #f9fc66;\n",
       "            color:  #000000;\n",
       "        }#T_b2fa0f85_ae81_11eb_8557_90324b008b86row2_col0,#T_b2fa0f85_ae81_11eb_8557_90324b008b86row2_col1,#T_b2fa0f85_ae81_11eb_8557_90324b008b86row8_col0{\n",
       "            background-color:  #fdfe66;\n",
       "            color:  #000000;\n",
       "        }#T_b2fa0f85_ae81_11eb_8557_90324b008b86row2_col2,#T_b2fa0f85_ae81_11eb_8557_90324b008b86row3_col2{\n",
       "            background-color:  #e5f266;\n",
       "            color:  #000000;\n",
       "        }#T_b2fa0f85_ae81_11eb_8557_90324b008b86row2_col3{\n",
       "            background-color:  #f0f866;\n",
       "            color:  #000000;\n",
       "        }#T_b2fa0f85_ae81_11eb_8557_90324b008b86row3_col0{\n",
       "            background-color:  #c8e366;\n",
       "            color:  #000000;\n",
       "        }#T_b2fa0f85_ae81_11eb_8557_90324b008b86row3_col1{\n",
       "            background-color:  #d3e966;\n",
       "            color:  #000000;\n",
       "        }#T_b2fa0f85_ae81_11eb_8557_90324b008b86row3_col3{\n",
       "            background-color:  #dbed66;\n",
       "            color:  #000000;\n",
       "        }#T_b2fa0f85_ae81_11eb_8557_90324b008b86row4_col0{\n",
       "            background-color:  #abd566;\n",
       "            color:  #000000;\n",
       "        }#T_b2fa0f85_ae81_11eb_8557_90324b008b86row4_col1{\n",
       "            background-color:  #86c266;\n",
       "            color:  #000000;\n",
       "        }#T_b2fa0f85_ae81_11eb_8557_90324b008b86row4_col2{\n",
       "            background-color:  #61b066;\n",
       "            color:  #000000;\n",
       "        }#T_b2fa0f85_ae81_11eb_8557_90324b008b86row4_col3{\n",
       "            background-color:  #7bbd66;\n",
       "            color:  #000000;\n",
       "        }#T_b2fa0f85_ae81_11eb_8557_90324b008b86row5_col0{\n",
       "            background-color:  #a3d166;\n",
       "            color:  #000000;\n",
       "        }#T_b2fa0f85_ae81_11eb_8557_90324b008b86row5_col1{\n",
       "            background-color:  #bfdf66;\n",
       "            color:  #000000;\n",
       "        }#T_b2fa0f85_ae81_11eb_8557_90324b008b86row5_col2{\n",
       "            background-color:  #e2f066;\n",
       "            color:  #000000;\n",
       "        }#T_b2fa0f85_ae81_11eb_8557_90324b008b86row5_col3{\n",
       "            background-color:  #cce666;\n",
       "            color:  #000000;\n",
       "        }#T_b2fa0f85_ae81_11eb_8557_90324b008b86row6_col1{\n",
       "            background-color:  #f4fa66;\n",
       "            color:  #000000;\n",
       "        }#T_b2fa0f85_ae81_11eb_8557_90324b008b86row10_col0,#T_b2fa0f85_ae81_11eb_8557_90324b008b86row10_col1,#T_b2fa0f85_ae81_11eb_8557_90324b008b86row10_col2,#T_b2fa0f85_ae81_11eb_8557_90324b008b86row10_col3{\n",
       "            background-color:  #008066;\n",
       "            color:  #f1f1f1;\n",
       "        }</style><table id=\"T_b2fa0f85_ae81_11eb_8557_90324b008b86\" ><thead>    <tr>        <th class=\"blank\" ></th>        <th class=\"index_name level0\" >Pclass</th>        <th class=\"col_heading level0 col0\" >1</th>        <th class=\"col_heading level0 col1\" >2</th>        <th class=\"col_heading level0 col2\" >3</th>        <th class=\"col_heading level0 col3\" >All</th>    </tr>    <tr>        <th class=\"index_name level0\" >Title</th>        <th class=\"index_name level1\" >Survived</th>        <th class=\"blank\" ></th>        <th class=\"blank\" ></th>        <th class=\"blank\" ></th>        <th class=\"blank\" ></th>    </tr></thead><tbody>\n",
       "                <tr>\n",
       "                        <th id=\"T_b2fa0f85_ae81_11eb_8557_90324b008b86level0_row0\" class=\"row_heading level0 row0\" rowspan=2>Master</th>\n",
       "                        <th id=\"T_b2fa0f85_ae81_11eb_8557_90324b008b86level1_row0\" class=\"row_heading level1 row0\" >0</th>\n",
       "                        <td id=\"T_b2fa0f85_ae81_11eb_8557_90324b008b86row0_col0\" class=\"data row0 col0\" >0</td>\n",
       "                        <td id=\"T_b2fa0f85_ae81_11eb_8557_90324b008b86row0_col1\" class=\"data row0 col1\" >0</td>\n",
       "                        <td id=\"T_b2fa0f85_ae81_11eb_8557_90324b008b86row0_col2\" class=\"data row0 col2\" >17</td>\n",
       "                        <td id=\"T_b2fa0f85_ae81_11eb_8557_90324b008b86row0_col3\" class=\"data row0 col3\" >17</td>\n",
       "            </tr>\n",
       "            <tr>\n",
       "                                <th id=\"T_b2fa0f85_ae81_11eb_8557_90324b008b86level1_row1\" class=\"row_heading level1 row1\" >1</th>\n",
       "                        <td id=\"T_b2fa0f85_ae81_11eb_8557_90324b008b86row1_col0\" class=\"data row1 col0\" >3</td>\n",
       "                        <td id=\"T_b2fa0f85_ae81_11eb_8557_90324b008b86row1_col1\" class=\"data row1 col1\" >9</td>\n",
       "                        <td id=\"T_b2fa0f85_ae81_11eb_8557_90324b008b86row1_col2\" class=\"data row1 col2\" >11</td>\n",
       "                        <td id=\"T_b2fa0f85_ae81_11eb_8557_90324b008b86row1_col3\" class=\"data row1 col3\" >23</td>\n",
       "            </tr>\n",
       "            <tr>\n",
       "                        <th id=\"T_b2fa0f85_ae81_11eb_8557_90324b008b86level0_row2\" class=\"row_heading level0 row2\" rowspan=2>Miss</th>\n",
       "                        <th id=\"T_b2fa0f85_ae81_11eb_8557_90324b008b86level1_row2\" class=\"row_heading level1 row2\" >0</th>\n",
       "                        <td id=\"T_b2fa0f85_ae81_11eb_8557_90324b008b86row2_col0\" class=\"data row2 col0\" >2</td>\n",
       "                        <td id=\"T_b2fa0f85_ae81_11eb_8557_90324b008b86row2_col1\" class=\"data row2 col1\" >2</td>\n",
       "                        <td id=\"T_b2fa0f85_ae81_11eb_8557_90324b008b86row2_col2\" class=\"data row2 col2\" >51</td>\n",
       "                        <td id=\"T_b2fa0f85_ae81_11eb_8557_90324b008b86row2_col3\" class=\"data row2 col3\" >55</td>\n",
       "            </tr>\n",
       "            <tr>\n",
       "                                <th id=\"T_b2fa0f85_ae81_11eb_8557_90324b008b86level1_row3\" class=\"row_heading level1 row3\" >1</th>\n",
       "                        <td id=\"T_b2fa0f85_ae81_11eb_8557_90324b008b86row3_col0\" class=\"data row3 col0\" >46</td>\n",
       "                        <td id=\"T_b2fa0f85_ae81_11eb_8557_90324b008b86row3_col1\" class=\"data row3 col1\" >32</td>\n",
       "                        <td id=\"T_b2fa0f85_ae81_11eb_8557_90324b008b86row3_col2\" class=\"data row3 col2\" >51</td>\n",
       "                        <td id=\"T_b2fa0f85_ae81_11eb_8557_90324b008b86row3_col3\" class=\"data row3 col3\" >129</td>\n",
       "            </tr>\n",
       "            <tr>\n",
       "                        <th id=\"T_b2fa0f85_ae81_11eb_8557_90324b008b86level0_row4\" class=\"row_heading level0 row4\" rowspan=2>Mrs</th>\n",
       "                        <th id=\"T_b2fa0f85_ae81_11eb_8557_90324b008b86level1_row4\" class=\"row_heading level1 row4\" >0</th>\n",
       "                        <td id=\"T_b2fa0f85_ae81_11eb_8557_90324b008b86row4_col0\" class=\"data row4 col0\" >71</td>\n",
       "                        <td id=\"T_b2fa0f85_ae81_11eb_8557_90324b008b86row4_col1\" class=\"data row4 col1\" >87</td>\n",
       "                        <td id=\"T_b2fa0f85_ae81_11eb_8557_90324b008b86row4_col2\" class=\"data row4 col2\" >304</td>\n",
       "                        <td id=\"T_b2fa0f85_ae81_11eb_8557_90324b008b86row4_col3\" class=\"data row4 col3\" >462</td>\n",
       "            </tr>\n",
       "            <tr>\n",
       "                                <th id=\"T_b2fa0f85_ae81_11eb_8557_90324b008b86level1_row5\" class=\"row_heading level1 row5\" >1</th>\n",
       "                        <td id=\"T_b2fa0f85_ae81_11eb_8557_90324b008b86row5_col0\" class=\"data row5 col0\" >77</td>\n",
       "                        <td id=\"T_b2fa0f85_ae81_11eb_8557_90324b008b86row5_col1\" class=\"data row5 col1\" >46</td>\n",
       "                        <td id=\"T_b2fa0f85_ae81_11eb_8557_90324b008b86row5_col2\" class=\"data row5 col2\" >57</td>\n",
       "                        <td id=\"T_b2fa0f85_ae81_11eb_8557_90324b008b86row5_col3\" class=\"data row5 col3\" >180</td>\n",
       "            </tr>\n",
       "            <tr>\n",
       "                        <th id=\"T_b2fa0f85_ae81_11eb_8557_90324b008b86level0_row6\" class=\"row_heading level0 row6\" rowspan=2>Officer</th>\n",
       "                        <th id=\"T_b2fa0f85_ae81_11eb_8557_90324b008b86level1_row6\" class=\"row_heading level1 row6\" >0</th>\n",
       "                        <td id=\"T_b2fa0f85_ae81_11eb_8557_90324b008b86row6_col0\" class=\"data row6 col0\" >5</td>\n",
       "                        <td id=\"T_b2fa0f85_ae81_11eb_8557_90324b008b86row6_col1\" class=\"data row6 col1\" >8</td>\n",
       "                        <td id=\"T_b2fa0f85_ae81_11eb_8557_90324b008b86row6_col2\" class=\"data row6 col2\" >0</td>\n",
       "                        <td id=\"T_b2fa0f85_ae81_11eb_8557_90324b008b86row6_col3\" class=\"data row6 col3\" >13</td>\n",
       "            </tr>\n",
       "            <tr>\n",
       "                                <th id=\"T_b2fa0f85_ae81_11eb_8557_90324b008b86level1_row7\" class=\"row_heading level1 row7\" >1</th>\n",
       "                        <td id=\"T_b2fa0f85_ae81_11eb_8557_90324b008b86row7_col0\" class=\"data row7 col0\" >5</td>\n",
       "                        <td id=\"T_b2fa0f85_ae81_11eb_8557_90324b008b86row7_col1\" class=\"data row7 col1\" >0</td>\n",
       "                        <td id=\"T_b2fa0f85_ae81_11eb_8557_90324b008b86row7_col2\" class=\"data row7 col2\" >0</td>\n",
       "                        <td id=\"T_b2fa0f85_ae81_11eb_8557_90324b008b86row7_col3\" class=\"data row7 col3\" >5</td>\n",
       "            </tr>\n",
       "            <tr>\n",
       "                        <th id=\"T_b2fa0f85_ae81_11eb_8557_90324b008b86level0_row8\" class=\"row_heading level0 row8\" rowspan=2>Royalty</th>\n",
       "                        <th id=\"T_b2fa0f85_ae81_11eb_8557_90324b008b86level1_row8\" class=\"row_heading level1 row8\" >0</th>\n",
       "                        <td id=\"T_b2fa0f85_ae81_11eb_8557_90324b008b86row8_col0\" class=\"data row8 col0\" >2</td>\n",
       "                        <td id=\"T_b2fa0f85_ae81_11eb_8557_90324b008b86row8_col1\" class=\"data row8 col1\" >0</td>\n",
       "                        <td id=\"T_b2fa0f85_ae81_11eb_8557_90324b008b86row8_col2\" class=\"data row8 col2\" >0</td>\n",
       "                        <td id=\"T_b2fa0f85_ae81_11eb_8557_90324b008b86row8_col3\" class=\"data row8 col3\" >2</td>\n",
       "            </tr>\n",
       "            <tr>\n",
       "                                <th id=\"T_b2fa0f85_ae81_11eb_8557_90324b008b86level1_row9\" class=\"row_heading level1 row9\" >1</th>\n",
       "                        <td id=\"T_b2fa0f85_ae81_11eb_8557_90324b008b86row9_col0\" class=\"data row9 col0\" >3</td>\n",
       "                        <td id=\"T_b2fa0f85_ae81_11eb_8557_90324b008b86row9_col1\" class=\"data row9 col1\" >0</td>\n",
       "                        <td id=\"T_b2fa0f85_ae81_11eb_8557_90324b008b86row9_col2\" class=\"data row9 col2\" >0</td>\n",
       "                        <td id=\"T_b2fa0f85_ae81_11eb_8557_90324b008b86row9_col3\" class=\"data row9 col3\" >3</td>\n",
       "            </tr>\n",
       "            <tr>\n",
       "                        <th id=\"T_b2fa0f85_ae81_11eb_8557_90324b008b86level0_row10\" class=\"row_heading level0 row10\" >All</th>\n",
       "                        <th id=\"T_b2fa0f85_ae81_11eb_8557_90324b008b86level1_row10\" class=\"row_heading level1 row10\" ></th>\n",
       "                        <td id=\"T_b2fa0f85_ae81_11eb_8557_90324b008b86row10_col0\" class=\"data row10 col0\" >214</td>\n",
       "                        <td id=\"T_b2fa0f85_ae81_11eb_8557_90324b008b86row10_col1\" class=\"data row10 col1\" >184</td>\n",
       "                        <td id=\"T_b2fa0f85_ae81_11eb_8557_90324b008b86row10_col2\" class=\"data row10 col2\" >491</td>\n",
       "                        <td id=\"T_b2fa0f85_ae81_11eb_8557_90324b008b86row10_col3\" class=\"data row10 col3\" >889</td>\n",
       "            </tr>\n",
       "    </tbody></table>"
      ],
      "text/plain": [
       "<pandas.io.formats.style.Styler at 0x254d369f430>"
      ]
     },
     "execution_count": 50,
     "metadata": {},
     "output_type": "execute_result"
    }
   ],
   "source": [
    "pd.crosstab([data_frame[\"Title\"], data_frame[\"Survived\"]], data_frame[\"Pclass\"], margins = True).style.background_gradient(cmap = \"summer_r\")"
   ]
  },
  {
   "cell_type": "code",
   "execution_count": 51,
   "metadata": {},
   "outputs": [
    {
     "data": {
      "text/html": [
       "<style  type=\"text/css\" >\n",
       "#T_b30ab898_ae81_11eb_9f2b_90324b008b86row0_col0,#T_b30ab898_ae81_11eb_9f2b_90324b008b86row0_col1,#T_b30ab898_ae81_11eb_9f2b_90324b008b86row0_col2,#T_b30ab898_ae81_11eb_9f2b_90324b008b86row1_col3,#T_b30ab898_ae81_11eb_9f2b_90324b008b86row1_col5,#T_b30ab898_ae81_11eb_9f2b_90324b008b86row1_col6,#T_b30ab898_ae81_11eb_9f2b_90324b008b86row3_col5,#T_b30ab898_ae81_11eb_9f2b_90324b008b86row3_col6,#T_b30ab898_ae81_11eb_9f2b_90324b008b86row5_col4,#T_b30ab898_ae81_11eb_9f2b_90324b008b86row5_col5,#T_b30ab898_ae81_11eb_9f2b_90324b008b86row5_col6,#T_b30ab898_ae81_11eb_9f2b_90324b008b86row6_col3,#T_b30ab898_ae81_11eb_9f2b_90324b008b86row6_col4,#T_b30ab898_ae81_11eb_9f2b_90324b008b86row6_col5,#T_b30ab898_ae81_11eb_9f2b_90324b008b86row6_col6,#T_b30ab898_ae81_11eb_9f2b_90324b008b86row7_col1,#T_b30ab898_ae81_11eb_9f2b_90324b008b86row7_col3,#T_b30ab898_ae81_11eb_9f2b_90324b008b86row7_col4,#T_b30ab898_ae81_11eb_9f2b_90324b008b86row7_col5,#T_b30ab898_ae81_11eb_9f2b_90324b008b86row7_col6,#T_b30ab898_ae81_11eb_9f2b_90324b008b86row7_col7,#T_b30ab898_ae81_11eb_9f2b_90324b008b86row8_col0,#T_b30ab898_ae81_11eb_9f2b_90324b008b86row8_col1,#T_b30ab898_ae81_11eb_9f2b_90324b008b86row8_col2,#T_b30ab898_ae81_11eb_9f2b_90324b008b86row8_col3,#T_b30ab898_ae81_11eb_9f2b_90324b008b86row8_col4,#T_b30ab898_ae81_11eb_9f2b_90324b008b86row8_col5,#T_b30ab898_ae81_11eb_9f2b_90324b008b86row8_col6,#T_b30ab898_ae81_11eb_9f2b_90324b008b86row8_col7,#T_b30ab898_ae81_11eb_9f2b_90324b008b86row9_col0,#T_b30ab898_ae81_11eb_9f2b_90324b008b86row9_col2,#T_b30ab898_ae81_11eb_9f2b_90324b008b86row9_col3,#T_b30ab898_ae81_11eb_9f2b_90324b008b86row9_col4,#T_b30ab898_ae81_11eb_9f2b_90324b008b86row9_col5,#T_b30ab898_ae81_11eb_9f2b_90324b008b86row9_col6,#T_b30ab898_ae81_11eb_9f2b_90324b008b86row9_col7{\n",
       "            background-color:  #ffff66;\n",
       "            color:  #000000;\n",
       "        }#T_b30ab898_ae81_11eb_9f2b_90324b008b86row0_col3,#T_b30ab898_ae81_11eb_9f2b_90324b008b86row3_col2{\n",
       "            background-color:  #bfdf66;\n",
       "            color:  #000000;\n",
       "        }#T_b30ab898_ae81_11eb_9f2b_90324b008b86row0_col4{\n",
       "            background-color:  #7fbf66;\n",
       "            color:  #000000;\n",
       "        }#T_b30ab898_ae81_11eb_9f2b_90324b008b86row0_col5{\n",
       "            background-color:  #66b266;\n",
       "            color:  #000000;\n",
       "        }#T_b30ab898_ae81_11eb_9f2b_90324b008b86row0_col6,#T_b30ab898_ae81_11eb_9f2b_90324b008b86row3_col7,#T_b30ab898_ae81_11eb_9f2b_90324b008b86row5_col2{\n",
       "            background-color:  #dbed66;\n",
       "            color:  #000000;\n",
       "        }#T_b30ab898_ae81_11eb_9f2b_90324b008b86row0_col7,#T_b30ab898_ae81_11eb_9f2b_90324b008b86row6_col0{\n",
       "            background-color:  #fbfd66;\n",
       "            color:  #000000;\n",
       "        }#T_b30ab898_ae81_11eb_9f2b_90324b008b86row1_col0,#T_b30ab898_ae81_11eb_9f2b_90324b008b86row6_col1,#T_b30ab898_ae81_11eb_9f2b_90324b008b86row9_col1{\n",
       "            background-color:  #fdfe66;\n",
       "            color:  #000000;\n",
       "        }#T_b30ab898_ae81_11eb_9f2b_90324b008b86row1_col1{\n",
       "            background-color:  #edf666;\n",
       "            color:  #000000;\n",
       "        }#T_b30ab898_ae81_11eb_9f2b_90324b008b86row1_col2,#T_b30ab898_ae81_11eb_9f2b_90324b008b86row2_col1,#T_b30ab898_ae81_11eb_9f2b_90324b008b86row6_col2,#T_b30ab898_ae81_11eb_9f2b_90324b008b86row7_col2{\n",
       "            background-color:  #f6fa66;\n",
       "            color:  #000000;\n",
       "        }#T_b30ab898_ae81_11eb_9f2b_90324b008b86row1_col4{\n",
       "            background-color:  #f1f866;\n",
       "            color:  #000000;\n",
       "        }#T_b30ab898_ae81_11eb_9f2b_90324b008b86row1_col7{\n",
       "            background-color:  #f9fc66;\n",
       "            color:  #000000;\n",
       "        }#T_b30ab898_ae81_11eb_9f2b_90324b008b86row2_col0{\n",
       "            background-color:  #f3f966;\n",
       "            color:  #000000;\n",
       "        }#T_b30ab898_ae81_11eb_9f2b_90324b008b86row2_col2{\n",
       "            background-color:  #e4f266;\n",
       "            color:  #000000;\n",
       "        }#T_b30ab898_ae81_11eb_9f2b_90324b008b86row2_col3{\n",
       "            background-color:  #8fc766;\n",
       "            color:  #000000;\n",
       "        }#T_b30ab898_ae81_11eb_9f2b_90324b008b86row2_col4{\n",
       "            background-color:  #c7e366;\n",
       "            color:  #000000;\n",
       "        }#T_b30ab898_ae81_11eb_9f2b_90324b008b86row2_col5,#T_b30ab898_ae81_11eb_9f2b_90324b008b86row4_col5,#T_b30ab898_ae81_11eb_9f2b_90324b008b86row5_col7{\n",
       "            background-color:  #cce666;\n",
       "            color:  #000000;\n",
       "        }#T_b30ab898_ae81_11eb_9f2b_90324b008b86row2_col6,#T_b30ab898_ae81_11eb_9f2b_90324b008b86row4_col6{\n",
       "            background-color:  #92c866;\n",
       "            color:  #000000;\n",
       "        }#T_b30ab898_ae81_11eb_9f2b_90324b008b86row2_col7{\n",
       "            background-color:  #f0f866;\n",
       "            color:  #000000;\n",
       "        }#T_b30ab898_ae81_11eb_9f2b_90324b008b86row3_col0{\n",
       "            background-color:  #d7eb66;\n",
       "            color:  #000000;\n",
       "        }#T_b30ab898_ae81_11eb_9f2b_90324b008b86row3_col1{\n",
       "            background-color:  #e5f266;\n",
       "            color:  #000000;\n",
       "        }#T_b30ab898_ae81_11eb_9f2b_90324b008b86row3_col3,#T_b30ab898_ae81_11eb_9f2b_90324b008b86row5_col3{\n",
       "            background-color:  #dfef66;\n",
       "            color:  #000000;\n",
       "        }#T_b30ab898_ae81_11eb_9f2b_90324b008b86row3_col4,#T_b30ab898_ae81_11eb_9f2b_90324b008b86row4_col4{\n",
       "            background-color:  #e3f166;\n",
       "            color:  #000000;\n",
       "        }#T_b30ab898_ae81_11eb_9f2b_90324b008b86row4_col0{\n",
       "            background-color:  #69b466;\n",
       "            color:  #000000;\n",
       "        }#T_b30ab898_ae81_11eb_9f2b_90324b008b86row4_col1{\n",
       "            background-color:  #95ca66;\n",
       "            color:  #000000;\n",
       "        }#T_b30ab898_ae81_11eb_9f2b_90324b008b86row4_col2{\n",
       "            background-color:  #9bcd66;\n",
       "            color:  #000000;\n",
       "        }#T_b30ab898_ae81_11eb_9f2b_90324b008b86row4_col3{\n",
       "            background-color:  #eff766;\n",
       "            color:  #000000;\n",
       "        }#T_b30ab898_ae81_11eb_9f2b_90324b008b86row4_col7{\n",
       "            background-color:  #7bbd66;\n",
       "            color:  #000000;\n",
       "        }#T_b30ab898_ae81_11eb_9f2b_90324b008b86row5_col0{\n",
       "            background-color:  #d5ea66;\n",
       "            color:  #000000;\n",
       "        }#T_b30ab898_ae81_11eb_9f2b_90324b008b86row5_col1{\n",
       "            background-color:  #a6d266;\n",
       "            color:  #000000;\n",
       "        }#T_b30ab898_ae81_11eb_9f2b_90324b008b86row6_col7{\n",
       "            background-color:  #fcfe66;\n",
       "            color:  #000000;\n",
       "        }#T_b30ab898_ae81_11eb_9f2b_90324b008b86row7_col0{\n",
       "            background-color:  #fefe66;\n",
       "            color:  #000000;\n",
       "        }#T_b30ab898_ae81_11eb_9f2b_90324b008b86row10_col0,#T_b30ab898_ae81_11eb_9f2b_90324b008b86row10_col1,#T_b30ab898_ae81_11eb_9f2b_90324b008b86row10_col2,#T_b30ab898_ae81_11eb_9f2b_90324b008b86row10_col3,#T_b30ab898_ae81_11eb_9f2b_90324b008b86row10_col4,#T_b30ab898_ae81_11eb_9f2b_90324b008b86row10_col5,#T_b30ab898_ae81_11eb_9f2b_90324b008b86row10_col6,#T_b30ab898_ae81_11eb_9f2b_90324b008b86row10_col7{\n",
       "            background-color:  #008066;\n",
       "            color:  #f1f1f1;\n",
       "        }</style><table id=\"T_b30ab898_ae81_11eb_9f2b_90324b008b86\" ><thead>    <tr>        <th class=\"blank\" ></th>        <th class=\"index_name level0\" >SibSp</th>        <th class=\"col_heading level0 col0\" >0</th>        <th class=\"col_heading level0 col1\" >1</th>        <th class=\"col_heading level0 col2\" >2</th>        <th class=\"col_heading level0 col3\" >3</th>        <th class=\"col_heading level0 col4\" >4</th>        <th class=\"col_heading level0 col5\" >5</th>        <th class=\"col_heading level0 col6\" >8</th>        <th class=\"col_heading level0 col7\" >All</th>    </tr>    <tr>        <th class=\"index_name level0\" >Title</th>        <th class=\"index_name level1\" >Survived</th>        <th class=\"blank\" ></th>        <th class=\"blank\" ></th>        <th class=\"blank\" ></th>        <th class=\"blank\" ></th>        <th class=\"blank\" ></th>        <th class=\"blank\" ></th>        <th class=\"blank\" ></th>        <th class=\"blank\" ></th>    </tr></thead><tbody>\n",
       "                <tr>\n",
       "                        <th id=\"T_b30ab898_ae81_11eb_9f2b_90324b008b86level0_row0\" class=\"row_heading level0 row0\" rowspan=2>Master</th>\n",
       "                        <th id=\"T_b30ab898_ae81_11eb_9f2b_90324b008b86level1_row0\" class=\"row_heading level1 row0\" >0</th>\n",
       "                        <td id=\"T_b30ab898_ae81_11eb_9f2b_90324b008b86row0_col0\" class=\"data row0 col0\" >0</td>\n",
       "                        <td id=\"T_b30ab898_ae81_11eb_9f2b_90324b008b86row0_col1\" class=\"data row0 col1\" >0</td>\n",
       "                        <td id=\"T_b30ab898_ae81_11eb_9f2b_90324b008b86row0_col2\" class=\"data row0 col2\" >0</td>\n",
       "                        <td id=\"T_b30ab898_ae81_11eb_9f2b_90324b008b86row0_col3\" class=\"data row0 col3\" >4</td>\n",
       "                        <td id=\"T_b30ab898_ae81_11eb_9f2b_90324b008b86row0_col4\" class=\"data row0 col4\" >9</td>\n",
       "                        <td id=\"T_b30ab898_ae81_11eb_9f2b_90324b008b86row0_col5\" class=\"data row0 col5\" >3</td>\n",
       "                        <td id=\"T_b30ab898_ae81_11eb_9f2b_90324b008b86row0_col6\" class=\"data row0 col6\" >1</td>\n",
       "                        <td id=\"T_b30ab898_ae81_11eb_9f2b_90324b008b86row0_col7\" class=\"data row0 col7\" >17</td>\n",
       "            </tr>\n",
       "            <tr>\n",
       "                                <th id=\"T_b30ab898_ae81_11eb_9f2b_90324b008b86level1_row1\" class=\"row_heading level1 row1\" >1</th>\n",
       "                        <td id=\"T_b30ab898_ae81_11eb_9f2b_90324b008b86row1_col0\" class=\"data row1 col0\" >6</td>\n",
       "                        <td id=\"T_b30ab898_ae81_11eb_9f2b_90324b008b86row1_col1\" class=\"data row1 col1\" >15</td>\n",
       "                        <td id=\"T_b30ab898_ae81_11eb_9f2b_90324b008b86row1_col2\" class=\"data row1 col2\" >1</td>\n",
       "                        <td id=\"T_b30ab898_ae81_11eb_9f2b_90324b008b86row1_col3\" class=\"data row1 col3\" >0</td>\n",
       "                        <td id=\"T_b30ab898_ae81_11eb_9f2b_90324b008b86row1_col4\" class=\"data row1 col4\" >1</td>\n",
       "                        <td id=\"T_b30ab898_ae81_11eb_9f2b_90324b008b86row1_col5\" class=\"data row1 col5\" >0</td>\n",
       "                        <td id=\"T_b30ab898_ae81_11eb_9f2b_90324b008b86row1_col6\" class=\"data row1 col6\" >0</td>\n",
       "                        <td id=\"T_b30ab898_ae81_11eb_9f2b_90324b008b86row1_col7\" class=\"data row1 col7\" >23</td>\n",
       "            </tr>\n",
       "            <tr>\n",
       "                        <th id=\"T_b30ab898_ae81_11eb_9f2b_90324b008b86level0_row2\" class=\"row_heading level0 row2\" rowspan=2>Miss</th>\n",
       "                        <th id=\"T_b30ab898_ae81_11eb_9f2b_90324b008b86level1_row2\" class=\"row_heading level1 row2\" >0</th>\n",
       "                        <td id=\"T_b30ab898_ae81_11eb_9f2b_90324b008b86row2_col0\" class=\"data row2 col0\" >29</td>\n",
       "                        <td id=\"T_b30ab898_ae81_11eb_9f2b_90324b008b86row2_col1\" class=\"data row2 col1\" >8</td>\n",
       "                        <td id=\"T_b30ab898_ae81_11eb_9f2b_90324b008b86row2_col2\" class=\"data row2 col2\" >3</td>\n",
       "                        <td id=\"T_b30ab898_ae81_11eb_9f2b_90324b008b86row2_col3\" class=\"data row2 col3\" >7</td>\n",
       "                        <td id=\"T_b30ab898_ae81_11eb_9f2b_90324b008b86row2_col4\" class=\"data row2 col4\" >4</td>\n",
       "                        <td id=\"T_b30ab898_ae81_11eb_9f2b_90324b008b86row2_col5\" class=\"data row2 col5\" >1</td>\n",
       "                        <td id=\"T_b30ab898_ae81_11eb_9f2b_90324b008b86row2_col6\" class=\"data row2 col6\" >3</td>\n",
       "                        <td id=\"T_b30ab898_ae81_11eb_9f2b_90324b008b86row2_col7\" class=\"data row2 col7\" >55</td>\n",
       "            </tr>\n",
       "            <tr>\n",
       "                                <th id=\"T_b30ab898_ae81_11eb_9f2b_90324b008b86level1_row3\" class=\"row_heading level1 row3\" >1</th>\n",
       "                        <td id=\"T_b30ab898_ae81_11eb_9f2b_90324b008b86row3_col0\" class=\"data row3 col0\" >96</td>\n",
       "                        <td id=\"T_b30ab898_ae81_11eb_9f2b_90324b008b86row3_col1\" class=\"data row3 col1\" >22</td>\n",
       "                        <td id=\"T_b30ab898_ae81_11eb_9f2b_90324b008b86row3_col2\" class=\"data row3 col2\" >7</td>\n",
       "                        <td id=\"T_b30ab898_ae81_11eb_9f2b_90324b008b86row3_col3\" class=\"data row3 col3\" >2</td>\n",
       "                        <td id=\"T_b30ab898_ae81_11eb_9f2b_90324b008b86row3_col4\" class=\"data row3 col4\" >2</td>\n",
       "                        <td id=\"T_b30ab898_ae81_11eb_9f2b_90324b008b86row3_col5\" class=\"data row3 col5\" >0</td>\n",
       "                        <td id=\"T_b30ab898_ae81_11eb_9f2b_90324b008b86row3_col6\" class=\"data row3 col6\" >0</td>\n",
       "                        <td id=\"T_b30ab898_ae81_11eb_9f2b_90324b008b86row3_col7\" class=\"data row3 col7\" >129</td>\n",
       "            </tr>\n",
       "            <tr>\n",
       "                        <th id=\"T_b30ab898_ae81_11eb_9f2b_90324b008b86level0_row4\" class=\"row_heading level0 row4\" rowspan=2>Mrs</th>\n",
       "                        <th id=\"T_b30ab898_ae81_11eb_9f2b_90324b008b86level1_row4\" class=\"row_heading level1 row4\" >0</th>\n",
       "                        <td id=\"T_b30ab898_ae81_11eb_9f2b_90324b008b86row4_col0\" class=\"data row4 col0\" >357</td>\n",
       "                        <td id=\"T_b30ab898_ae81_11eb_9f2b_90324b008b86row4_col1\" class=\"data row4 col1\" >87</td>\n",
       "                        <td id=\"T_b30ab898_ae81_11eb_9f2b_90324b008b86row4_col2\" class=\"data row4 col2\" >11</td>\n",
       "                        <td id=\"T_b30ab898_ae81_11eb_9f2b_90324b008b86row4_col3\" class=\"data row4 col3\" >1</td>\n",
       "                        <td id=\"T_b30ab898_ae81_11eb_9f2b_90324b008b86row4_col4\" class=\"data row4 col4\" >2</td>\n",
       "                        <td id=\"T_b30ab898_ae81_11eb_9f2b_90324b008b86row4_col5\" class=\"data row4 col5\" >1</td>\n",
       "                        <td id=\"T_b30ab898_ae81_11eb_9f2b_90324b008b86row4_col6\" class=\"data row4 col6\" >3</td>\n",
       "                        <td id=\"T_b30ab898_ae81_11eb_9f2b_90324b008b86row4_col7\" class=\"data row4 col7\" >462</td>\n",
       "            </tr>\n",
       "            <tr>\n",
       "                                <th id=\"T_b30ab898_ae81_11eb_9f2b_90324b008b86level1_row5\" class=\"row_heading level1 row5\" >1</th>\n",
       "                        <td id=\"T_b30ab898_ae81_11eb_9f2b_90324b008b86row5_col0\" class=\"data row5 col0\" >101</td>\n",
       "                        <td id=\"T_b30ab898_ae81_11eb_9f2b_90324b008b86row5_col1\" class=\"data row5 col1\" >73</td>\n",
       "                        <td id=\"T_b30ab898_ae81_11eb_9f2b_90324b008b86row5_col2\" class=\"data row5 col2\" >4</td>\n",
       "                        <td id=\"T_b30ab898_ae81_11eb_9f2b_90324b008b86row5_col3\" class=\"data row5 col3\" >2</td>\n",
       "                        <td id=\"T_b30ab898_ae81_11eb_9f2b_90324b008b86row5_col4\" class=\"data row5 col4\" >0</td>\n",
       "                        <td id=\"T_b30ab898_ae81_11eb_9f2b_90324b008b86row5_col5\" class=\"data row5 col5\" >0</td>\n",
       "                        <td id=\"T_b30ab898_ae81_11eb_9f2b_90324b008b86row5_col6\" class=\"data row5 col6\" >0</td>\n",
       "                        <td id=\"T_b30ab898_ae81_11eb_9f2b_90324b008b86row5_col7\" class=\"data row5 col7\" >180</td>\n",
       "            </tr>\n",
       "            <tr>\n",
       "                        <th id=\"T_b30ab898_ae81_11eb_9f2b_90324b008b86level0_row6\" class=\"row_heading level0 row6\" rowspan=2>Officer</th>\n",
       "                        <th id=\"T_b30ab898_ae81_11eb_9f2b_90324b008b86level1_row6\" class=\"row_heading level1 row6\" >0</th>\n",
       "                        <td id=\"T_b30ab898_ae81_11eb_9f2b_90324b008b86row6_col0\" class=\"data row6 col0\" >10</td>\n",
       "                        <td id=\"T_b30ab898_ae81_11eb_9f2b_90324b008b86row6_col1\" class=\"data row6 col1\" >2</td>\n",
       "                        <td id=\"T_b30ab898_ae81_11eb_9f2b_90324b008b86row6_col2\" class=\"data row6 col2\" >1</td>\n",
       "                        <td id=\"T_b30ab898_ae81_11eb_9f2b_90324b008b86row6_col3\" class=\"data row6 col3\" >0</td>\n",
       "                        <td id=\"T_b30ab898_ae81_11eb_9f2b_90324b008b86row6_col4\" class=\"data row6 col4\" >0</td>\n",
       "                        <td id=\"T_b30ab898_ae81_11eb_9f2b_90324b008b86row6_col5\" class=\"data row6 col5\" >0</td>\n",
       "                        <td id=\"T_b30ab898_ae81_11eb_9f2b_90324b008b86row6_col6\" class=\"data row6 col6\" >0</td>\n",
       "                        <td id=\"T_b30ab898_ae81_11eb_9f2b_90324b008b86row6_col7\" class=\"data row6 col7\" >13</td>\n",
       "            </tr>\n",
       "            <tr>\n",
       "                                <th id=\"T_b30ab898_ae81_11eb_9f2b_90324b008b86level1_row7\" class=\"row_heading level1 row7\" >1</th>\n",
       "                        <td id=\"T_b30ab898_ae81_11eb_9f2b_90324b008b86row7_col0\" class=\"data row7 col0\" >4</td>\n",
       "                        <td id=\"T_b30ab898_ae81_11eb_9f2b_90324b008b86row7_col1\" class=\"data row7 col1\" >0</td>\n",
       "                        <td id=\"T_b30ab898_ae81_11eb_9f2b_90324b008b86row7_col2\" class=\"data row7 col2\" >1</td>\n",
       "                        <td id=\"T_b30ab898_ae81_11eb_9f2b_90324b008b86row7_col3\" class=\"data row7 col3\" >0</td>\n",
       "                        <td id=\"T_b30ab898_ae81_11eb_9f2b_90324b008b86row7_col4\" class=\"data row7 col4\" >0</td>\n",
       "                        <td id=\"T_b30ab898_ae81_11eb_9f2b_90324b008b86row7_col5\" class=\"data row7 col5\" >0</td>\n",
       "                        <td id=\"T_b30ab898_ae81_11eb_9f2b_90324b008b86row7_col6\" class=\"data row7 col6\" >0</td>\n",
       "                        <td id=\"T_b30ab898_ae81_11eb_9f2b_90324b008b86row7_col7\" class=\"data row7 col7\" >5</td>\n",
       "            </tr>\n",
       "            <tr>\n",
       "                        <th id=\"T_b30ab898_ae81_11eb_9f2b_90324b008b86level0_row8\" class=\"row_heading level0 row8\" rowspan=2>Royalty</th>\n",
       "                        <th id=\"T_b30ab898_ae81_11eb_9f2b_90324b008b86level1_row8\" class=\"row_heading level1 row8\" >0</th>\n",
       "                        <td id=\"T_b30ab898_ae81_11eb_9f2b_90324b008b86row8_col0\" class=\"data row8 col0\" >2</td>\n",
       "                        <td id=\"T_b30ab898_ae81_11eb_9f2b_90324b008b86row8_col1\" class=\"data row8 col1\" >0</td>\n",
       "                        <td id=\"T_b30ab898_ae81_11eb_9f2b_90324b008b86row8_col2\" class=\"data row8 col2\" >0</td>\n",
       "                        <td id=\"T_b30ab898_ae81_11eb_9f2b_90324b008b86row8_col3\" class=\"data row8 col3\" >0</td>\n",
       "                        <td id=\"T_b30ab898_ae81_11eb_9f2b_90324b008b86row8_col4\" class=\"data row8 col4\" >0</td>\n",
       "                        <td id=\"T_b30ab898_ae81_11eb_9f2b_90324b008b86row8_col5\" class=\"data row8 col5\" >0</td>\n",
       "                        <td id=\"T_b30ab898_ae81_11eb_9f2b_90324b008b86row8_col6\" class=\"data row8 col6\" >0</td>\n",
       "                        <td id=\"T_b30ab898_ae81_11eb_9f2b_90324b008b86row8_col7\" class=\"data row8 col7\" >2</td>\n",
       "            </tr>\n",
       "            <tr>\n",
       "                                <th id=\"T_b30ab898_ae81_11eb_9f2b_90324b008b86level1_row9\" class=\"row_heading level1 row9\" >1</th>\n",
       "                        <td id=\"T_b30ab898_ae81_11eb_9f2b_90324b008b86row9_col0\" class=\"data row9 col0\" >1</td>\n",
       "                        <td id=\"T_b30ab898_ae81_11eb_9f2b_90324b008b86row9_col1\" class=\"data row9 col1\" >2</td>\n",
       "                        <td id=\"T_b30ab898_ae81_11eb_9f2b_90324b008b86row9_col2\" class=\"data row9 col2\" >0</td>\n",
       "                        <td id=\"T_b30ab898_ae81_11eb_9f2b_90324b008b86row9_col3\" class=\"data row9 col3\" >0</td>\n",
       "                        <td id=\"T_b30ab898_ae81_11eb_9f2b_90324b008b86row9_col4\" class=\"data row9 col4\" >0</td>\n",
       "                        <td id=\"T_b30ab898_ae81_11eb_9f2b_90324b008b86row9_col5\" class=\"data row9 col5\" >0</td>\n",
       "                        <td id=\"T_b30ab898_ae81_11eb_9f2b_90324b008b86row9_col6\" class=\"data row9 col6\" >0</td>\n",
       "                        <td id=\"T_b30ab898_ae81_11eb_9f2b_90324b008b86row9_col7\" class=\"data row9 col7\" >3</td>\n",
       "            </tr>\n",
       "            <tr>\n",
       "                        <th id=\"T_b30ab898_ae81_11eb_9f2b_90324b008b86level0_row10\" class=\"row_heading level0 row10\" >All</th>\n",
       "                        <th id=\"T_b30ab898_ae81_11eb_9f2b_90324b008b86level1_row10\" class=\"row_heading level1 row10\" ></th>\n",
       "                        <td id=\"T_b30ab898_ae81_11eb_9f2b_90324b008b86row10_col0\" class=\"data row10 col0\" >606</td>\n",
       "                        <td id=\"T_b30ab898_ae81_11eb_9f2b_90324b008b86row10_col1\" class=\"data row10 col1\" >209</td>\n",
       "                        <td id=\"T_b30ab898_ae81_11eb_9f2b_90324b008b86row10_col2\" class=\"data row10 col2\" >28</td>\n",
       "                        <td id=\"T_b30ab898_ae81_11eb_9f2b_90324b008b86row10_col3\" class=\"data row10 col3\" >16</td>\n",
       "                        <td id=\"T_b30ab898_ae81_11eb_9f2b_90324b008b86row10_col4\" class=\"data row10 col4\" >18</td>\n",
       "                        <td id=\"T_b30ab898_ae81_11eb_9f2b_90324b008b86row10_col5\" class=\"data row10 col5\" >5</td>\n",
       "                        <td id=\"T_b30ab898_ae81_11eb_9f2b_90324b008b86row10_col6\" class=\"data row10 col6\" >7</td>\n",
       "                        <td id=\"T_b30ab898_ae81_11eb_9f2b_90324b008b86row10_col7\" class=\"data row10 col7\" >889</td>\n",
       "            </tr>\n",
       "    </tbody></table>"
      ],
      "text/plain": [
       "<pandas.io.formats.style.Styler at 0x254d3a096d0>"
      ]
     },
     "execution_count": 51,
     "metadata": {},
     "output_type": "execute_result"
    }
   ],
   "source": [
    "pd.crosstab([data_frame[\"Title\"], data_frame[\"Survived\"]], data_frame[\"SibSp\"], margins = True).style.background_gradient(cmap = \"summer_r\")"
   ]
  },
  {
   "cell_type": "code",
   "execution_count": 52,
   "metadata": {},
   "outputs": [
    {
     "data": {
      "text/html": [
       "<style  type=\"text/css\" >\n",
       "#T_b31a4127_ae81_11eb_9a49_90324b008b86row0_col0,#T_b31a4127_ae81_11eb_9a49_90324b008b86row0_col3,#T_b31a4127_ae81_11eb_9a49_90324b008b86row0_col4,#T_b31a4127_ae81_11eb_9a49_90324b008b86row0_col5,#T_b31a4127_ae81_11eb_9a49_90324b008b86row0_col6,#T_b31a4127_ae81_11eb_9a49_90324b008b86row1_col0,#T_b31a4127_ae81_11eb_9a49_90324b008b86row1_col3,#T_b31a4127_ae81_11eb_9a49_90324b008b86row1_col4,#T_b31a4127_ae81_11eb_9a49_90324b008b86row1_col5,#T_b31a4127_ae81_11eb_9a49_90324b008b86row1_col6,#T_b31a4127_ae81_11eb_9a49_90324b008b86row2_col3,#T_b31a4127_ae81_11eb_9a49_90324b008b86row2_col4,#T_b31a4127_ae81_11eb_9a49_90324b008b86row2_col5,#T_b31a4127_ae81_11eb_9a49_90324b008b86row2_col6,#T_b31a4127_ae81_11eb_9a49_90324b008b86row3_col3,#T_b31a4127_ae81_11eb_9a49_90324b008b86row3_col4,#T_b31a4127_ae81_11eb_9a49_90324b008b86row3_col5,#T_b31a4127_ae81_11eb_9a49_90324b008b86row3_col6,#T_b31a4127_ae81_11eb_9a49_90324b008b86row5_col4,#T_b31a4127_ae81_11eb_9a49_90324b008b86row5_col6,#T_b31a4127_ae81_11eb_9a49_90324b008b86row6_col2,#T_b31a4127_ae81_11eb_9a49_90324b008b86row6_col3,#T_b31a4127_ae81_11eb_9a49_90324b008b86row6_col4,#T_b31a4127_ae81_11eb_9a49_90324b008b86row6_col5,#T_b31a4127_ae81_11eb_9a49_90324b008b86row6_col6,#T_b31a4127_ae81_11eb_9a49_90324b008b86row7_col1,#T_b31a4127_ae81_11eb_9a49_90324b008b86row7_col2,#T_b31a4127_ae81_11eb_9a49_90324b008b86row7_col3,#T_b31a4127_ae81_11eb_9a49_90324b008b86row7_col4,#T_b31a4127_ae81_11eb_9a49_90324b008b86row7_col5,#T_b31a4127_ae81_11eb_9a49_90324b008b86row7_col6,#T_b31a4127_ae81_11eb_9a49_90324b008b86row7_col7,#T_b31a4127_ae81_11eb_9a49_90324b008b86row8_col0,#T_b31a4127_ae81_11eb_9a49_90324b008b86row8_col1,#T_b31a4127_ae81_11eb_9a49_90324b008b86row8_col2,#T_b31a4127_ae81_11eb_9a49_90324b008b86row8_col3,#T_b31a4127_ae81_11eb_9a49_90324b008b86row8_col4,#T_b31a4127_ae81_11eb_9a49_90324b008b86row8_col5,#T_b31a4127_ae81_11eb_9a49_90324b008b86row8_col6,#T_b31a4127_ae81_11eb_9a49_90324b008b86row8_col7,#T_b31a4127_ae81_11eb_9a49_90324b008b86row9_col1,#T_b31a4127_ae81_11eb_9a49_90324b008b86row9_col2,#T_b31a4127_ae81_11eb_9a49_90324b008b86row9_col3,#T_b31a4127_ae81_11eb_9a49_90324b008b86row9_col4,#T_b31a4127_ae81_11eb_9a49_90324b008b86row9_col5,#T_b31a4127_ae81_11eb_9a49_90324b008b86row9_col6,#T_b31a4127_ae81_11eb_9a49_90324b008b86row9_col7{\n",
       "            background-color:  #ffff66;\n",
       "            color:  #000000;\n",
       "        }#T_b31a4127_ae81_11eb_9a49_90324b008b86row0_col1{\n",
       "            background-color:  #ecf666;\n",
       "            color:  #000000;\n",
       "        }#T_b31a4127_ae81_11eb_9a49_90324b008b86row0_col2,#T_b31a4127_ae81_11eb_9a49_90324b008b86row1_col2{\n",
       "            background-color:  #e6f266;\n",
       "            color:  #000000;\n",
       "        }#T_b31a4127_ae81_11eb_9a49_90324b008b86row0_col7,#T_b31a4127_ae81_11eb_9a49_90324b008b86row6_col0,#T_b31a4127_ae81_11eb_9a49_90324b008b86row6_col1{\n",
       "            background-color:  #fbfd66;\n",
       "            color:  #000000;\n",
       "        }#T_b31a4127_ae81_11eb_9a49_90324b008b86row1_col1{\n",
       "            background-color:  #e1f066;\n",
       "            color:  #000000;\n",
       "        }#T_b31a4127_ae81_11eb_9a49_90324b008b86row1_col7{\n",
       "            background-color:  #f9fc66;\n",
       "            color:  #000000;\n",
       "        }#T_b31a4127_ae81_11eb_9a49_90324b008b86row2_col0{\n",
       "            background-color:  #f4fa66;\n",
       "            color:  #000000;\n",
       "        }#T_b31a4127_ae81_11eb_9a49_90324b008b86row2_col1{\n",
       "            background-color:  #eef666;\n",
       "            color:  #000000;\n",
       "        }#T_b31a4127_ae81_11eb_9a49_90324b008b86row2_col2,#T_b31a4127_ae81_11eb_9a49_90324b008b86row4_col2,#T_b31a4127_ae81_11eb_9a49_90324b008b86row5_col5,#T_b31a4127_ae81_11eb_9a49_90324b008b86row5_col7{\n",
       "            background-color:  #cce666;\n",
       "            color:  #000000;\n",
       "        }#T_b31a4127_ae81_11eb_9a49_90324b008b86row2_col7{\n",
       "            background-color:  #f0f866;\n",
       "            color:  #000000;\n",
       "        }#T_b31a4127_ae81_11eb_9a49_90324b008b86row3_col0{\n",
       "            background-color:  #deee66;\n",
       "            color:  #000000;\n",
       "        }#T_b31a4127_ae81_11eb_9a49_90324b008b86row3_col1{\n",
       "            background-color:  #d4ea66;\n",
       "            color:  #000000;\n",
       "        }#T_b31a4127_ae81_11eb_9a49_90324b008b86row3_col2{\n",
       "            background-color:  #bfdf66;\n",
       "            color:  #000000;\n",
       "        }#T_b31a4127_ae81_11eb_9a49_90324b008b86row3_col7{\n",
       "            background-color:  #dbed66;\n",
       "            color:  #000000;\n",
       "        }#T_b31a4127_ae81_11eb_9a49_90324b008b86row4_col0{\n",
       "            background-color:  #68b366;\n",
       "            color:  #000000;\n",
       "        }#T_b31a4127_ae81_11eb_9a49_90324b008b86row4_col1{\n",
       "            background-color:  #b6db66;\n",
       "            color:  #000000;\n",
       "        }#T_b31a4127_ae81_11eb_9a49_90324b008b86row4_col3{\n",
       "            background-color:  #99cc66;\n",
       "            color:  #000000;\n",
       "        }#T_b31a4127_ae81_11eb_9a49_90324b008b86row4_col4,#T_b31a4127_ae81_11eb_9a49_90324b008b86row4_col6,#T_b31a4127_ae81_11eb_9a49_90324b008b86row10_col0,#T_b31a4127_ae81_11eb_9a49_90324b008b86row10_col1,#T_b31a4127_ae81_11eb_9a49_90324b008b86row10_col2,#T_b31a4127_ae81_11eb_9a49_90324b008b86row10_col3,#T_b31a4127_ae81_11eb_9a49_90324b008b86row10_col4,#T_b31a4127_ae81_11eb_9a49_90324b008b86row10_col5,#T_b31a4127_ae81_11eb_9a49_90324b008b86row10_col6,#T_b31a4127_ae81_11eb_9a49_90324b008b86row10_col7{\n",
       "            background-color:  #008066;\n",
       "            color:  #f1f1f1;\n",
       "        }#T_b31a4127_ae81_11eb_9a49_90324b008b86row4_col5{\n",
       "            background-color:  #339966;\n",
       "            color:  #000000;\n",
       "        }#T_b31a4127_ae81_11eb_9a49_90324b008b86row4_col7{\n",
       "            background-color:  #7bbd66;\n",
       "            color:  #000000;\n",
       "        }#T_b31a4127_ae81_11eb_9a49_90324b008b86row5_col0{\n",
       "            background-color:  #cde666;\n",
       "            color:  #000000;\n",
       "        }#T_b31a4127_ae81_11eb_9a49_90324b008b86row5_col1{\n",
       "            background-color:  #bcde66;\n",
       "            color:  #000000;\n",
       "        }#T_b31a4127_ae81_11eb_9a49_90324b008b86row5_col2{\n",
       "            background-color:  #d9ec66;\n",
       "            color:  #000000;\n",
       "        }#T_b31a4127_ae81_11eb_9a49_90324b008b86row5_col3{\n",
       "            background-color:  #66b266;\n",
       "            color:  #000000;\n",
       "        }#T_b31a4127_ae81_11eb_9a49_90324b008b86row6_col7{\n",
       "            background-color:  #fcfe66;\n",
       "            color:  #000000;\n",
       "        }#T_b31a4127_ae81_11eb_9a49_90324b008b86row7_col0,#T_b31a4127_ae81_11eb_9a49_90324b008b86row9_col0{\n",
       "            background-color:  #fefe66;\n",
       "            color:  #000000;\n",
       "        }</style><table id=\"T_b31a4127_ae81_11eb_9a49_90324b008b86\" ><thead>    <tr>        <th class=\"blank\" ></th>        <th class=\"index_name level0\" >Parch</th>        <th class=\"col_heading level0 col0\" >0</th>        <th class=\"col_heading level0 col1\" >1</th>        <th class=\"col_heading level0 col2\" >2</th>        <th class=\"col_heading level0 col3\" >3</th>        <th class=\"col_heading level0 col4\" >4</th>        <th class=\"col_heading level0 col5\" >5</th>        <th class=\"col_heading level0 col6\" >6</th>        <th class=\"col_heading level0 col7\" >All</th>    </tr>    <tr>        <th class=\"index_name level0\" >Title</th>        <th class=\"index_name level1\" >Survived</th>        <th class=\"blank\" ></th>        <th class=\"blank\" ></th>        <th class=\"blank\" ></th>        <th class=\"blank\" ></th>        <th class=\"blank\" ></th>        <th class=\"blank\" ></th>        <th class=\"blank\" ></th>        <th class=\"blank\" ></th>    </tr></thead><tbody>\n",
       "                <tr>\n",
       "                        <th id=\"T_b31a4127_ae81_11eb_9a49_90324b008b86level0_row0\" class=\"row_heading level0 row0\" rowspan=2>Master</th>\n",
       "                        <th id=\"T_b31a4127_ae81_11eb_9a49_90324b008b86level1_row0\" class=\"row_heading level1 row0\" >0</th>\n",
       "                        <td id=\"T_b31a4127_ae81_11eb_9a49_90324b008b86row0_col0\" class=\"data row0 col0\" >0</td>\n",
       "                        <td id=\"T_b31a4127_ae81_11eb_9a49_90324b008b86row0_col1\" class=\"data row0 col1\" >9</td>\n",
       "                        <td id=\"T_b31a4127_ae81_11eb_9a49_90324b008b86row0_col2\" class=\"data row0 col2\" >8</td>\n",
       "                        <td id=\"T_b31a4127_ae81_11eb_9a49_90324b008b86row0_col3\" class=\"data row0 col3\" >0</td>\n",
       "                        <td id=\"T_b31a4127_ae81_11eb_9a49_90324b008b86row0_col4\" class=\"data row0 col4\" >0</td>\n",
       "                        <td id=\"T_b31a4127_ae81_11eb_9a49_90324b008b86row0_col5\" class=\"data row0 col5\" >0</td>\n",
       "                        <td id=\"T_b31a4127_ae81_11eb_9a49_90324b008b86row0_col6\" class=\"data row0 col6\" >0</td>\n",
       "                        <td id=\"T_b31a4127_ae81_11eb_9a49_90324b008b86row0_col7\" class=\"data row0 col7\" >17</td>\n",
       "            </tr>\n",
       "            <tr>\n",
       "                                <th id=\"T_b31a4127_ae81_11eb_9a49_90324b008b86level1_row1\" class=\"row_heading level1 row1\" >1</th>\n",
       "                        <td id=\"T_b31a4127_ae81_11eb_9a49_90324b008b86row1_col0\" class=\"data row1 col0\" >1</td>\n",
       "                        <td id=\"T_b31a4127_ae81_11eb_9a49_90324b008b86row1_col1\" class=\"data row1 col1\" >14</td>\n",
       "                        <td id=\"T_b31a4127_ae81_11eb_9a49_90324b008b86row1_col2\" class=\"data row1 col2\" >8</td>\n",
       "                        <td id=\"T_b31a4127_ae81_11eb_9a49_90324b008b86row1_col3\" class=\"data row1 col3\" >0</td>\n",
       "                        <td id=\"T_b31a4127_ae81_11eb_9a49_90324b008b86row1_col4\" class=\"data row1 col4\" >0</td>\n",
       "                        <td id=\"T_b31a4127_ae81_11eb_9a49_90324b008b86row1_col5\" class=\"data row1 col5\" >0</td>\n",
       "                        <td id=\"T_b31a4127_ae81_11eb_9a49_90324b008b86row1_col6\" class=\"data row1 col6\" >0</td>\n",
       "                        <td id=\"T_b31a4127_ae81_11eb_9a49_90324b008b86row1_col7\" class=\"data row1 col7\" >23</td>\n",
       "            </tr>\n",
       "            <tr>\n",
       "                        <th id=\"T_b31a4127_ae81_11eb_9a49_90324b008b86level0_row2\" class=\"row_heading level0 row2\" rowspan=2>Miss</th>\n",
       "                        <th id=\"T_b31a4127_ae81_11eb_9a49_90324b008b86level1_row2\" class=\"row_heading level1 row2\" >0</th>\n",
       "                        <td id=\"T_b31a4127_ae81_11eb_9a49_90324b008b86row2_col0\" class=\"data row2 col0\" >31</td>\n",
       "                        <td id=\"T_b31a4127_ae81_11eb_9a49_90324b008b86row2_col1\" class=\"data row2 col1\" >8</td>\n",
       "                        <td id=\"T_b31a4127_ae81_11eb_9a49_90324b008b86row2_col2\" class=\"data row2 col2\" >16</td>\n",
       "                        <td id=\"T_b31a4127_ae81_11eb_9a49_90324b008b86row2_col3\" class=\"data row2 col3\" >0</td>\n",
       "                        <td id=\"T_b31a4127_ae81_11eb_9a49_90324b008b86row2_col4\" class=\"data row2 col4\" >0</td>\n",
       "                        <td id=\"T_b31a4127_ae81_11eb_9a49_90324b008b86row2_col5\" class=\"data row2 col5\" >0</td>\n",
       "                        <td id=\"T_b31a4127_ae81_11eb_9a49_90324b008b86row2_col6\" class=\"data row2 col6\" >0</td>\n",
       "                        <td id=\"T_b31a4127_ae81_11eb_9a49_90324b008b86row2_col7\" class=\"data row2 col7\" >55</td>\n",
       "            </tr>\n",
       "            <tr>\n",
       "                                <th id=\"T_b31a4127_ae81_11eb_9a49_90324b008b86level1_row3\" class=\"row_heading level1 row3\" >1</th>\n",
       "                        <td id=\"T_b31a4127_ae81_11eb_9a49_90324b008b86row3_col0\" class=\"data row3 col0\" >89</td>\n",
       "                        <td id=\"T_b31a4127_ae81_11eb_9a49_90324b008b86row3_col1\" class=\"data row3 col1\" >20</td>\n",
       "                        <td id=\"T_b31a4127_ae81_11eb_9a49_90324b008b86row3_col2\" class=\"data row3 col2\" >20</td>\n",
       "                        <td id=\"T_b31a4127_ae81_11eb_9a49_90324b008b86row3_col3\" class=\"data row3 col3\" >0</td>\n",
       "                        <td id=\"T_b31a4127_ae81_11eb_9a49_90324b008b86row3_col4\" class=\"data row3 col4\" >0</td>\n",
       "                        <td id=\"T_b31a4127_ae81_11eb_9a49_90324b008b86row3_col5\" class=\"data row3 col5\" >0</td>\n",
       "                        <td id=\"T_b31a4127_ae81_11eb_9a49_90324b008b86row3_col6\" class=\"data row3 col6\" >0</td>\n",
       "                        <td id=\"T_b31a4127_ae81_11eb_9a49_90324b008b86row3_col7\" class=\"data row3 col7\" >129</td>\n",
       "            </tr>\n",
       "            <tr>\n",
       "                        <th id=\"T_b31a4127_ae81_11eb_9a49_90324b008b86level0_row4\" class=\"row_heading level0 row4\" rowspan=2>Mrs</th>\n",
       "                        <th id=\"T_b31a4127_ae81_11eb_9a49_90324b008b86level1_row4\" class=\"row_heading level1 row4\" >0</th>\n",
       "                        <td id=\"T_b31a4127_ae81_11eb_9a49_90324b008b86row4_col0\" class=\"data row4 col0\" >401</td>\n",
       "                        <td id=\"T_b31a4127_ae81_11eb_9a49_90324b008b86row4_col1\" class=\"data row4 col1\" >34</td>\n",
       "                        <td id=\"T_b31a4127_ae81_11eb_9a49_90324b008b86row4_col2\" class=\"data row4 col2\" >16</td>\n",
       "                        <td id=\"T_b31a4127_ae81_11eb_9a49_90324b008b86row4_col3\" class=\"data row4 col3\" >2</td>\n",
       "                        <td id=\"T_b31a4127_ae81_11eb_9a49_90324b008b86row4_col4\" class=\"data row4 col4\" >4</td>\n",
       "                        <td id=\"T_b31a4127_ae81_11eb_9a49_90324b008b86row4_col5\" class=\"data row4 col5\" >4</td>\n",
       "                        <td id=\"T_b31a4127_ae81_11eb_9a49_90324b008b86row4_col6\" class=\"data row4 col6\" >1</td>\n",
       "                        <td id=\"T_b31a4127_ae81_11eb_9a49_90324b008b86row4_col7\" class=\"data row4 col7\" >462</td>\n",
       "            </tr>\n",
       "            <tr>\n",
       "                                <th id=\"T_b31a4127_ae81_11eb_9a49_90324b008b86level1_row5\" class=\"row_heading level1 row5\" >1</th>\n",
       "                        <td id=\"T_b31a4127_ae81_11eb_9a49_90324b008b86row5_col0\" class=\"data row5 col0\" >133</td>\n",
       "                        <td id=\"T_b31a4127_ae81_11eb_9a49_90324b008b86row5_col1\" class=\"data row5 col1\" >31</td>\n",
       "                        <td id=\"T_b31a4127_ae81_11eb_9a49_90324b008b86row5_col2\" class=\"data row5 col2\" >12</td>\n",
       "                        <td id=\"T_b31a4127_ae81_11eb_9a49_90324b008b86row5_col3\" class=\"data row5 col3\" >3</td>\n",
       "                        <td id=\"T_b31a4127_ae81_11eb_9a49_90324b008b86row5_col4\" class=\"data row5 col4\" >0</td>\n",
       "                        <td id=\"T_b31a4127_ae81_11eb_9a49_90324b008b86row5_col5\" class=\"data row5 col5\" >1</td>\n",
       "                        <td id=\"T_b31a4127_ae81_11eb_9a49_90324b008b86row5_col6\" class=\"data row5 col6\" >0</td>\n",
       "                        <td id=\"T_b31a4127_ae81_11eb_9a49_90324b008b86row5_col7\" class=\"data row5 col7\" >180</td>\n",
       "            </tr>\n",
       "            <tr>\n",
       "                        <th id=\"T_b31a4127_ae81_11eb_9a49_90324b008b86level0_row6\" class=\"row_heading level0 row6\" rowspan=2>Officer</th>\n",
       "                        <th id=\"T_b31a4127_ae81_11eb_9a49_90324b008b86level1_row6\" class=\"row_heading level1 row6\" >0</th>\n",
       "                        <td id=\"T_b31a4127_ae81_11eb_9a49_90324b008b86row6_col0\" class=\"data row6 col0\" >11</td>\n",
       "                        <td id=\"T_b31a4127_ae81_11eb_9a49_90324b008b86row6_col1\" class=\"data row6 col1\" >2</td>\n",
       "                        <td id=\"T_b31a4127_ae81_11eb_9a49_90324b008b86row6_col2\" class=\"data row6 col2\" >0</td>\n",
       "                        <td id=\"T_b31a4127_ae81_11eb_9a49_90324b008b86row6_col3\" class=\"data row6 col3\" >0</td>\n",
       "                        <td id=\"T_b31a4127_ae81_11eb_9a49_90324b008b86row6_col4\" class=\"data row6 col4\" >0</td>\n",
       "                        <td id=\"T_b31a4127_ae81_11eb_9a49_90324b008b86row6_col5\" class=\"data row6 col5\" >0</td>\n",
       "                        <td id=\"T_b31a4127_ae81_11eb_9a49_90324b008b86row6_col6\" class=\"data row6 col6\" >0</td>\n",
       "                        <td id=\"T_b31a4127_ae81_11eb_9a49_90324b008b86row6_col7\" class=\"data row6 col7\" >13</td>\n",
       "            </tr>\n",
       "            <tr>\n",
       "                                <th id=\"T_b31a4127_ae81_11eb_9a49_90324b008b86level1_row7\" class=\"row_heading level1 row7\" >1</th>\n",
       "                        <td id=\"T_b31a4127_ae81_11eb_9a49_90324b008b86row7_col0\" class=\"data row7 col0\" >5</td>\n",
       "                        <td id=\"T_b31a4127_ae81_11eb_9a49_90324b008b86row7_col1\" class=\"data row7 col1\" >0</td>\n",
       "                        <td id=\"T_b31a4127_ae81_11eb_9a49_90324b008b86row7_col2\" class=\"data row7 col2\" >0</td>\n",
       "                        <td id=\"T_b31a4127_ae81_11eb_9a49_90324b008b86row7_col3\" class=\"data row7 col3\" >0</td>\n",
       "                        <td id=\"T_b31a4127_ae81_11eb_9a49_90324b008b86row7_col4\" class=\"data row7 col4\" >0</td>\n",
       "                        <td id=\"T_b31a4127_ae81_11eb_9a49_90324b008b86row7_col5\" class=\"data row7 col5\" >0</td>\n",
       "                        <td id=\"T_b31a4127_ae81_11eb_9a49_90324b008b86row7_col6\" class=\"data row7 col6\" >0</td>\n",
       "                        <td id=\"T_b31a4127_ae81_11eb_9a49_90324b008b86row7_col7\" class=\"data row7 col7\" >5</td>\n",
       "            </tr>\n",
       "            <tr>\n",
       "                        <th id=\"T_b31a4127_ae81_11eb_9a49_90324b008b86level0_row8\" class=\"row_heading level0 row8\" rowspan=2>Royalty</th>\n",
       "                        <th id=\"T_b31a4127_ae81_11eb_9a49_90324b008b86level1_row8\" class=\"row_heading level1 row8\" >0</th>\n",
       "                        <td id=\"T_b31a4127_ae81_11eb_9a49_90324b008b86row8_col0\" class=\"data row8 col0\" >2</td>\n",
       "                        <td id=\"T_b31a4127_ae81_11eb_9a49_90324b008b86row8_col1\" class=\"data row8 col1\" >0</td>\n",
       "                        <td id=\"T_b31a4127_ae81_11eb_9a49_90324b008b86row8_col2\" class=\"data row8 col2\" >0</td>\n",
       "                        <td id=\"T_b31a4127_ae81_11eb_9a49_90324b008b86row8_col3\" class=\"data row8 col3\" >0</td>\n",
       "                        <td id=\"T_b31a4127_ae81_11eb_9a49_90324b008b86row8_col4\" class=\"data row8 col4\" >0</td>\n",
       "                        <td id=\"T_b31a4127_ae81_11eb_9a49_90324b008b86row8_col5\" class=\"data row8 col5\" >0</td>\n",
       "                        <td id=\"T_b31a4127_ae81_11eb_9a49_90324b008b86row8_col6\" class=\"data row8 col6\" >0</td>\n",
       "                        <td id=\"T_b31a4127_ae81_11eb_9a49_90324b008b86row8_col7\" class=\"data row8 col7\" >2</td>\n",
       "            </tr>\n",
       "            <tr>\n",
       "                                <th id=\"T_b31a4127_ae81_11eb_9a49_90324b008b86level1_row9\" class=\"row_heading level1 row9\" >1</th>\n",
       "                        <td id=\"T_b31a4127_ae81_11eb_9a49_90324b008b86row9_col0\" class=\"data row9 col0\" >3</td>\n",
       "                        <td id=\"T_b31a4127_ae81_11eb_9a49_90324b008b86row9_col1\" class=\"data row9 col1\" >0</td>\n",
       "                        <td id=\"T_b31a4127_ae81_11eb_9a49_90324b008b86row9_col2\" class=\"data row9 col2\" >0</td>\n",
       "                        <td id=\"T_b31a4127_ae81_11eb_9a49_90324b008b86row9_col3\" class=\"data row9 col3\" >0</td>\n",
       "                        <td id=\"T_b31a4127_ae81_11eb_9a49_90324b008b86row9_col4\" class=\"data row9 col4\" >0</td>\n",
       "                        <td id=\"T_b31a4127_ae81_11eb_9a49_90324b008b86row9_col5\" class=\"data row9 col5\" >0</td>\n",
       "                        <td id=\"T_b31a4127_ae81_11eb_9a49_90324b008b86row9_col6\" class=\"data row9 col6\" >0</td>\n",
       "                        <td id=\"T_b31a4127_ae81_11eb_9a49_90324b008b86row9_col7\" class=\"data row9 col7\" >3</td>\n",
       "            </tr>\n",
       "            <tr>\n",
       "                        <th id=\"T_b31a4127_ae81_11eb_9a49_90324b008b86level0_row10\" class=\"row_heading level0 row10\" >All</th>\n",
       "                        <th id=\"T_b31a4127_ae81_11eb_9a49_90324b008b86level1_row10\" class=\"row_heading level1 row10\" ></th>\n",
       "                        <td id=\"T_b31a4127_ae81_11eb_9a49_90324b008b86row10_col0\" class=\"data row10 col0\" >676</td>\n",
       "                        <td id=\"T_b31a4127_ae81_11eb_9a49_90324b008b86row10_col1\" class=\"data row10 col1\" >118</td>\n",
       "                        <td id=\"T_b31a4127_ae81_11eb_9a49_90324b008b86row10_col2\" class=\"data row10 col2\" >80</td>\n",
       "                        <td id=\"T_b31a4127_ae81_11eb_9a49_90324b008b86row10_col3\" class=\"data row10 col3\" >5</td>\n",
       "                        <td id=\"T_b31a4127_ae81_11eb_9a49_90324b008b86row10_col4\" class=\"data row10 col4\" >4</td>\n",
       "                        <td id=\"T_b31a4127_ae81_11eb_9a49_90324b008b86row10_col5\" class=\"data row10 col5\" >5</td>\n",
       "                        <td id=\"T_b31a4127_ae81_11eb_9a49_90324b008b86row10_col6\" class=\"data row10 col6\" >1</td>\n",
       "                        <td id=\"T_b31a4127_ae81_11eb_9a49_90324b008b86row10_col7\" class=\"data row10 col7\" >889</td>\n",
       "            </tr>\n",
       "    </tbody></table>"
      ],
      "text/plain": [
       "<pandas.io.formats.style.Styler at 0x254d3b045e0>"
      ]
     },
     "execution_count": 52,
     "metadata": {},
     "output_type": "execute_result"
    }
   ],
   "source": [
    "pd.crosstab([data_frame[\"Title\"], data_frame[\"Survived\"]], data_frame[\"Parch\"], margins = True).style.background_gradient(cmap = \"summer_r\")"
   ]
  },
  {
   "cell_type": "code",
   "execution_count": 53,
   "metadata": {},
   "outputs": [
    {
     "data": {
      "image/png": "[encoded data removed]",
      "text/plain": [
       "<Figure size 432x288 with 1 Axes>"
      ]
     },
     "metadata": {
      "needs_background": "light"
     },
     "output_type": "display_data"
    }
   ],
   "source": [
    "sns.barplot(x = \"Pclass\", y = \"Title\", hue = \"Survived\", data = data_frame)\n",
    "plt.show()"
   ]
  },
  {
   "cell_type": "markdown",
   "metadata": {},
   "source": [
    "## New Feature: FamilySize"
   ]
  },
  {
   "cell_type": "code",
   "execution_count": 54,
   "metadata": {
    "scrolled": true
   },
   "outputs": [
    {
     "data": {
      "text/html": [
       "<div>\n",
       "<style scoped>\n",
       "    .dataframe tbody tr th:only-of-type {\n",
       "        vertical-align: middle;\n",
       "    }\n",
       "\n",
       "    .dataframe tbody tr th {\n",
       "        vertical-align: top;\n",
       "    }\n",
       "\n",
       "    .dataframe thead th {\n",
       "        text-align: right;\n",
       "    }\n",
       "</style>\n",
       "<table border=\"1\" class=\"dataframe\">\n",
       "  <thead>\n",
       "    <tr style=\"text-align: right;\">\n",
       "      <th></th>\n",
       "      <th>PassengerId</th>\n",
       "      <th>Survived</th>\n",
       "      <th>Pclass</th>\n",
       "      <th>Sex</th>\n",
       "      <th>Age</th>\n",
       "      <th>SibSp</th>\n",
       "      <th>Parch</th>\n",
       "      <th>Ticket</th>\n",
       "      <th>Fare</th>\n",
       "      <th>Embarked</th>\n",
       "      <th>Title</th>\n",
       "      <th>FamilySize</th>\n",
       "    </tr>\n",
       "  </thead>\n",
       "  <tbody>\n",
       "    <tr>\n",
       "      <th>0</th>\n",
       "      <td>343</td>\n",
       "      <td>0</td>\n",
       "      <td>2</td>\n",
       "      <td>male</td>\n",
       "      <td>28.0</td>\n",
       "      <td>0</td>\n",
       "      <td>0</td>\n",
       "      <td>248740</td>\n",
       "      <td>13.0000</td>\n",
       "      <td>S</td>\n",
       "      <td>Mrs</td>\n",
       "      <td>1</td>\n",
       "    </tr>\n",
       "    <tr>\n",
       "      <th>1</th>\n",
       "      <td>76</td>\n",
       "      <td>0</td>\n",
       "      <td>3</td>\n",
       "      <td>male</td>\n",
       "      <td>25.0</td>\n",
       "      <td>0</td>\n",
       "      <td>0</td>\n",
       "      <td>348123</td>\n",
       "      <td>7.6500</td>\n",
       "      <td>S</td>\n",
       "      <td>Mrs</td>\n",
       "      <td>1</td>\n",
       "    </tr>\n",
       "    <tr>\n",
       "      <th>2</th>\n",
       "      <td>641</td>\n",
       "      <td>0</td>\n",
       "      <td>3</td>\n",
       "      <td>male</td>\n",
       "      <td>20.0</td>\n",
       "      <td>0</td>\n",
       "      <td>0</td>\n",
       "      <td>350050</td>\n",
       "      <td>7.8542</td>\n",
       "      <td>S</td>\n",
       "      <td>Mrs</td>\n",
       "      <td>1</td>\n",
       "    </tr>\n",
       "    <tr>\n",
       "      <th>3</th>\n",
       "      <td>568</td>\n",
       "      <td>0</td>\n",
       "      <td>3</td>\n",
       "      <td>female</td>\n",
       "      <td>29.0</td>\n",
       "      <td>0</td>\n",
       "      <td>4</td>\n",
       "      <td>349909</td>\n",
       "      <td>21.0750</td>\n",
       "      <td>S</td>\n",
       "      <td>Mrs</td>\n",
       "      <td>5</td>\n",
       "    </tr>\n",
       "    <tr>\n",
       "      <th>4</th>\n",
       "      <td>672</td>\n",
       "      <td>0</td>\n",
       "      <td>1</td>\n",
       "      <td>male</td>\n",
       "      <td>31.0</td>\n",
       "      <td>1</td>\n",
       "      <td>0</td>\n",
       "      <td>F.C. 12750</td>\n",
       "      <td>52.0000</td>\n",
       "      <td>S</td>\n",
       "      <td>Mrs</td>\n",
       "      <td>2</td>\n",
       "    </tr>\n",
       "    <tr>\n",
       "      <th>5</th>\n",
       "      <td>105</td>\n",
       "      <td>0</td>\n",
       "      <td>3</td>\n",
       "      <td>male</td>\n",
       "      <td>37.0</td>\n",
       "      <td>2</td>\n",
       "      <td>0</td>\n",
       "      <td>3101276</td>\n",
       "      <td>7.9250</td>\n",
       "      <td>S</td>\n",
       "      <td>Mrs</td>\n",
       "      <td>3</td>\n",
       "    </tr>\n",
       "    <tr>\n",
       "      <th>6</th>\n",
       "      <td>576</td>\n",
       "      <td>0</td>\n",
       "      <td>3</td>\n",
       "      <td>male</td>\n",
       "      <td>19.0</td>\n",
       "      <td>0</td>\n",
       "      <td>0</td>\n",
       "      <td>358585</td>\n",
       "      <td>14.5000</td>\n",
       "      <td>S</td>\n",
       "      <td>Mrs</td>\n",
       "      <td>1</td>\n",
       "    </tr>\n",
       "    <tr>\n",
       "      <th>7</th>\n",
       "      <td>382</td>\n",
       "      <td>1</td>\n",
       "      <td>3</td>\n",
       "      <td>female</td>\n",
       "      <td>1.0</td>\n",
       "      <td>0</td>\n",
       "      <td>2</td>\n",
       "      <td>2653</td>\n",
       "      <td>15.7417</td>\n",
       "      <td>C</td>\n",
       "      <td>Miss</td>\n",
       "      <td>3</td>\n",
       "    </tr>\n",
       "    <tr>\n",
       "      <th>8</th>\n",
       "      <td>228</td>\n",
       "      <td>0</td>\n",
       "      <td>3</td>\n",
       "      <td>male</td>\n",
       "      <td>20.5</td>\n",
       "      <td>0</td>\n",
       "      <td>0</td>\n",
       "      <td>A/5 21173</td>\n",
       "      <td>7.2500</td>\n",
       "      <td>S</td>\n",
       "      <td>Mrs</td>\n",
       "      <td>1</td>\n",
       "    </tr>\n",
       "    <tr>\n",
       "      <th>9</th>\n",
       "      <td>433</td>\n",
       "      <td>1</td>\n",
       "      <td>2</td>\n",
       "      <td>female</td>\n",
       "      <td>42.0</td>\n",
       "      <td>1</td>\n",
       "      <td>0</td>\n",
       "      <td>SC/AH 3085</td>\n",
       "      <td>26.0000</td>\n",
       "      <td>S</td>\n",
       "      <td>Mrs</td>\n",
       "      <td>2</td>\n",
       "    </tr>\n",
       "  </tbody>\n",
       "</table>\n",
       "</div>"
      ],
      "text/plain": [
       "   PassengerId  Survived  Pclass     Sex   Age  SibSp  Parch      Ticket  \\\n",
       "0          343         0       2    male  28.0      0      0      248740   \n",
       "1           76         0       3    male  25.0      0      0      348123   \n",
       "2          641         0       3    male  20.0      0      0      350050   \n",
       "3          568         0       3  female  29.0      0      4      349909   \n",
       "4          672         0       1    male  31.0      1      0  F.C. 12750   \n",
       "5          105         0       3    male  37.0      2      0     3101276   \n",
       "6          576         0       3    male  19.0      0      0      358585   \n",
       "7          382         1       3  female   1.0      0      2        2653   \n",
       "8          228         0       3    male  20.5      0      0   A/5 21173   \n",
       "9          433         1       2  female  42.0      1      0  SC/AH 3085   \n",
       "\n",
       "      Fare Embarked Title  FamilySize  \n",
       "0  13.0000        S   Mrs           1  \n",
       "1   7.6500        S   Mrs           1  \n",
       "2   7.8542        S   Mrs           1  \n",
       "3  21.0750        S   Mrs           5  \n",
       "4  52.0000        S   Mrs           2  \n",
       "5   7.9250        S   Mrs           3  \n",
       "6  14.5000        S   Mrs           1  \n",
       "7  15.7417        C  Miss           3  \n",
       "8   7.2500        S   Mrs           1  \n",
       "9  26.0000        S   Mrs           2  "
      ]
     },
     "execution_count": 54,
     "metadata": {},
     "output_type": "execute_result"
    }
   ],
   "source": [
    "#Create New Feature 'FamilySize'\n",
    "\n",
    "data_frame[\"FamilySize\"] = data_frame[\"SibSp\"] + data_frame[\"Parch\"] + 1\n",
    "data_frame.head(10)\n"
   ]
  },
  {
   "cell_type": "code",
   "execution_count": 55,
   "metadata": {},
   "outputs": [
    {
     "data": {
      "image/png": "[encoded data removed]",
      "text/plain": [
       "<Figure size 432x288 with 1 Axes>"
      ]
     },
     "metadata": {
      "needs_background": "light"
     },
     "output_type": "display_data"
    }
   ],
   "source": [
    "#Distribution between FamilySize and Survived\n",
    "\n",
    "sns.countplot(x=\"FamilySize\",  hue=\"Survived\", data = data_frame)\n",
    "plt.show()"
   ]
  },
  {
   "cell_type": "code",
   "execution_count": 56,
   "metadata": {
    "scrolled": true
   },
   "outputs": [
    {
     "data": {
      "text/html": [
       "<style  type=\"text/css\" >\n",
       "#T_b3da0263_ae81_11eb_9627_90324b008b86row0_col0{\n",
       "            background-color:  #e9f466;\n",
       "            color:  #000000;\n",
       "        }#T_b3da0263_ae81_11eb_9627_90324b008b86row0_col1{\n",
       "            background-color:  #e4f266;\n",
       "            color:  #000000;\n",
       "        }#T_b3da0263_ae81_11eb_9627_90324b008b86row0_col2,#T_b3da0263_ae81_11eb_9627_90324b008b86row5_col0{\n",
       "            background-color:  #e8f466;\n",
       "            color:  #000000;\n",
       "        }#T_b3da0263_ae81_11eb_9627_90324b008b86row1_col0,#T_b3da0263_ae81_11eb_9627_90324b008b86row1_col2{\n",
       "            background-color:  #f0f866;\n",
       "            color:  #000000;\n",
       "        }#T_b3da0263_ae81_11eb_9627_90324b008b86row1_col1{\n",
       "            background-color:  #eef666;\n",
       "            color:  #000000;\n",
       "        }#T_b3da0263_ae81_11eb_9627_90324b008b86row2_col0{\n",
       "            background-color:  #77bb66;\n",
       "            color:  #000000;\n",
       "        }#T_b3da0263_ae81_11eb_9627_90324b008b86row2_col1{\n",
       "            background-color:  #b3d966;\n",
       "            color:  #000000;\n",
       "        }#T_b3da0263_ae81_11eb_9627_90324b008b86row2_col2{\n",
       "            background-color:  #8fc766;\n",
       "            color:  #000000;\n",
       "        }#T_b3da0263_ae81_11eb_9627_90324b008b86row3_col0{\n",
       "            background-color:  #f8fc66;\n",
       "            color:  #000000;\n",
       "        }#T_b3da0263_ae81_11eb_9627_90324b008b86row3_col1{\n",
       "            background-color:  #e6f266;\n",
       "            color:  #000000;\n",
       "        }#T_b3da0263_ae81_11eb_9627_90324b008b86row3_col2{\n",
       "            background-color:  #f1f866;\n",
       "            color:  #000000;\n",
       "        }#T_b3da0263_ae81_11eb_9627_90324b008b86row4_col0,#T_b3da0263_ae81_11eb_9627_90324b008b86row7_col0,#T_b3da0263_ae81_11eb_9627_90324b008b86row7_col1,#T_b3da0263_ae81_11eb_9627_90324b008b86row7_col2,#T_b3da0263_ae81_11eb_9627_90324b008b86row9_col2,#T_b3da0263_ae81_11eb_9627_90324b008b86row11_col1,#T_b3da0263_ae81_11eb_9627_90324b008b86row16_col2,#T_b3da0263_ae81_11eb_9627_90324b008b86row17_col2{\n",
       "            background-color:  #fefe66;\n",
       "            color:  #000000;\n",
       "        }#T_b3da0263_ae81_11eb_9627_90324b008b86row4_col1,#T_b3da0263_ae81_11eb_9627_90324b008b86row10_col0,#T_b3da0263_ae81_11eb_9627_90324b008b86row12_col2,#T_b3da0263_ae81_11eb_9627_90324b008b86row15_col0,#T_b3da0263_ae81_11eb_9627_90324b008b86row15_col1,#T_b3da0263_ae81_11eb_9627_90324b008b86row17_col0{\n",
       "            background-color:  #fcfe66;\n",
       "            color:  #000000;\n",
       "        }#T_b3da0263_ae81_11eb_9627_90324b008b86row4_col2,#T_b3da0263_ae81_11eb_9627_90324b008b86row13_col0,#T_b3da0263_ae81_11eb_9627_90324b008b86row14_col1,#T_b3da0263_ae81_11eb_9627_90324b008b86row15_col2,#T_b3da0263_ae81_11eb_9627_90324b008b86row16_col0{\n",
       "            background-color:  #fdfe66;\n",
       "            color:  #000000;\n",
       "        }#T_b3da0263_ae81_11eb_9627_90324b008b86row5_col1{\n",
       "            background-color:  #daec66;\n",
       "            color:  #000000;\n",
       "        }#T_b3da0263_ae81_11eb_9627_90324b008b86row5_col2{\n",
       "            background-color:  #e3f166;\n",
       "            color:  #000000;\n",
       "        }#T_b3da0263_ae81_11eb_9627_90324b008b86row6_col0,#T_b3da0263_ae81_11eb_9627_90324b008b86row9_col1,#T_b3da0263_ae81_11eb_9627_90324b008b86row14_col2{\n",
       "            background-color:  #fbfd66;\n",
       "            color:  #000000;\n",
       "        }#T_b3da0263_ae81_11eb_9627_90324b008b86row6_col1{\n",
       "            background-color:  #f5fa66;\n",
       "            color:  #000000;\n",
       "        }#T_b3da0263_ae81_11eb_9627_90324b008b86row6_col2,#T_b3da0263_ae81_11eb_9627_90324b008b86row14_col0{\n",
       "            background-color:  #f9fc66;\n",
       "            color:  #000000;\n",
       "        }#T_b3da0263_ae81_11eb_9627_90324b008b86row8_col0{\n",
       "            background-color:  #f2f866;\n",
       "            color:  #000000;\n",
       "        }#T_b3da0263_ae81_11eb_9627_90324b008b86row8_col1{\n",
       "            background-color:  #dfef66;\n",
       "            color:  #000000;\n",
       "        }#T_b3da0263_ae81_11eb_9627_90324b008b86row8_col2{\n",
       "            background-color:  #ebf566;\n",
       "            color:  #000000;\n",
       "        }#T_b3da0263_ae81_11eb_9627_90324b008b86row9_col0,#T_b3da0263_ae81_11eb_9627_90324b008b86row11_col0,#T_b3da0263_ae81_11eb_9627_90324b008b86row11_col2,#T_b3da0263_ae81_11eb_9627_90324b008b86row12_col1,#T_b3da0263_ae81_11eb_9627_90324b008b86row13_col1,#T_b3da0263_ae81_11eb_9627_90324b008b86row13_col2,#T_b3da0263_ae81_11eb_9627_90324b008b86row16_col1,#T_b3da0263_ae81_11eb_9627_90324b008b86row17_col1{\n",
       "            background-color:  #ffff66;\n",
       "            color:  #000000;\n",
       "        }#T_b3da0263_ae81_11eb_9627_90324b008b86row10_col1{\n",
       "            background-color:  #f4fa66;\n",
       "            color:  #000000;\n",
       "        }#T_b3da0263_ae81_11eb_9627_90324b008b86row10_col2,#T_b3da0263_ae81_11eb_9627_90324b008b86row12_col0{\n",
       "            background-color:  #fafc66;\n",
       "            color:  #000000;\n",
       "        }#T_b3da0263_ae81_11eb_9627_90324b008b86row18_col0,#T_b3da0263_ae81_11eb_9627_90324b008b86row18_col1,#T_b3da0263_ae81_11eb_9627_90324b008b86row18_col2{\n",
       "            background-color:  #008066;\n",
       "            color:  #f1f1f1;\n",
       "        }</style><table id=\"T_b3da0263_ae81_11eb_9627_90324b008b86\" ><thead>    <tr>        <th class=\"blank\" ></th>        <th class=\"index_name level0\" >Survived</th>        <th class=\"col_heading level0 col0\" >0</th>        <th class=\"col_heading level0 col1\" >1</th>        <th class=\"col_heading level0 col2\" >All</th>    </tr>    <tr>        <th class=\"index_name level0\" >FamilySize</th>        <th class=\"index_name level1\" >Embarked</th>        <th class=\"blank\" ></th>        <th class=\"blank\" ></th>        <th class=\"blank\" ></th>    </tr></thead><tbody>\n",
       "                <tr>\n",
       "                        <th id=\"T_b3da0263_ae81_11eb_9627_90324b008b86level0_row0\" class=\"row_heading level0 row0\" rowspan=3>1</th>\n",
       "                        <th id=\"T_b3da0263_ae81_11eb_9627_90324b008b86level1_row0\" class=\"row_heading level1 row0\" >C</th>\n",
       "                        <td id=\"T_b3da0263_ae81_11eb_9627_90324b008b86row0_col0\" class=\"data row0 col0\" >48</td>\n",
       "                        <td id=\"T_b3da0263_ae81_11eb_9627_90324b008b86row0_col1\" class=\"data row0 col1\" >37</td>\n",
       "                        <td id=\"T_b3da0263_ae81_11eb_9627_90324b008b86row0_col2\" class=\"data row0 col2\" >85</td>\n",
       "            </tr>\n",
       "            <tr>\n",
       "                                <th id=\"T_b3da0263_ae81_11eb_9627_90324b008b86level1_row1\" class=\"row_heading level1 row1\" >Q</th>\n",
       "                        <td id=\"T_b3da0263_ae81_11eb_9627_90324b008b86row1_col0\" class=\"data row1 col0\" >34</td>\n",
       "                        <td id=\"T_b3da0263_ae81_11eb_9627_90324b008b86row1_col1\" class=\"data row1 col1\" >23</td>\n",
       "                        <td id=\"T_b3da0263_ae81_11eb_9627_90324b008b86row1_col2\" class=\"data row1 col2\" >57</td>\n",
       "            </tr>\n",
       "            <tr>\n",
       "                                <th id=\"T_b3da0263_ae81_11eb_9627_90324b008b86level1_row2\" class=\"row_heading level1 row2\" >S</th>\n",
       "                        <td id=\"T_b3da0263_ae81_11eb_9627_90324b008b86row2_col0\" class=\"data row2 col0\" >292</td>\n",
       "                        <td id=\"T_b3da0263_ae81_11eb_9627_90324b008b86row2_col1\" class=\"data row2 col1\" >101</td>\n",
       "                        <td id=\"T_b3da0263_ae81_11eb_9627_90324b008b86row2_col2\" class=\"data row2 col2\" >393</td>\n",
       "            </tr>\n",
       "            <tr>\n",
       "                        <th id=\"T_b3da0263_ae81_11eb_9627_90324b008b86level0_row3\" class=\"row_heading level0 row3\" rowspan=3>2</th>\n",
       "                        <th id=\"T_b3da0263_ae81_11eb_9627_90324b008b86level1_row3\" class=\"row_heading level1 row3\" >C</th>\n",
       "                        <td id=\"T_b3da0263_ae81_11eb_9627_90324b008b86row3_col0\" class=\"data row3 col0\" >17</td>\n",
       "                        <td id=\"T_b3da0263_ae81_11eb_9627_90324b008b86row3_col1\" class=\"data row3 col1\" >34</td>\n",
       "                        <td id=\"T_b3da0263_ae81_11eb_9627_90324b008b86row3_col2\" class=\"data row3 col2\" >51</td>\n",
       "            </tr>\n",
       "            <tr>\n",
       "                                <th id=\"T_b3da0263_ae81_11eb_9627_90324b008b86level1_row4\" class=\"row_heading level1 row4\" >Q</th>\n",
       "                        <td id=\"T_b3da0263_ae81_11eb_9627_90324b008b86row4_col0\" class=\"data row4 col0\" >4</td>\n",
       "                        <td id=\"T_b3da0263_ae81_11eb_9627_90324b008b86row4_col1\" class=\"data row4 col1\" >5</td>\n",
       "                        <td id=\"T_b3da0263_ae81_11eb_9627_90324b008b86row4_col2\" class=\"data row4 col2\" >9</td>\n",
       "            </tr>\n",
       "            <tr>\n",
       "                                <th id=\"T_b3da0263_ae81_11eb_9627_90324b008b86level1_row5\" class=\"row_heading level1 row5\" >S</th>\n",
       "                        <td id=\"T_b3da0263_ae81_11eb_9627_90324b008b86row5_col0\" class=\"data row5 col0\" >51</td>\n",
       "                        <td id=\"T_b3da0263_ae81_11eb_9627_90324b008b86row5_col1\" class=\"data row5 col1\" >50</td>\n",
       "                        <td id=\"T_b3da0263_ae81_11eb_9627_90324b008b86row5_col2\" class=\"data row5 col2\" >101</td>\n",
       "            </tr>\n",
       "            <tr>\n",
       "                        <th id=\"T_b3da0263_ae81_11eb_9627_90324b008b86level0_row6\" class=\"row_heading level0 row6\" rowspan=3>3</th>\n",
       "                        <th id=\"T_b3da0263_ae81_11eb_9627_90324b008b86level1_row6\" class=\"row_heading level1 row6\" >C</th>\n",
       "                        <td id=\"T_b3da0263_ae81_11eb_9627_90324b008b86row6_col0\" class=\"data row6 col0\" >9</td>\n",
       "                        <td id=\"T_b3da0263_ae81_11eb_9627_90324b008b86row6_col1\" class=\"data row6 col1\" >14</td>\n",
       "                        <td id=\"T_b3da0263_ae81_11eb_9627_90324b008b86row6_col2\" class=\"data row6 col2\" >23</td>\n",
       "            </tr>\n",
       "            <tr>\n",
       "                                <th id=\"T_b3da0263_ae81_11eb_9627_90324b008b86level1_row7\" class=\"row_heading level1 row7\" >Q</th>\n",
       "                        <td id=\"T_b3da0263_ae81_11eb_9627_90324b008b86row7_col0\" class=\"data row7 col0\" >4</td>\n",
       "                        <td id=\"T_b3da0263_ae81_11eb_9627_90324b008b86row7_col1\" class=\"data row7 col1\" >2</td>\n",
       "                        <td id=\"T_b3da0263_ae81_11eb_9627_90324b008b86row7_col2\" class=\"data row7 col2\" >6</td>\n",
       "            </tr>\n",
       "            <tr>\n",
       "                                <th id=\"T_b3da0263_ae81_11eb_9627_90324b008b86level1_row8\" class=\"row_heading level1 row8\" >S</th>\n",
       "                        <td id=\"T_b3da0263_ae81_11eb_9627_90324b008b86row8_col0\" class=\"data row8 col0\" >30</td>\n",
       "                        <td id=\"T_b3da0263_ae81_11eb_9627_90324b008b86row8_col1\" class=\"data row8 col1\" >43</td>\n",
       "                        <td id=\"T_b3da0263_ae81_11eb_9627_90324b008b86row8_col2\" class=\"data row8 col2\" >73</td>\n",
       "            </tr>\n",
       "            <tr>\n",
       "                        <th id=\"T_b3da0263_ae81_11eb_9627_90324b008b86level0_row9\" class=\"row_heading level0 row9\" rowspan=2>4</th>\n",
       "                        <th id=\"T_b3da0263_ae81_11eb_9627_90324b008b86level1_row9\" class=\"row_heading level1 row9\" >C</th>\n",
       "                        <td id=\"T_b3da0263_ae81_11eb_9627_90324b008b86row9_col0\" class=\"data row9 col0\" >1</td>\n",
       "                        <td id=\"T_b3da0263_ae81_11eb_9627_90324b008b86row9_col1\" class=\"data row9 col1\" >6</td>\n",
       "                        <td id=\"T_b3da0263_ae81_11eb_9627_90324b008b86row9_col2\" class=\"data row9 col2\" >7</td>\n",
       "            </tr>\n",
       "            <tr>\n",
       "                                <th id=\"T_b3da0263_ae81_11eb_9627_90324b008b86level1_row10\" class=\"row_heading level1 row10\" >S</th>\n",
       "                        <td id=\"T_b3da0263_ae81_11eb_9627_90324b008b86row10_col0\" class=\"data row10 col0\" >7</td>\n",
       "                        <td id=\"T_b3da0263_ae81_11eb_9627_90324b008b86row10_col1\" class=\"data row10 col1\" >15</td>\n",
       "                        <td id=\"T_b3da0263_ae81_11eb_9627_90324b008b86row10_col2\" class=\"data row10 col2\" >22</td>\n",
       "            </tr>\n",
       "            <tr>\n",
       "                        <th id=\"T_b3da0263_ae81_11eb_9627_90324b008b86level0_row11\" class=\"row_heading level0 row11\" rowspan=2>5</th>\n",
       "                        <th id=\"T_b3da0263_ae81_11eb_9627_90324b008b86level1_row11\" class=\"row_heading level1 row11\" >C</th>\n",
       "                        <td id=\"T_b3da0263_ae81_11eb_9627_90324b008b86row11_col0\" class=\"data row11 col0\" >0</td>\n",
       "                        <td id=\"T_b3da0263_ae81_11eb_9627_90324b008b86row11_col1\" class=\"data row11 col1\" >2</td>\n",
       "                        <td id=\"T_b3da0263_ae81_11eb_9627_90324b008b86row11_col2\" class=\"data row11 col2\" >2</td>\n",
       "            </tr>\n",
       "            <tr>\n",
       "                                <th id=\"T_b3da0263_ae81_11eb_9627_90324b008b86level1_row12\" class=\"row_heading level1 row12\" >S</th>\n",
       "                        <td id=\"T_b3da0263_ae81_11eb_9627_90324b008b86row12_col0\" class=\"data row12 col0\" >12</td>\n",
       "                        <td id=\"T_b3da0263_ae81_11eb_9627_90324b008b86row12_col1\" class=\"data row12 col1\" >1</td>\n",
       "                        <td id=\"T_b3da0263_ae81_11eb_9627_90324b008b86row12_col2\" class=\"data row12 col2\" >13</td>\n",
       "            </tr>\n",
       "            <tr>\n",
       "                        <th id=\"T_b3da0263_ae81_11eb_9627_90324b008b86level0_row13\" class=\"row_heading level0 row13\" rowspan=2>6</th>\n",
       "                        <th id=\"T_b3da0263_ae81_11eb_9627_90324b008b86level1_row13\" class=\"row_heading level1 row13\" >Q</th>\n",
       "                        <td id=\"T_b3da0263_ae81_11eb_9627_90324b008b86row13_col0\" class=\"data row13 col0\" >5</td>\n",
       "                        <td id=\"T_b3da0263_ae81_11eb_9627_90324b008b86row13_col1\" class=\"data row13 col1\" >0</td>\n",
       "                        <td id=\"T_b3da0263_ae81_11eb_9627_90324b008b86row13_col2\" class=\"data row13 col2\" >5</td>\n",
       "            </tr>\n",
       "            <tr>\n",
       "                                <th id=\"T_b3da0263_ae81_11eb_9627_90324b008b86level1_row14\" class=\"row_heading level1 row14\" >S</th>\n",
       "                        <td id=\"T_b3da0263_ae81_11eb_9627_90324b008b86row14_col0\" class=\"data row14 col0\" >14</td>\n",
       "                        <td id=\"T_b3da0263_ae81_11eb_9627_90324b008b86row14_col1\" class=\"data row14 col1\" >3</td>\n",
       "                        <td id=\"T_b3da0263_ae81_11eb_9627_90324b008b86row14_col2\" class=\"data row14 col2\" >17</td>\n",
       "            </tr>\n",
       "            <tr>\n",
       "                        <th id=\"T_b3da0263_ae81_11eb_9627_90324b008b86level0_row15\" class=\"row_heading level0 row15\" >7</th>\n",
       "                        <th id=\"T_b3da0263_ae81_11eb_9627_90324b008b86level1_row15\" class=\"row_heading level1 row15\" >S</th>\n",
       "                        <td id=\"T_b3da0263_ae81_11eb_9627_90324b008b86row15_col0\" class=\"data row15 col0\" >8</td>\n",
       "                        <td id=\"T_b3da0263_ae81_11eb_9627_90324b008b86row15_col1\" class=\"data row15 col1\" >4</td>\n",
       "                        <td id=\"T_b3da0263_ae81_11eb_9627_90324b008b86row15_col2\" class=\"data row15 col2\" >12</td>\n",
       "            </tr>\n",
       "            <tr>\n",
       "                        <th id=\"T_b3da0263_ae81_11eb_9627_90324b008b86level0_row16\" class=\"row_heading level0 row16\" >8</th>\n",
       "                        <th id=\"T_b3da0263_ae81_11eb_9627_90324b008b86level1_row16\" class=\"row_heading level1 row16\" >S</th>\n",
       "                        <td id=\"T_b3da0263_ae81_11eb_9627_90324b008b86row16_col0\" class=\"data row16 col0\" >6</td>\n",
       "                        <td id=\"T_b3da0263_ae81_11eb_9627_90324b008b86row16_col1\" class=\"data row16 col1\" >0</td>\n",
       "                        <td id=\"T_b3da0263_ae81_11eb_9627_90324b008b86row16_col2\" class=\"data row16 col2\" >6</td>\n",
       "            </tr>\n",
       "            <tr>\n",
       "                        <th id=\"T_b3da0263_ae81_11eb_9627_90324b008b86level0_row17\" class=\"row_heading level0 row17\" >11</th>\n",
       "                        <th id=\"T_b3da0263_ae81_11eb_9627_90324b008b86level1_row17\" class=\"row_heading level1 row17\" >S</th>\n",
       "                        <td id=\"T_b3da0263_ae81_11eb_9627_90324b008b86row17_col0\" class=\"data row17 col0\" >7</td>\n",
       "                        <td id=\"T_b3da0263_ae81_11eb_9627_90324b008b86row17_col1\" class=\"data row17 col1\" >0</td>\n",
       "                        <td id=\"T_b3da0263_ae81_11eb_9627_90324b008b86row17_col2\" class=\"data row17 col2\" >7</td>\n",
       "            </tr>\n",
       "            <tr>\n",
       "                        <th id=\"T_b3da0263_ae81_11eb_9627_90324b008b86level0_row18\" class=\"row_heading level0 row18\" >All</th>\n",
       "                        <th id=\"T_b3da0263_ae81_11eb_9627_90324b008b86level1_row18\" class=\"row_heading level1 row18\" ></th>\n",
       "                        <td id=\"T_b3da0263_ae81_11eb_9627_90324b008b86row18_col0\" class=\"data row18 col0\" >549</td>\n",
       "                        <td id=\"T_b3da0263_ae81_11eb_9627_90324b008b86row18_col1\" class=\"data row18 col1\" >340</td>\n",
       "                        <td id=\"T_b3da0263_ae81_11eb_9627_90324b008b86row18_col2\" class=\"data row18 col2\" >889</td>\n",
       "            </tr>\n",
       "    </tbody></table>"
      ],
      "text/plain": [
       "<pandas.io.formats.style.Styler at 0x254d399e910>"
      ]
     },
     "execution_count": 56,
     "metadata": {},
     "output_type": "execute_result"
    }
   ],
   "source": [
    "pd.crosstab([data_frame[\"FamilySize\"], data_frame[\"Embarked\"]], data_frame[\"Survived\"], margins = True).style.background_gradient(cmap = \"summer_r\")"
   ]
  },
  {
   "cell_type": "code",
   "execution_count": 57,
   "metadata": {},
   "outputs": [
    {
     "data": {
      "text/html": [
       "<div>\n",
       "<style scoped>\n",
       "    .dataframe tbody tr th:only-of-type {\n",
       "        vertical-align: middle;\n",
       "    }\n",
       "\n",
       "    .dataframe tbody tr th {\n",
       "        vertical-align: top;\n",
       "    }\n",
       "\n",
       "    .dataframe thead th {\n",
       "        text-align: right;\n",
       "    }\n",
       "</style>\n",
       "<table border=\"1\" class=\"dataframe\">\n",
       "  <thead>\n",
       "    <tr style=\"text-align: right;\">\n",
       "      <th></th>\n",
       "      <th>Fare</th>\n",
       "    </tr>\n",
       "    <tr>\n",
       "      <th>Title</th>\n",
       "      <th></th>\n",
       "    </tr>\n",
       "  </thead>\n",
       "  <tbody>\n",
       "    <tr>\n",
       "      <th>Master</th>\n",
       "      <td>34.703125</td>\n",
       "    </tr>\n",
       "    <tr>\n",
       "      <th>Miss</th>\n",
       "      <td>43.909332</td>\n",
       "    </tr>\n",
       "    <tr>\n",
       "      <th>Mrs</th>\n",
       "      <td>28.366983</td>\n",
       "    </tr>\n",
       "    <tr>\n",
       "      <th>Officer</th>\n",
       "      <td>35.786344</td>\n",
       "    </tr>\n",
       "    <tr>\n",
       "      <th>Royalty</th>\n",
       "      <td>42.150000</td>\n",
       "    </tr>\n",
       "  </tbody>\n",
       "</table>\n",
       "</div>"
      ],
      "text/plain": [
       "              Fare\n",
       "Title             \n",
       "Master   34.703125\n",
       "Miss     43.909332\n",
       "Mrs      28.366983\n",
       "Officer  35.786344\n",
       "Royalty  42.150000"
      ]
     },
     "execution_count": 57,
     "metadata": {},
     "output_type": "execute_result"
    }
   ],
   "source": [
    "#Correlation Groupby Titile \n",
    "\n",
    "data_frame[[\"Title\", \"Fare\"]].groupby([\"Title\"], as_index=True).mean()"
   ]
  },
  {
   "cell_type": "markdown",
   "metadata": {},
   "source": [
    "## Data_Transformation"
   ]
  },
  {
   "cell_type": "code",
   "execution_count": 58,
   "metadata": {},
   "outputs": [
    {
     "data": {
      "text/html": [
       "<div>\n",
       "<style scoped>\n",
       "    .dataframe tbody tr th:only-of-type {\n",
       "        vertical-align: middle;\n",
       "    }\n",
       "\n",
       "    .dataframe tbody tr th {\n",
       "        vertical-align: top;\n",
       "    }\n",
       "\n",
       "    .dataframe thead th {\n",
       "        text-align: right;\n",
       "    }\n",
       "</style>\n",
       "<table border=\"1\" class=\"dataframe\">\n",
       "  <thead>\n",
       "    <tr style=\"text-align: right;\">\n",
       "      <th></th>\n",
       "      <th>PassengerId</th>\n",
       "      <th>Survived</th>\n",
       "      <th>Pclass</th>\n",
       "      <th>Sex</th>\n",
       "      <th>Age</th>\n",
       "      <th>SibSp</th>\n",
       "      <th>Parch</th>\n",
       "      <th>Ticket</th>\n",
       "      <th>Fare</th>\n",
       "      <th>Embarked</th>\n",
       "      <th>Title</th>\n",
       "      <th>FamilySize</th>\n",
       "    </tr>\n",
       "  </thead>\n",
       "  <tbody>\n",
       "    <tr>\n",
       "      <th>0</th>\n",
       "      <td>343</td>\n",
       "      <td>0</td>\n",
       "      <td>2</td>\n",
       "      <td>male</td>\n",
       "      <td>28.0</td>\n",
       "      <td>0</td>\n",
       "      <td>0</td>\n",
       "      <td>248740</td>\n",
       "      <td>13.0000</td>\n",
       "      <td>S</td>\n",
       "      <td>Mrs</td>\n",
       "      <td>1</td>\n",
       "    </tr>\n",
       "    <tr>\n",
       "      <th>1</th>\n",
       "      <td>76</td>\n",
       "      <td>0</td>\n",
       "      <td>3</td>\n",
       "      <td>male</td>\n",
       "      <td>25.0</td>\n",
       "      <td>0</td>\n",
       "      <td>0</td>\n",
       "      <td>348123</td>\n",
       "      <td>7.6500</td>\n",
       "      <td>S</td>\n",
       "      <td>Mrs</td>\n",
       "      <td>1</td>\n",
       "    </tr>\n",
       "    <tr>\n",
       "      <th>2</th>\n",
       "      <td>641</td>\n",
       "      <td>0</td>\n",
       "      <td>3</td>\n",
       "      <td>male</td>\n",
       "      <td>20.0</td>\n",
       "      <td>0</td>\n",
       "      <td>0</td>\n",
       "      <td>350050</td>\n",
       "      <td>7.8542</td>\n",
       "      <td>S</td>\n",
       "      <td>Mrs</td>\n",
       "      <td>1</td>\n",
       "    </tr>\n",
       "    <tr>\n",
       "      <th>3</th>\n",
       "      <td>568</td>\n",
       "      <td>0</td>\n",
       "      <td>3</td>\n",
       "      <td>female</td>\n",
       "      <td>29.0</td>\n",
       "      <td>0</td>\n",
       "      <td>4</td>\n",
       "      <td>349909</td>\n",
       "      <td>21.0750</td>\n",
       "      <td>S</td>\n",
       "      <td>Mrs</td>\n",
       "      <td>5</td>\n",
       "    </tr>\n",
       "    <tr>\n",
       "      <th>4</th>\n",
       "      <td>672</td>\n",
       "      <td>0</td>\n",
       "      <td>1</td>\n",
       "      <td>male</td>\n",
       "      <td>31.0</td>\n",
       "      <td>1</td>\n",
       "      <td>0</td>\n",
       "      <td>F.C. 12750</td>\n",
       "      <td>52.0000</td>\n",
       "      <td>S</td>\n",
       "      <td>Mrs</td>\n",
       "      <td>2</td>\n",
       "    </tr>\n",
       "    <tr>\n",
       "      <th>5</th>\n",
       "      <td>105</td>\n",
       "      <td>0</td>\n",
       "      <td>3</td>\n",
       "      <td>male</td>\n",
       "      <td>37.0</td>\n",
       "      <td>2</td>\n",
       "      <td>0</td>\n",
       "      <td>3101276</td>\n",
       "      <td>7.9250</td>\n",
       "      <td>S</td>\n",
       "      <td>Mrs</td>\n",
       "      <td>3</td>\n",
       "    </tr>\n",
       "    <tr>\n",
       "      <th>6</th>\n",
       "      <td>576</td>\n",
       "      <td>0</td>\n",
       "      <td>3</td>\n",
       "      <td>male</td>\n",
       "      <td>19.0</td>\n",
       "      <td>0</td>\n",
       "      <td>0</td>\n",
       "      <td>358585</td>\n",
       "      <td>14.5000</td>\n",
       "      <td>S</td>\n",
       "      <td>Mrs</td>\n",
       "      <td>1</td>\n",
       "    </tr>\n",
       "    <tr>\n",
       "      <th>7</th>\n",
       "      <td>382</td>\n",
       "      <td>1</td>\n",
       "      <td>3</td>\n",
       "      <td>female</td>\n",
       "      <td>1.0</td>\n",
       "      <td>0</td>\n",
       "      <td>2</td>\n",
       "      <td>2653</td>\n",
       "      <td>15.7417</td>\n",
       "      <td>C</td>\n",
       "      <td>Miss</td>\n",
       "      <td>3</td>\n",
       "    </tr>\n",
       "    <tr>\n",
       "      <th>8</th>\n",
       "      <td>228</td>\n",
       "      <td>0</td>\n",
       "      <td>3</td>\n",
       "      <td>male</td>\n",
       "      <td>20.5</td>\n",
       "      <td>0</td>\n",
       "      <td>0</td>\n",
       "      <td>A/5 21173</td>\n",
       "      <td>7.2500</td>\n",
       "      <td>S</td>\n",
       "      <td>Mrs</td>\n",
       "      <td>1</td>\n",
       "    </tr>\n",
       "    <tr>\n",
       "      <th>9</th>\n",
       "      <td>433</td>\n",
       "      <td>1</td>\n",
       "      <td>2</td>\n",
       "      <td>female</td>\n",
       "      <td>42.0</td>\n",
       "      <td>1</td>\n",
       "      <td>0</td>\n",
       "      <td>SC/AH 3085</td>\n",
       "      <td>26.0000</td>\n",
       "      <td>S</td>\n",
       "      <td>Mrs</td>\n",
       "      <td>2</td>\n",
       "    </tr>\n",
       "  </tbody>\n",
       "</table>\n",
       "</div>"
      ],
      "text/plain": [
       "   PassengerId  Survived  Pclass     Sex   Age  SibSp  Parch      Ticket  \\\n",
       "0          343         0       2    male  28.0      0      0      248740   \n",
       "1           76         0       3    male  25.0      0      0      348123   \n",
       "2          641         0       3    male  20.0      0      0      350050   \n",
       "3          568         0       3  female  29.0      0      4      349909   \n",
       "4          672         0       1    male  31.0      1      0  F.C. 12750   \n",
       "5          105         0       3    male  37.0      2      0     3101276   \n",
       "6          576         0       3    male  19.0      0      0      358585   \n",
       "7          382         1       3  female   1.0      0      2        2653   \n",
       "8          228         0       3    male  20.5      0      0   A/5 21173   \n",
       "9          433         1       2  female  42.0      1      0  SC/AH 3085   \n",
       "\n",
       "      Fare Embarked Title  FamilySize  \n",
       "0  13.0000        S   Mrs           1  \n",
       "1   7.6500        S   Mrs           1  \n",
       "2   7.8542        S   Mrs           1  \n",
       "3  21.0750        S   Mrs           5  \n",
       "4  52.0000        S   Mrs           2  \n",
       "5   7.9250        S   Mrs           3  \n",
       "6  14.5000        S   Mrs           1  \n",
       "7  15.7417        C  Miss           3  \n",
       "8   7.2500        S   Mrs           1  \n",
       "9  26.0000        S   Mrs           2  "
      ]
     },
     "execution_count": 58,
     "metadata": {},
     "output_type": "execute_result"
    }
   ],
   "source": [
    "data_frame.head(10)"
   ]
  },
  {
   "cell_type": "code",
   "execution_count": 59,
   "metadata": {},
   "outputs": [],
   "source": [
    "#Drop 'PassengerId' column\n",
    "data_frame.drop('PassengerId', axis=1, inplace=True)"
   ]
  },
  {
   "cell_type": "code",
   "execution_count": 60,
   "metadata": {},
   "outputs": [
    {
     "data": {
      "text/html": [
       "<div>\n",
       "<style scoped>\n",
       "    .dataframe tbody tr th:only-of-type {\n",
       "        vertical-align: middle;\n",
       "    }\n",
       "\n",
       "    .dataframe tbody tr th {\n",
       "        vertical-align: top;\n",
       "    }\n",
       "\n",
       "    .dataframe thead th {\n",
       "        text-align: right;\n",
       "    }\n",
       "</style>\n",
       "<table border=\"1\" class=\"dataframe\">\n",
       "  <thead>\n",
       "    <tr style=\"text-align: right;\">\n",
       "      <th></th>\n",
       "      <th>Survived</th>\n",
       "      <th>Pclass</th>\n",
       "      <th>Sex</th>\n",
       "      <th>Age</th>\n",
       "      <th>SibSp</th>\n",
       "      <th>Parch</th>\n",
       "      <th>Ticket</th>\n",
       "      <th>Fare</th>\n",
       "      <th>Embarked</th>\n",
       "      <th>Title</th>\n",
       "      <th>FamilySize</th>\n",
       "    </tr>\n",
       "  </thead>\n",
       "  <tbody>\n",
       "    <tr>\n",
       "      <th>0</th>\n",
       "      <td>0</td>\n",
       "      <td>2</td>\n",
       "      <td>male</td>\n",
       "      <td>28.0</td>\n",
       "      <td>0</td>\n",
       "      <td>0</td>\n",
       "      <td>248740</td>\n",
       "      <td>13.0000</td>\n",
       "      <td>S</td>\n",
       "      <td>Mrs</td>\n",
       "      <td>1</td>\n",
       "    </tr>\n",
       "    <tr>\n",
       "      <th>1</th>\n",
       "      <td>0</td>\n",
       "      <td>3</td>\n",
       "      <td>male</td>\n",
       "      <td>25.0</td>\n",
       "      <td>0</td>\n",
       "      <td>0</td>\n",
       "      <td>348123</td>\n",
       "      <td>7.6500</td>\n",
       "      <td>S</td>\n",
       "      <td>Mrs</td>\n",
       "      <td>1</td>\n",
       "    </tr>\n",
       "    <tr>\n",
       "      <th>2</th>\n",
       "      <td>0</td>\n",
       "      <td>3</td>\n",
       "      <td>male</td>\n",
       "      <td>20.0</td>\n",
       "      <td>0</td>\n",
       "      <td>0</td>\n",
       "      <td>350050</td>\n",
       "      <td>7.8542</td>\n",
       "      <td>S</td>\n",
       "      <td>Mrs</td>\n",
       "      <td>1</td>\n",
       "    </tr>\n",
       "    <tr>\n",
       "      <th>3</th>\n",
       "      <td>0</td>\n",
       "      <td>3</td>\n",
       "      <td>female</td>\n",
       "      <td>29.0</td>\n",
       "      <td>0</td>\n",
       "      <td>4</td>\n",
       "      <td>349909</td>\n",
       "      <td>21.0750</td>\n",
       "      <td>S</td>\n",
       "      <td>Mrs</td>\n",
       "      <td>5</td>\n",
       "    </tr>\n",
       "    <tr>\n",
       "      <th>4</th>\n",
       "      <td>0</td>\n",
       "      <td>1</td>\n",
       "      <td>male</td>\n",
       "      <td>31.0</td>\n",
       "      <td>1</td>\n",
       "      <td>0</td>\n",
       "      <td>F.C. 12750</td>\n",
       "      <td>52.0000</td>\n",
       "      <td>S</td>\n",
       "      <td>Mrs</td>\n",
       "      <td>2</td>\n",
       "    </tr>\n",
       "  </tbody>\n",
       "</table>\n",
       "</div>"
      ],
      "text/plain": [
       "   Survived  Pclass     Sex   Age  SibSp  Parch      Ticket     Fare Embarked  \\\n",
       "0         0       2    male  28.0      0      0      248740  13.0000        S   \n",
       "1         0       3    male  25.0      0      0      348123   7.6500        S   \n",
       "2         0       3    male  20.0      0      0      350050   7.8542        S   \n",
       "3         0       3  female  29.0      0      4      349909  21.0750        S   \n",
       "4         0       1    male  31.0      1      0  F.C. 12750  52.0000        S   \n",
       "\n",
       "  Title  FamilySize  \n",
       "0   Mrs           1  \n",
       "1   Mrs           1  \n",
       "2   Mrs           1  \n",
       "3   Mrs           5  \n",
       "4   Mrs           2  "
      ]
     },
     "execution_count": 60,
     "metadata": {},
     "output_type": "execute_result"
    }
   ],
   "source": [
    "data_frame.head()"
   ]
  },
  {
   "cell_type": "code",
   "execution_count": 61,
   "metadata": {},
   "outputs": [
    {
     "data": {
      "text/html": [
       "<div>\n",
       "<style scoped>\n",
       "    .dataframe tbody tr th:only-of-type {\n",
       "        vertical-align: middle;\n",
       "    }\n",
       "\n",
       "    .dataframe tbody tr th {\n",
       "        vertical-align: top;\n",
       "    }\n",
       "\n",
       "    .dataframe thead th {\n",
       "        text-align: right;\n",
       "    }\n",
       "</style>\n",
       "<table border=\"1\" class=\"dataframe\">\n",
       "  <thead>\n",
       "    <tr style=\"text-align: right;\">\n",
       "      <th></th>\n",
       "      <th>Survived</th>\n",
       "      <th>Pclass</th>\n",
       "      <th>Sex</th>\n",
       "      <th>Age</th>\n",
       "      <th>SibSp</th>\n",
       "      <th>Parch</th>\n",
       "      <th>Ticket</th>\n",
       "      <th>Fare</th>\n",
       "      <th>Title</th>\n",
       "      <th>FamilySize</th>\n",
       "      <th>C</th>\n",
       "      <th>Q</th>\n",
       "      <th>S</th>\n",
       "    </tr>\n",
       "  </thead>\n",
       "  <tbody>\n",
       "    <tr>\n",
       "      <th>0</th>\n",
       "      <td>0</td>\n",
       "      <td>2</td>\n",
       "      <td>male</td>\n",
       "      <td>28.0</td>\n",
       "      <td>0</td>\n",
       "      <td>0</td>\n",
       "      <td>248740</td>\n",
       "      <td>13.0000</td>\n",
       "      <td>Mrs</td>\n",
       "      <td>1</td>\n",
       "      <td>0</td>\n",
       "      <td>0</td>\n",
       "      <td>1</td>\n",
       "    </tr>\n",
       "    <tr>\n",
       "      <th>1</th>\n",
       "      <td>0</td>\n",
       "      <td>3</td>\n",
       "      <td>male</td>\n",
       "      <td>25.0</td>\n",
       "      <td>0</td>\n",
       "      <td>0</td>\n",
       "      <td>348123</td>\n",
       "      <td>7.6500</td>\n",
       "      <td>Mrs</td>\n",
       "      <td>1</td>\n",
       "      <td>0</td>\n",
       "      <td>0</td>\n",
       "      <td>1</td>\n",
       "    </tr>\n",
       "    <tr>\n",
       "      <th>2</th>\n",
       "      <td>0</td>\n",
       "      <td>3</td>\n",
       "      <td>male</td>\n",
       "      <td>20.0</td>\n",
       "      <td>0</td>\n",
       "      <td>0</td>\n",
       "      <td>350050</td>\n",
       "      <td>7.8542</td>\n",
       "      <td>Mrs</td>\n",
       "      <td>1</td>\n",
       "      <td>0</td>\n",
       "      <td>0</td>\n",
       "      <td>1</td>\n",
       "    </tr>\n",
       "    <tr>\n",
       "      <th>3</th>\n",
       "      <td>0</td>\n",
       "      <td>3</td>\n",
       "      <td>female</td>\n",
       "      <td>29.0</td>\n",
       "      <td>0</td>\n",
       "      <td>4</td>\n",
       "      <td>349909</td>\n",
       "      <td>21.0750</td>\n",
       "      <td>Mrs</td>\n",
       "      <td>5</td>\n",
       "      <td>0</td>\n",
       "      <td>0</td>\n",
       "      <td>1</td>\n",
       "    </tr>\n",
       "    <tr>\n",
       "      <th>4</th>\n",
       "      <td>0</td>\n",
       "      <td>1</td>\n",
       "      <td>male</td>\n",
       "      <td>31.0</td>\n",
       "      <td>1</td>\n",
       "      <td>0</td>\n",
       "      <td>F.C. 12750</td>\n",
       "      <td>52.0000</td>\n",
       "      <td>Mrs</td>\n",
       "      <td>2</td>\n",
       "      <td>0</td>\n",
       "      <td>0</td>\n",
       "      <td>1</td>\n",
       "    </tr>\n",
       "  </tbody>\n",
       "</table>\n",
       "</div>"
      ],
      "text/plain": [
       "   Survived  Pclass     Sex   Age  SibSp  Parch      Ticket     Fare Title  \\\n",
       "0         0       2    male  28.0      0      0      248740  13.0000   Mrs   \n",
       "1         0       3    male  25.0      0      0      348123   7.6500   Mrs   \n",
       "2         0       3    male  20.0      0      0      350050   7.8542   Mrs   \n",
       "3         0       3  female  29.0      0      4      349909  21.0750   Mrs   \n",
       "4         0       1    male  31.0      1      0  F.C. 12750  52.0000   Mrs   \n",
       "\n",
       "   FamilySize  C  Q  S  \n",
       "0           1  0  0  1  \n",
       "1           1  0  0  1  \n",
       "2           1  0  0  1  \n",
       "3           5  0  0  1  \n",
       "4           2  0  0  1  "
      ]
     },
     "execution_count": 61,
     "metadata": {},
     "output_type": "execute_result"
    }
   ],
   "source": [
    "#Normalize 'Embarked' Column\n",
    "\n",
    "embarked_code = pd.get_dummies(data_frame['Embarked'])\n",
    "data_frame = data_frame.drop('Embarked' , axis = 1)\n",
    "data_frame = data_frame.join(embarked_code)\n",
    "data_frame.head()"
   ]
  },
  {
   "cell_type": "code",
   "execution_count": 62,
   "metadata": {},
   "outputs": [
    {
     "data": {
      "text/html": [
       "<div>\n",
       "<style scoped>\n",
       "    .dataframe tbody tr th:only-of-type {\n",
       "        vertical-align: middle;\n",
       "    }\n",
       "\n",
       "    .dataframe tbody tr th {\n",
       "        vertical-align: top;\n",
       "    }\n",
       "\n",
       "    .dataframe thead th {\n",
       "        text-align: right;\n",
       "    }\n",
       "</style>\n",
       "<table border=\"1\" class=\"dataframe\">\n",
       "  <thead>\n",
       "    <tr style=\"text-align: right;\">\n",
       "      <th></th>\n",
       "      <th>Survived</th>\n",
       "      <th>Pclass</th>\n",
       "      <th>Age</th>\n",
       "      <th>SibSp</th>\n",
       "      <th>Parch</th>\n",
       "      <th>Ticket</th>\n",
       "      <th>Fare</th>\n",
       "      <th>Title</th>\n",
       "      <th>FamilySize</th>\n",
       "      <th>C</th>\n",
       "      <th>Q</th>\n",
       "      <th>S</th>\n",
       "      <th>female</th>\n",
       "      <th>male</th>\n",
       "    </tr>\n",
       "  </thead>\n",
       "  <tbody>\n",
       "    <tr>\n",
       "      <th>0</th>\n",
       "      <td>0</td>\n",
       "      <td>2</td>\n",
       "      <td>28.0</td>\n",
       "      <td>0</td>\n",
       "      <td>0</td>\n",
       "      <td>248740</td>\n",
       "      <td>13.0000</td>\n",
       "      <td>Mrs</td>\n",
       "      <td>1</td>\n",
       "      <td>0</td>\n",
       "      <td>0</td>\n",
       "      <td>1</td>\n",
       "      <td>0</td>\n",
       "      <td>1</td>\n",
       "    </tr>\n",
       "    <tr>\n",
       "      <th>1</th>\n",
       "      <td>0</td>\n",
       "      <td>3</td>\n",
       "      <td>25.0</td>\n",
       "      <td>0</td>\n",
       "      <td>0</td>\n",
       "      <td>348123</td>\n",
       "      <td>7.6500</td>\n",
       "      <td>Mrs</td>\n",
       "      <td>1</td>\n",
       "      <td>0</td>\n",
       "      <td>0</td>\n",
       "      <td>1</td>\n",
       "      <td>0</td>\n",
       "      <td>1</td>\n",
       "    </tr>\n",
       "    <tr>\n",
       "      <th>2</th>\n",
       "      <td>0</td>\n",
       "      <td>3</td>\n",
       "      <td>20.0</td>\n",
       "      <td>0</td>\n",
       "      <td>0</td>\n",
       "      <td>350050</td>\n",
       "      <td>7.8542</td>\n",
       "      <td>Mrs</td>\n",
       "      <td>1</td>\n",
       "      <td>0</td>\n",
       "      <td>0</td>\n",
       "      <td>1</td>\n",
       "      <td>0</td>\n",
       "      <td>1</td>\n",
       "    </tr>\n",
       "    <tr>\n",
       "      <th>3</th>\n",
       "      <td>0</td>\n",
       "      <td>3</td>\n",
       "      <td>29.0</td>\n",
       "      <td>0</td>\n",
       "      <td>4</td>\n",
       "      <td>349909</td>\n",
       "      <td>21.0750</td>\n",
       "      <td>Mrs</td>\n",
       "      <td>5</td>\n",
       "      <td>0</td>\n",
       "      <td>0</td>\n",
       "      <td>1</td>\n",
       "      <td>1</td>\n",
       "      <td>0</td>\n",
       "    </tr>\n",
       "    <tr>\n",
       "      <th>4</th>\n",
       "      <td>0</td>\n",
       "      <td>1</td>\n",
       "      <td>31.0</td>\n",
       "      <td>1</td>\n",
       "      <td>0</td>\n",
       "      <td>F.C. 12750</td>\n",
       "      <td>52.0000</td>\n",
       "      <td>Mrs</td>\n",
       "      <td>2</td>\n",
       "      <td>0</td>\n",
       "      <td>0</td>\n",
       "      <td>1</td>\n",
       "      <td>0</td>\n",
       "      <td>1</td>\n",
       "    </tr>\n",
       "  </tbody>\n",
       "</table>\n",
       "</div>"
      ],
      "text/plain": [
       "   Survived  Pclass   Age  SibSp  Parch      Ticket     Fare Title  \\\n",
       "0         0       2  28.0      0      0      248740  13.0000   Mrs   \n",
       "1         0       3  25.0      0      0      348123   7.6500   Mrs   \n",
       "2         0       3  20.0      0      0      350050   7.8542   Mrs   \n",
       "3         0       3  29.0      0      4      349909  21.0750   Mrs   \n",
       "4         0       1  31.0      1      0  F.C. 12750  52.0000   Mrs   \n",
       "\n",
       "   FamilySize  C  Q  S  female  male  \n",
       "0           1  0  0  1       0     1  \n",
       "1           1  0  0  1       0     1  \n",
       "2           1  0  0  1       0     1  \n",
       "3           5  0  0  1       1     0  \n",
       "4           2  0  0  1       0     1  "
      ]
     },
     "execution_count": 62,
     "metadata": {},
     "output_type": "execute_result"
    }
   ],
   "source": [
    "#Normalize 'Sex' Column\n",
    "\n",
    "embarked_code = pd.get_dummies(data_frame['Sex'])\n",
    "data_frame = data_frame.drop('Sex' , axis = 1)\n",
    "data_frame = data_frame.join(embarked_code)\n",
    "data_frame.head()"
   ]
  },
  {
   "cell_type": "code",
   "execution_count": 63,
   "metadata": {},
   "outputs": [
    {
     "data": {
      "text/html": [
       "<div>\n",
       "<style scoped>\n",
       "    .dataframe tbody tr th:only-of-type {\n",
       "        vertical-align: middle;\n",
       "    }\n",
       "\n",
       "    .dataframe tbody tr th {\n",
       "        vertical-align: top;\n",
       "    }\n",
       "\n",
       "    .dataframe thead th {\n",
       "        text-align: right;\n",
       "    }\n",
       "</style>\n",
       "<table border=\"1\" class=\"dataframe\">\n",
       "  <thead>\n",
       "    <tr style=\"text-align: right;\">\n",
       "      <th></th>\n",
       "      <th>Survived</th>\n",
       "      <th>Pclass</th>\n",
       "      <th>Age</th>\n",
       "      <th>SibSp</th>\n",
       "      <th>Parch</th>\n",
       "      <th>Fare</th>\n",
       "      <th>Title</th>\n",
       "      <th>FamilySize</th>\n",
       "      <th>C</th>\n",
       "      <th>Q</th>\n",
       "      <th>S</th>\n",
       "      <th>female</th>\n",
       "      <th>male</th>\n",
       "    </tr>\n",
       "  </thead>\n",
       "  <tbody>\n",
       "    <tr>\n",
       "      <th>0</th>\n",
       "      <td>0</td>\n",
       "      <td>2</td>\n",
       "      <td>28.0</td>\n",
       "      <td>0</td>\n",
       "      <td>0</td>\n",
       "      <td>13.0000</td>\n",
       "      <td>Mrs</td>\n",
       "      <td>1</td>\n",
       "      <td>0</td>\n",
       "      <td>0</td>\n",
       "      <td>1</td>\n",
       "      <td>0</td>\n",
       "      <td>1</td>\n",
       "    </tr>\n",
       "    <tr>\n",
       "      <th>1</th>\n",
       "      <td>0</td>\n",
       "      <td>3</td>\n",
       "      <td>25.0</td>\n",
       "      <td>0</td>\n",
       "      <td>0</td>\n",
       "      <td>7.6500</td>\n",
       "      <td>Mrs</td>\n",
       "      <td>1</td>\n",
       "      <td>0</td>\n",
       "      <td>0</td>\n",
       "      <td>1</td>\n",
       "      <td>0</td>\n",
       "      <td>1</td>\n",
       "    </tr>\n",
       "    <tr>\n",
       "      <th>2</th>\n",
       "      <td>0</td>\n",
       "      <td>3</td>\n",
       "      <td>20.0</td>\n",
       "      <td>0</td>\n",
       "      <td>0</td>\n",
       "      <td>7.8542</td>\n",
       "      <td>Mrs</td>\n",
       "      <td>1</td>\n",
       "      <td>0</td>\n",
       "      <td>0</td>\n",
       "      <td>1</td>\n",
       "      <td>0</td>\n",
       "      <td>1</td>\n",
       "    </tr>\n",
       "    <tr>\n",
       "      <th>3</th>\n",
       "      <td>0</td>\n",
       "      <td>3</td>\n",
       "      <td>29.0</td>\n",
       "      <td>0</td>\n",
       "      <td>4</td>\n",
       "      <td>21.0750</td>\n",
       "      <td>Mrs</td>\n",
       "      <td>5</td>\n",
       "      <td>0</td>\n",
       "      <td>0</td>\n",
       "      <td>1</td>\n",
       "      <td>1</td>\n",
       "      <td>0</td>\n",
       "    </tr>\n",
       "    <tr>\n",
       "      <th>4</th>\n",
       "      <td>0</td>\n",
       "      <td>1</td>\n",
       "      <td>31.0</td>\n",
       "      <td>1</td>\n",
       "      <td>0</td>\n",
       "      <td>52.0000</td>\n",
       "      <td>Mrs</td>\n",
       "      <td>2</td>\n",
       "      <td>0</td>\n",
       "      <td>0</td>\n",
       "      <td>1</td>\n",
       "      <td>0</td>\n",
       "      <td>1</td>\n",
       "    </tr>\n",
       "  </tbody>\n",
       "</table>\n",
       "</div>"
      ],
      "text/plain": [
       "   Survived  Pclass   Age  SibSp  Parch     Fare Title  FamilySize  C  Q  S  \\\n",
       "0         0       2  28.0      0      0  13.0000   Mrs           1  0  0  1   \n",
       "1         0       3  25.0      0      0   7.6500   Mrs           1  0  0  1   \n",
       "2         0       3  20.0      0      0   7.8542   Mrs           1  0  0  1   \n",
       "3         0       3  29.0      0      4  21.0750   Mrs           5  0  0  1   \n",
       "4         0       1  31.0      1      0  52.0000   Mrs           2  0  0  1   \n",
       "\n",
       "   female  male  \n",
       "0       0     1  \n",
       "1       0     1  \n",
       "2       0     1  \n",
       "3       1     0  \n",
       "4       0     1  "
      ]
     },
     "execution_count": 63,
     "metadata": {},
     "output_type": "execute_result"
    }
   ],
   "source": [
    "#Drop 'Ticket' Column\n",
    "\n",
    "data_frame.drop('Ticket', axis=1, inplace=True)\n",
    "data_frame.head()"
   ]
  },
  {
   "cell_type": "code",
   "execution_count": 64,
   "metadata": {},
   "outputs": [
    {
     "data": {
      "text/html": [
       "<div>\n",
       "<style scoped>\n",
       "    .dataframe tbody tr th:only-of-type {\n",
       "        vertical-align: middle;\n",
       "    }\n",
       "\n",
       "    .dataframe tbody tr th {\n",
       "        vertical-align: top;\n",
       "    }\n",
       "\n",
       "    .dataframe thead th {\n",
       "        text-align: right;\n",
       "    }\n",
       "</style>\n",
       "<table border=\"1\" class=\"dataframe\">\n",
       "  <thead>\n",
       "    <tr style=\"text-align: right;\">\n",
       "      <th></th>\n",
       "      <th>Survived</th>\n",
       "      <th>Pclass</th>\n",
       "      <th>Age</th>\n",
       "      <th>SibSp</th>\n",
       "      <th>Parch</th>\n",
       "      <th>Fare</th>\n",
       "      <th>Title</th>\n",
       "      <th>FamilySize</th>\n",
       "      <th>C</th>\n",
       "      <th>Q</th>\n",
       "      <th>S</th>\n",
       "      <th>female</th>\n",
       "      <th>male</th>\n",
       "      <th>Age2</th>\n",
       "    </tr>\n",
       "  </thead>\n",
       "  <tbody>\n",
       "    <tr>\n",
       "      <th>0</th>\n",
       "      <td>0</td>\n",
       "      <td>2</td>\n",
       "      <td>28.0</td>\n",
       "      <td>0</td>\n",
       "      <td>0</td>\n",
       "      <td>13.0000</td>\n",
       "      <td>Mrs</td>\n",
       "      <td>1</td>\n",
       "      <td>0</td>\n",
       "      <td>0</td>\n",
       "      <td>1</td>\n",
       "      <td>0</td>\n",
       "      <td>1</td>\n",
       "      <td>0.346569</td>\n",
       "    </tr>\n",
       "    <tr>\n",
       "      <th>1</th>\n",
       "      <td>0</td>\n",
       "      <td>3</td>\n",
       "      <td>25.0</td>\n",
       "      <td>0</td>\n",
       "      <td>0</td>\n",
       "      <td>7.6500</td>\n",
       "      <td>Mrs</td>\n",
       "      <td>1</td>\n",
       "      <td>0</td>\n",
       "      <td>0</td>\n",
       "      <td>1</td>\n",
       "      <td>0</td>\n",
       "      <td>1</td>\n",
       "      <td>0.308872</td>\n",
       "    </tr>\n",
       "    <tr>\n",
       "      <th>2</th>\n",
       "      <td>0</td>\n",
       "      <td>3</td>\n",
       "      <td>20.0</td>\n",
       "      <td>0</td>\n",
       "      <td>0</td>\n",
       "      <td>7.8542</td>\n",
       "      <td>Mrs</td>\n",
       "      <td>1</td>\n",
       "      <td>0</td>\n",
       "      <td>0</td>\n",
       "      <td>1</td>\n",
       "      <td>0</td>\n",
       "      <td>1</td>\n",
       "      <td>0.246042</td>\n",
       "    </tr>\n",
       "    <tr>\n",
       "      <th>3</th>\n",
       "      <td>0</td>\n",
       "      <td>3</td>\n",
       "      <td>29.0</td>\n",
       "      <td>0</td>\n",
       "      <td>4</td>\n",
       "      <td>21.0750</td>\n",
       "      <td>Mrs</td>\n",
       "      <td>5</td>\n",
       "      <td>0</td>\n",
       "      <td>0</td>\n",
       "      <td>1</td>\n",
       "      <td>1</td>\n",
       "      <td>0</td>\n",
       "      <td>0.359135</td>\n",
       "    </tr>\n",
       "    <tr>\n",
       "      <th>4</th>\n",
       "      <td>0</td>\n",
       "      <td>1</td>\n",
       "      <td>31.0</td>\n",
       "      <td>1</td>\n",
       "      <td>0</td>\n",
       "      <td>52.0000</td>\n",
       "      <td>Mrs</td>\n",
       "      <td>2</td>\n",
       "      <td>0</td>\n",
       "      <td>0</td>\n",
       "      <td>1</td>\n",
       "      <td>0</td>\n",
       "      <td>1</td>\n",
       "      <td>0.384267</td>\n",
       "    </tr>\n",
       "  </tbody>\n",
       "</table>\n",
       "</div>"
      ],
      "text/plain": [
       "   Survived  Pclass   Age  SibSp  Parch     Fare Title  FamilySize  C  Q  S  \\\n",
       "0         0       2  28.0      0      0  13.0000   Mrs           1  0  0  1   \n",
       "1         0       3  25.0      0      0   7.6500   Mrs           1  0  0  1   \n",
       "2         0       3  20.0      0      0   7.8542   Mrs           1  0  0  1   \n",
       "3         0       3  29.0      0      4  21.0750   Mrs           5  0  0  1   \n",
       "4         0       1  31.0      1      0  52.0000   Mrs           2  0  0  1   \n",
       "\n",
       "   female  male      Age2  \n",
       "0       0     1  0.346569  \n",
       "1       0     1  0.308872  \n",
       "2       0     1  0.246042  \n",
       "3       1     0  0.359135  \n",
       "4       0     1  0.384267  "
      ]
     },
     "execution_count": 64,
     "metadata": {},
     "output_type": "execute_result"
    }
   ],
   "source": [
    "#Standardize 'Age' Column with MinMaxScaler\n",
    "\n",
    "scaler = preprocessing.MinMaxScaler()\n",
    "scaler.fit(data_frame[['Age']])\n",
    "data_frame[\"Age2\"] = scaler.fit_transform(data_frame[['Age']])\n",
    "data_frame.head()"
   ]
  },
  {
   "cell_type": "code",
   "execution_count": 65,
   "metadata": {},
   "outputs": [
    {
     "data": {
      "text/html": [
       "<div>\n",
       "<style scoped>\n",
       "    .dataframe tbody tr th:only-of-type {\n",
       "        vertical-align: middle;\n",
       "    }\n",
       "\n",
       "    .dataframe tbody tr th {\n",
       "        vertical-align: top;\n",
       "    }\n",
       "\n",
       "    .dataframe thead th {\n",
       "        text-align: right;\n",
       "    }\n",
       "</style>\n",
       "<table border=\"1\" class=\"dataframe\">\n",
       "  <thead>\n",
       "    <tr style=\"text-align: right;\">\n",
       "      <th></th>\n",
       "      <th>Survived</th>\n",
       "      <th>Pclass</th>\n",
       "      <th>SibSp</th>\n",
       "      <th>Parch</th>\n",
       "      <th>Fare</th>\n",
       "      <th>Title</th>\n",
       "      <th>FamilySize</th>\n",
       "      <th>C</th>\n",
       "      <th>Q</th>\n",
       "      <th>S</th>\n",
       "      <th>female</th>\n",
       "      <th>male</th>\n",
       "      <th>Age</th>\n",
       "    </tr>\n",
       "  </thead>\n",
       "  <tbody>\n",
       "    <tr>\n",
       "      <th>0</th>\n",
       "      <td>0</td>\n",
       "      <td>2</td>\n",
       "      <td>0</td>\n",
       "      <td>0</td>\n",
       "      <td>13.0000</td>\n",
       "      <td>Mrs</td>\n",
       "      <td>1</td>\n",
       "      <td>0</td>\n",
       "      <td>0</td>\n",
       "      <td>1</td>\n",
       "      <td>0</td>\n",
       "      <td>1</td>\n",
       "      <td>0.346569</td>\n",
       "    </tr>\n",
       "    <tr>\n",
       "      <th>1</th>\n",
       "      <td>0</td>\n",
       "      <td>3</td>\n",
       "      <td>0</td>\n",
       "      <td>0</td>\n",
       "      <td>7.6500</td>\n",
       "      <td>Mrs</td>\n",
       "      <td>1</td>\n",
       "      <td>0</td>\n",
       "      <td>0</td>\n",
       "      <td>1</td>\n",
       "      <td>0</td>\n",
       "      <td>1</td>\n",
       "      <td>0.308872</td>\n",
       "    </tr>\n",
       "    <tr>\n",
       "      <th>2</th>\n",
       "      <td>0</td>\n",
       "      <td>3</td>\n",
       "      <td>0</td>\n",
       "      <td>0</td>\n",
       "      <td>7.8542</td>\n",
       "      <td>Mrs</td>\n",
       "      <td>1</td>\n",
       "      <td>0</td>\n",
       "      <td>0</td>\n",
       "      <td>1</td>\n",
       "      <td>0</td>\n",
       "      <td>1</td>\n",
       "      <td>0.246042</td>\n",
       "    </tr>\n",
       "    <tr>\n",
       "      <th>3</th>\n",
       "      <td>0</td>\n",
       "      <td>3</td>\n",
       "      <td>0</td>\n",
       "      <td>4</td>\n",
       "      <td>21.0750</td>\n",
       "      <td>Mrs</td>\n",
       "      <td>5</td>\n",
       "      <td>0</td>\n",
       "      <td>0</td>\n",
       "      <td>1</td>\n",
       "      <td>1</td>\n",
       "      <td>0</td>\n",
       "      <td>0.359135</td>\n",
       "    </tr>\n",
       "    <tr>\n",
       "      <th>4</th>\n",
       "      <td>0</td>\n",
       "      <td>1</td>\n",
       "      <td>1</td>\n",
       "      <td>0</td>\n",
       "      <td>52.0000</td>\n",
       "      <td>Mrs</td>\n",
       "      <td>2</td>\n",
       "      <td>0</td>\n",
       "      <td>0</td>\n",
       "      <td>1</td>\n",
       "      <td>0</td>\n",
       "      <td>1</td>\n",
       "      <td>0.384267</td>\n",
       "    </tr>\n",
       "  </tbody>\n",
       "</table>\n",
       "</div>"
      ],
      "text/plain": [
       "   Survived  Pclass  SibSp  Parch     Fare Title  FamilySize  C  Q  S  female  \\\n",
       "0         0       2      0      0  13.0000   Mrs           1  0  0  1       0   \n",
       "1         0       3      0      0   7.6500   Mrs           1  0  0  1       0   \n",
       "2         0       3      0      0   7.8542   Mrs           1  0  0  1       0   \n",
       "3         0       3      0      4  21.0750   Mrs           5  0  0  1       1   \n",
       "4         0       1      1      0  52.0000   Mrs           2  0  0  1       0   \n",
       "\n",
       "   male       Age  \n",
       "0     1  0.346569  \n",
       "1     1  0.308872  \n",
       "2     1  0.246042  \n",
       "3     0  0.359135  \n",
       "4     1  0.384267  "
      ]
     },
     "execution_count": 65,
     "metadata": {},
     "output_type": "execute_result"
    }
   ],
   "source": [
    "data_frame.drop('Age' , axis = 1 , inplace = True)\n",
    "data_frame.rename(columns={'Age2': 'Age'} , inplace=True)\n",
    "data_frame.head()"
   ]
  },
  {
   "cell_type": "code",
   "execution_count": 66,
   "metadata": {},
   "outputs": [
    {
     "data": {
      "text/plain": [
       "Mrs        642\n",
       "Miss       184\n",
       "Master      40\n",
       "Officer     18\n",
       "Royalty      5\n",
       "Name: Title, dtype: int64"
      ]
     },
     "execution_count": 66,
     "metadata": {},
     "output_type": "execute_result"
    }
   ],
   "source": [
    "data_frame['Title'].value_counts()"
   ]
  },
  {
   "cell_type": "code",
   "execution_count": 67,
   "metadata": {},
   "outputs": [],
   "source": [
    "#Feature Transformation\n",
    "\n",
    "data_frame[\"Title\"].replace([\"Mrs\", \"Miss\", \"Master\", \"Officer\", \"Royalty\"], [0, 1, 2, 3, 4], inplace = True)"
   ]
  },
  {
   "cell_type": "code",
   "execution_count": 68,
   "metadata": {},
   "outputs": [
    {
     "data": {
      "text/html": [
       "<div>\n",
       "<style scoped>\n",
       "    .dataframe tbody tr th:only-of-type {\n",
       "        vertical-align: middle;\n",
       "    }\n",
       "\n",
       "    .dataframe tbody tr th {\n",
       "        vertical-align: top;\n",
       "    }\n",
       "\n",
       "    .dataframe thead th {\n",
       "        text-align: right;\n",
       "    }\n",
       "</style>\n",
       "<table border=\"1\" class=\"dataframe\">\n",
       "  <thead>\n",
       "    <tr style=\"text-align: right;\">\n",
       "      <th></th>\n",
       "      <th>Survived</th>\n",
       "      <th>Pclass</th>\n",
       "      <th>SibSp</th>\n",
       "      <th>Parch</th>\n",
       "      <th>Fare</th>\n",
       "      <th>Title</th>\n",
       "      <th>FamilySize</th>\n",
       "      <th>C</th>\n",
       "      <th>Q</th>\n",
       "      <th>S</th>\n",
       "      <th>female</th>\n",
       "      <th>male</th>\n",
       "      <th>Age</th>\n",
       "    </tr>\n",
       "  </thead>\n",
       "  <tbody>\n",
       "    <tr>\n",
       "      <th>0</th>\n",
       "      <td>0</td>\n",
       "      <td>2</td>\n",
       "      <td>0</td>\n",
       "      <td>0</td>\n",
       "      <td>13.0000</td>\n",
       "      <td>0</td>\n",
       "      <td>1</td>\n",
       "      <td>0</td>\n",
       "      <td>0</td>\n",
       "      <td>1</td>\n",
       "      <td>0</td>\n",
       "      <td>1</td>\n",
       "      <td>0.346569</td>\n",
       "    </tr>\n",
       "    <tr>\n",
       "      <th>1</th>\n",
       "      <td>0</td>\n",
       "      <td>3</td>\n",
       "      <td>0</td>\n",
       "      <td>0</td>\n",
       "      <td>7.6500</td>\n",
       "      <td>0</td>\n",
       "      <td>1</td>\n",
       "      <td>0</td>\n",
       "      <td>0</td>\n",
       "      <td>1</td>\n",
       "      <td>0</td>\n",
       "      <td>1</td>\n",
       "      <td>0.308872</td>\n",
       "    </tr>\n",
       "    <tr>\n",
       "      <th>2</th>\n",
       "      <td>0</td>\n",
       "      <td>3</td>\n",
       "      <td>0</td>\n",
       "      <td>0</td>\n",
       "      <td>7.8542</td>\n",
       "      <td>0</td>\n",
       "      <td>1</td>\n",
       "      <td>0</td>\n",
       "      <td>0</td>\n",
       "      <td>1</td>\n",
       "      <td>0</td>\n",
       "      <td>1</td>\n",
       "      <td>0.246042</td>\n",
       "    </tr>\n",
       "    <tr>\n",
       "      <th>3</th>\n",
       "      <td>0</td>\n",
       "      <td>3</td>\n",
       "      <td>0</td>\n",
       "      <td>4</td>\n",
       "      <td>21.0750</td>\n",
       "      <td>0</td>\n",
       "      <td>5</td>\n",
       "      <td>0</td>\n",
       "      <td>0</td>\n",
       "      <td>1</td>\n",
       "      <td>1</td>\n",
       "      <td>0</td>\n",
       "      <td>0.359135</td>\n",
       "    </tr>\n",
       "    <tr>\n",
       "      <th>4</th>\n",
       "      <td>0</td>\n",
       "      <td>1</td>\n",
       "      <td>1</td>\n",
       "      <td>0</td>\n",
       "      <td>52.0000</td>\n",
       "      <td>0</td>\n",
       "      <td>2</td>\n",
       "      <td>0</td>\n",
       "      <td>0</td>\n",
       "      <td>1</td>\n",
       "      <td>0</td>\n",
       "      <td>1</td>\n",
       "      <td>0.384267</td>\n",
       "    </tr>\n",
       "  </tbody>\n",
       "</table>\n",
       "</div>"
      ],
      "text/plain": [
       "   Survived  Pclass  SibSp  Parch     Fare  Title  FamilySize  C  Q  S  \\\n",
       "0         0       2      0      0  13.0000      0           1  0  0  1   \n",
       "1         0       3      0      0   7.6500      0           1  0  0  1   \n",
       "2         0       3      0      0   7.8542      0           1  0  0  1   \n",
       "3         0       3      0      4  21.0750      0           5  0  0  1   \n",
       "4         0       1      1      0  52.0000      0           2  0  0  1   \n",
       "\n",
       "   female  male       Age  \n",
       "0       0     1  0.346569  \n",
       "1       0     1  0.308872  \n",
       "2       0     1  0.246042  \n",
       "3       1     0  0.359135  \n",
       "4       0     1  0.384267  "
      ]
     },
     "execution_count": 68,
     "metadata": {},
     "output_type": "execute_result"
    }
   ],
   "source": [
    "data_frame.head()"
   ]
  }
 ],
 "metadata": {
  "kernelspec": {
   "display_name": "Python 3",
   "language": "python",
   "name": "python3"
  },
  "language_info": {
   "codemirror_mode": {
    "name": "ipython",
    "version": 3
   },
   "file_extension": ".py",
   "mimetype": "text/x-python",
   "name": "python",
   "nbconvert_exporter": "python",
   "pygments_lexer": "ipython3",
   "version": "3.8.5"
  }
 },
 "nbformat": 4,
 "nbformat_minor": 4
}
